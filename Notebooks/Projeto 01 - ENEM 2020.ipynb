{
 "cells": [
  {
   "cell_type": "markdown",
   "id": "8a65ee22",
   "metadata": {},
   "source": [
    "# Projeto 1 - Análise Exploratória de Dados"
   ]
  },
  {
   "cell_type": "markdown",
   "id": "e11754c1",
   "metadata": {},
   "source": [
    "## <a>Motivação</a>\n",
    "\n",
    "Todo trabalho de Ciência de Dados passa por essa importante etapa. Conhecer bem os dados, saber as distribuições, medidas estatísticas principais, visualizar correlações e evoluções é essencial para gerar insights e solucionar problemas.\n",
    "\n",
    "Essa etapa é bem *híbrida* no sentido em que pode ser utilizada sem um objetivo completamente definido, numa busca por informações e insights. De outro lado, num projeto com objetivo de negócio bem definido (fase 1 do CRISP-DM), ela é bem focalizada nas perguntas de negócio que queremos responder"
   ]
  },
  {
   "cell_type": "markdown",
   "id": "02e095d4",
   "metadata": {},
   "source": [
    "## <a>Objeto de Estudo</a>\n",
    "Vamos trabalhar com informações de microdados no ENEM realizado em 2020. De acordo com o site do [INEP](https://www.gov.br/inep/pt-br/areas-de-atuacao/avaliacao-e-exames-educacionais/enem), o ENEM tem o objetivo de avaliar o desempenho escolar dos estudantes ao término da educação básica. As notas do Enem podem ser usadas para acesso ao Sistema de Seleção Unificada (Sisu) e ao Programa Universidade para Todos (ProUni). Elas também são aceitas em mais de 50 instituições de educação superior portuguesas. Além disso, os participantes do Enem podem pleitear financiamento estudantil em programas do governo, como o Fundo de Financiamento Estudantil (Fies). Os resultados do Enem possibilitam, ainda, o desenvolvimento de estudos e indicadores educacionais.[1](https://www.gov.br/inep/pt-br/areas-de-atuacao/avaliacao-e-exames-educacionais/enem)\n",
    "\n",
    "Conhecer bem os dados dos aplicantes para a prova pode fornecer insights preciosos para a educação brasileira. Para o presente estudo vamos avaliar se dados demográficos, indicadores sociais, de escolaridade dos pais e outras indicações tem correlações com as notas dos candidatos. Muitos insights e respostas podem ser obtidas somente com a análise exploratória de dados.\n",
    "\n",
    "<b>Fonte dos dados</b>\n",
    "https://www.gov.br/inep/pt-br/acesso-a-informacao/dados-abertos/microdados/enem"
   ]
  },
  {
   "cell_type": "code",
   "execution_count": 1,
   "id": "97b54b8d",
   "metadata": {},
   "outputs": [],
   "source": [
    "# Bibliotecas para leitura de dados e criacao de graficos\n",
    "import pandas as pd\n",
    "import seaborn as sns\n",
    "from matplotlib import pyplot as plt\n",
    "import os\n",
    "\n",
    "# configurando pandas para mostrar todas as linhas e colunas\n",
    "pd.set_option('display.max_rows', None)\n",
    "pd.set_option('display.max_columns', None)\n",
    "\n",
    "# configurando pandas para nao mostrar notacao cientifica para numeros\n",
    "pd.set_option('display.float_format', lambda x: '%.2f' % x)"
   ]
  },
  {
   "cell_type": "code",
   "execution_count": 2,
   "id": "bd3d5c87",
   "metadata": {},
   "outputs": [],
   "source": [
    "# instalando pyarrow para converter em Parquet\n",
    "#!pip install pyarrow"
   ]
  },
  {
   "cell_type": "code",
   "execution_count": 3,
   "id": "0c3539a4",
   "metadata": {},
   "outputs": [],
   "source": [
    "# Convertendo csv em parquet\n",
    "#df_enem_csv = pd.read_csv('./dadosEnem/enem2020.csv', sep=';', encoding='latin1')\n",
    "#df_enem_csv.to_parquet('./dadosEnem/enem2020.parquet')\n",
    "# Deixarei comentado pois o arquivo ja foi gerado"
   ]
  },
  {
   "cell_type": "code",
   "execution_count": 4,
   "id": "daca7467",
   "metadata": {},
   "outputs": [
    {
     "data": {
      "text/plain": [
       "(5783109, 76)"
      ]
     },
     "execution_count": 4,
     "metadata": {},
     "output_type": "execute_result"
    }
   ],
   "source": [
    "df_enem = pd.read_parquet('./dadosEnem/enem2020.parquet')\n",
    "df_enem.shape"
   ]
  },
  {
   "cell_type": "code",
   "execution_count": 5,
   "id": "972fb8c7",
   "metadata": {},
   "outputs": [
    {
     "data": {
      "text/plain": [
       "(578310, 76)"
      ]
     },
     "execution_count": 5,
     "metadata": {},
     "output_type": "execute_result"
    }
   ],
   "source": [
    "# Caso nao tenha muita memoria:\n",
    "df_enem_simples = df_enem.sample(n=len(df_enem)//10, random_state=42, replace=False)\n",
    "df_enem_simples.shape"
   ]
  },
  {
   "cell_type": "code",
   "execution_count": 8,
   "id": "d8b73189",
   "metadata": {},
   "outputs": [],
   "source": [
    "# salvando esse arquivo menor, com 10%\n",
    "df_enem_simples.to_parquet('./dadosEnem/enem_2020_amostra_10.parquet')"
   ]
  },
  {
   "cell_type": "code",
   "execution_count": 6,
   "id": "91ea9896",
   "metadata": {},
   "outputs": [
    {
     "data": {
      "text/html": [
       "<div>\n",
       "<style scoped>\n",
       "    .dataframe tbody tr th:only-of-type {\n",
       "        vertical-align: middle;\n",
       "    }\n",
       "\n",
       "    .dataframe tbody tr th {\n",
       "        vertical-align: top;\n",
       "    }\n",
       "\n",
       "    .dataframe thead th {\n",
       "        text-align: right;\n",
       "    }\n",
       "</style>\n",
       "<table border=\"1\" class=\"dataframe\">\n",
       "  <thead>\n",
       "    <tr style=\"text-align: right;\">\n",
       "      <th></th>\n",
       "      <th>NU_INSCRICAO</th>\n",
       "      <th>NU_ANO</th>\n",
       "      <th>TP_FAIXA_ETARIA</th>\n",
       "      <th>TP_SEXO</th>\n",
       "      <th>TP_ESTADO_CIVIL</th>\n",
       "      <th>TP_COR_RACA</th>\n",
       "      <th>TP_NACIONALIDADE</th>\n",
       "      <th>TP_ST_CONCLUSAO</th>\n",
       "      <th>TP_ANO_CONCLUIU</th>\n",
       "      <th>TP_ESCOLA</th>\n",
       "      <th>TP_ENSINO</th>\n",
       "      <th>IN_TREINEIRO</th>\n",
       "      <th>CO_MUNICIPIO_ESC</th>\n",
       "      <th>NO_MUNICIPIO_ESC</th>\n",
       "      <th>CO_UF_ESC</th>\n",
       "      <th>SG_UF_ESC</th>\n",
       "      <th>TP_DEPENDENCIA_ADM_ESC</th>\n",
       "      <th>TP_LOCALIZACAO_ESC</th>\n",
       "      <th>TP_SIT_FUNC_ESC</th>\n",
       "      <th>CO_MUNICIPIO_PROVA</th>\n",
       "      <th>NO_MUNICIPIO_PROVA</th>\n",
       "      <th>CO_UF_PROVA</th>\n",
       "      <th>SG_UF_PROVA</th>\n",
       "      <th>TP_PRESENCA_CN</th>\n",
       "      <th>TP_PRESENCA_CH</th>\n",
       "      <th>TP_PRESENCA_LC</th>\n",
       "      <th>TP_PRESENCA_MT</th>\n",
       "      <th>CO_PROVA_CN</th>\n",
       "      <th>CO_PROVA_CH</th>\n",
       "      <th>CO_PROVA_LC</th>\n",
       "      <th>CO_PROVA_MT</th>\n",
       "      <th>NU_NOTA_CN</th>\n",
       "      <th>NU_NOTA_CH</th>\n",
       "      <th>NU_NOTA_LC</th>\n",
       "      <th>NU_NOTA_MT</th>\n",
       "      <th>TX_RESPOSTAS_CN</th>\n",
       "      <th>TX_RESPOSTAS_CH</th>\n",
       "      <th>TX_RESPOSTAS_LC</th>\n",
       "      <th>TX_RESPOSTAS_MT</th>\n",
       "      <th>TP_LINGUA</th>\n",
       "      <th>TX_GABARITO_CN</th>\n",
       "      <th>TX_GABARITO_CH</th>\n",
       "      <th>TX_GABARITO_LC</th>\n",
       "      <th>TX_GABARITO_MT</th>\n",
       "      <th>TP_STATUS_REDACAO</th>\n",
       "      <th>NU_NOTA_COMP1</th>\n",
       "      <th>NU_NOTA_COMP2</th>\n",
       "      <th>NU_NOTA_COMP3</th>\n",
       "      <th>NU_NOTA_COMP4</th>\n",
       "      <th>NU_NOTA_COMP5</th>\n",
       "      <th>NU_NOTA_REDACAO</th>\n",
       "      <th>Q001</th>\n",
       "      <th>Q002</th>\n",
       "      <th>Q003</th>\n",
       "      <th>Q004</th>\n",
       "      <th>Q005</th>\n",
       "      <th>Q006</th>\n",
       "      <th>Q007</th>\n",
       "      <th>Q008</th>\n",
       "      <th>Q009</th>\n",
       "      <th>Q010</th>\n",
       "      <th>Q011</th>\n",
       "      <th>Q012</th>\n",
       "      <th>Q013</th>\n",
       "      <th>Q014</th>\n",
       "      <th>Q015</th>\n",
       "      <th>Q016</th>\n",
       "      <th>Q017</th>\n",
       "      <th>Q018</th>\n",
       "      <th>Q019</th>\n",
       "      <th>Q020</th>\n",
       "      <th>Q021</th>\n",
       "      <th>Q022</th>\n",
       "      <th>Q023</th>\n",
       "      <th>Q024</th>\n",
       "      <th>Q025</th>\n",
       "    </tr>\n",
       "  </thead>\n",
       "  <tbody>\n",
       "    <tr>\n",
       "      <th>0</th>\n",
       "      <td>200006271946</td>\n",
       "      <td>2020</td>\n",
       "      <td>11</td>\n",
       "      <td>F</td>\n",
       "      <td>1</td>\n",
       "      <td>2</td>\n",
       "      <td>1</td>\n",
       "      <td>1</td>\n",
       "      <td>11</td>\n",
       "      <td>1</td>\n",
       "      <td>NaN</td>\n",
       "      <td>0</td>\n",
       "      <td>NaN</td>\n",
       "      <td>None</td>\n",
       "      <td>NaN</td>\n",
       "      <td>None</td>\n",
       "      <td>NaN</td>\n",
       "      <td>NaN</td>\n",
       "      <td>NaN</td>\n",
       "      <td>1501402</td>\n",
       "      <td>Belém</td>\n",
       "      <td>15</td>\n",
       "      <td>PA</td>\n",
       "      <td>0</td>\n",
       "      <td>0</td>\n",
       "      <td>0</td>\n",
       "      <td>0</td>\n",
       "      <td>NaN</td>\n",
       "      <td>NaN</td>\n",
       "      <td>NaN</td>\n",
       "      <td>NaN</td>\n",
       "      <td>NaN</td>\n",
       "      <td>NaN</td>\n",
       "      <td>NaN</td>\n",
       "      <td>NaN</td>\n",
       "      <td>None</td>\n",
       "      <td>None</td>\n",
       "      <td>None</td>\n",
       "      <td>None</td>\n",
       "      <td>1</td>\n",
       "      <td>None</td>\n",
       "      <td>None</td>\n",
       "      <td>None</td>\n",
       "      <td>None</td>\n",
       "      <td>NaN</td>\n",
       "      <td>NaN</td>\n",
       "      <td>NaN</td>\n",
       "      <td>NaN</td>\n",
       "      <td>NaN</td>\n",
       "      <td>NaN</td>\n",
       "      <td>NaN</td>\n",
       "      <td>None</td>\n",
       "      <td>None</td>\n",
       "      <td>None</td>\n",
       "      <td>None</td>\n",
       "      <td>NaN</td>\n",
       "      <td>None</td>\n",
       "      <td>None</td>\n",
       "      <td>None</td>\n",
       "      <td>None</td>\n",
       "      <td>None</td>\n",
       "      <td>None</td>\n",
       "      <td>None</td>\n",
       "      <td>None</td>\n",
       "      <td>None</td>\n",
       "      <td>None</td>\n",
       "      <td>None</td>\n",
       "      <td>None</td>\n",
       "      <td>None</td>\n",
       "      <td>None</td>\n",
       "      <td>None</td>\n",
       "      <td>None</td>\n",
       "      <td>None</td>\n",
       "      <td>None</td>\n",
       "      <td>None</td>\n",
       "      <td>None</td>\n",
       "    </tr>\n",
       "    <tr>\n",
       "      <th>1</th>\n",
       "      <td>200001195856</td>\n",
       "      <td>2020</td>\n",
       "      <td>11</td>\n",
       "      <td>M</td>\n",
       "      <td>2</td>\n",
       "      <td>3</td>\n",
       "      <td>1</td>\n",
       "      <td>1</td>\n",
       "      <td>11</td>\n",
       "      <td>1</td>\n",
       "      <td>NaN</td>\n",
       "      <td>0</td>\n",
       "      <td>NaN</td>\n",
       "      <td>None</td>\n",
       "      <td>NaN</td>\n",
       "      <td>None</td>\n",
       "      <td>NaN</td>\n",
       "      <td>NaN</td>\n",
       "      <td>NaN</td>\n",
       "      <td>2408102</td>\n",
       "      <td>Natal</td>\n",
       "      <td>24</td>\n",
       "      <td>RN</td>\n",
       "      <td>1</td>\n",
       "      <td>1</td>\n",
       "      <td>1</td>\n",
       "      <td>1</td>\n",
       "      <td>702.00</td>\n",
       "      <td>689.00</td>\n",
       "      <td>693.00</td>\n",
       "      <td>698.00</td>\n",
       "      <td>604.10</td>\n",
       "      <td>661.70</td>\n",
       "      <td>595.30</td>\n",
       "      <td>711.30</td>\n",
       "      <td>BCBDBDCCCDBDDBADEEACEEAECBECCDBCACDEBEECEBAAE</td>\n",
       "      <td>BCAECABCDCEBDBBBDAABABACBCDDDBDDBABDAADACACBC</td>\n",
       "      <td>99999CADDEDADBAABEAADAAAADCADAABDCCBEECAEECAAC...</td>\n",
       "      <td>EBEBDEDAECBADCADDABACAEDBEEEAEADCCBCEACDACEBB</td>\n",
       "      <td>1</td>\n",
       "      <td>ABBACBCCCDDDDBAEEBECEDACABDCBEDAECDABECCBBADE</td>\n",
       "      <td>BCEECDBCCDEBDBBBBEAAAEACBCDDDBDDBABDABDDBAABC</td>\n",
       "      <td>99999CBDDEDBDBACECABAAAEAECCDCABCBBBBEEDCECAAE...</td>\n",
       "      <td>BBEADECAECBBXCEBADBACAEDACEDADAADCBCCBBDABBEE</td>\n",
       "      <td>1.00</td>\n",
       "      <td>120.00</td>\n",
       "      <td>120.00</td>\n",
       "      <td>120.00</td>\n",
       "      <td>120.00</td>\n",
       "      <td>100.00</td>\n",
       "      <td>580.00</td>\n",
       "      <td>None</td>\n",
       "      <td>None</td>\n",
       "      <td>None</td>\n",
       "      <td>None</td>\n",
       "      <td>NaN</td>\n",
       "      <td>None</td>\n",
       "      <td>None</td>\n",
       "      <td>None</td>\n",
       "      <td>None</td>\n",
       "      <td>None</td>\n",
       "      <td>None</td>\n",
       "      <td>None</td>\n",
       "      <td>None</td>\n",
       "      <td>None</td>\n",
       "      <td>None</td>\n",
       "      <td>None</td>\n",
       "      <td>None</td>\n",
       "      <td>None</td>\n",
       "      <td>None</td>\n",
       "      <td>None</td>\n",
       "      <td>None</td>\n",
       "      <td>None</td>\n",
       "      <td>None</td>\n",
       "      <td>None</td>\n",
       "      <td>None</td>\n",
       "    </tr>\n",
       "    <tr>\n",
       "      <th>2</th>\n",
       "      <td>200001943954</td>\n",
       "      <td>2020</td>\n",
       "      <td>4</td>\n",
       "      <td>F</td>\n",
       "      <td>2</td>\n",
       "      <td>3</td>\n",
       "      <td>2</td>\n",
       "      <td>2</td>\n",
       "      <td>0</td>\n",
       "      <td>2</td>\n",
       "      <td>1.00</td>\n",
       "      <td>0</td>\n",
       "      <td>2927408.00</td>\n",
       "      <td>Salvador</td>\n",
       "      <td>29.00</td>\n",
       "      <td>BA</td>\n",
       "      <td>2.00</td>\n",
       "      <td>1.00</td>\n",
       "      <td>1.00</td>\n",
       "      <td>2927408</td>\n",
       "      <td>Salvador</td>\n",
       "      <td>29</td>\n",
       "      <td>BA</td>\n",
       "      <td>0</td>\n",
       "      <td>0</td>\n",
       "      <td>0</td>\n",
       "      <td>0</td>\n",
       "      <td>NaN</td>\n",
       "      <td>NaN</td>\n",
       "      <td>NaN</td>\n",
       "      <td>NaN</td>\n",
       "      <td>NaN</td>\n",
       "      <td>NaN</td>\n",
       "      <td>NaN</td>\n",
       "      <td>NaN</td>\n",
       "      <td>None</td>\n",
       "      <td>None</td>\n",
       "      <td>None</td>\n",
       "      <td>None</td>\n",
       "      <td>0</td>\n",
       "      <td>None</td>\n",
       "      <td>None</td>\n",
       "      <td>None</td>\n",
       "      <td>None</td>\n",
       "      <td>NaN</td>\n",
       "      <td>NaN</td>\n",
       "      <td>NaN</td>\n",
       "      <td>NaN</td>\n",
       "      <td>NaN</td>\n",
       "      <td>NaN</td>\n",
       "      <td>NaN</td>\n",
       "      <td>B</td>\n",
       "      <td>C</td>\n",
       "      <td>A</td>\n",
       "      <td>D</td>\n",
       "      <td>3.00</td>\n",
       "      <td>B</td>\n",
       "      <td>A</td>\n",
       "      <td>B</td>\n",
       "      <td>A</td>\n",
       "      <td>A</td>\n",
       "      <td>A</td>\n",
       "      <td>B</td>\n",
       "      <td>A</td>\n",
       "      <td>B</td>\n",
       "      <td>A</td>\n",
       "      <td>B</td>\n",
       "      <td>A</td>\n",
       "      <td>A</td>\n",
       "      <td>B</td>\n",
       "      <td>A</td>\n",
       "      <td>A</td>\n",
       "      <td>A</td>\n",
       "      <td>A</td>\n",
       "      <td>A</td>\n",
       "      <td>A</td>\n",
       "    </tr>\n",
       "    <tr>\n",
       "      <th>3</th>\n",
       "      <td>200001908998</td>\n",
       "      <td>2020</td>\n",
       "      <td>2</td>\n",
       "      <td>M</td>\n",
       "      <td>1</td>\n",
       "      <td>3</td>\n",
       "      <td>1</td>\n",
       "      <td>2</td>\n",
       "      <td>0</td>\n",
       "      <td>2</td>\n",
       "      <td>1.00</td>\n",
       "      <td>0</td>\n",
       "      <td>3547304.00</td>\n",
       "      <td>Santana de Parnaíba</td>\n",
       "      <td>35.00</td>\n",
       "      <td>SP</td>\n",
       "      <td>3.00</td>\n",
       "      <td>1.00</td>\n",
       "      <td>1.00</td>\n",
       "      <td>3547304</td>\n",
       "      <td>Santana de Parnaíba</td>\n",
       "      <td>35</td>\n",
       "      <td>SP</td>\n",
       "      <td>1</td>\n",
       "      <td>1</td>\n",
       "      <td>1</td>\n",
       "      <td>1</td>\n",
       "      <td>700.00</td>\n",
       "      <td>688.00</td>\n",
       "      <td>692.00</td>\n",
       "      <td>696.00</td>\n",
       "      <td>620.80</td>\n",
       "      <td>675.00</td>\n",
       "      <td>624.20</td>\n",
       "      <td>759.40</td>\n",
       "      <td>EBEDCCCDCBDBAECAECCECEACCBAABBBCEABCAAAEBEBAE</td>\n",
       "      <td>DABCCACCBCCDCADBDCBAAEBDDBAABDBAEBEBBABDABDBE</td>\n",
       "      <td>DCEAB99999AADAECCEBCDDDCBABDDABBCEEBAEDDDADEBE...</td>\n",
       "      <td>CBDBDCCDDEECBAABBBADEDEDBECDEBBADAEBAABBECBBA</td>\n",
       "      <td>0</td>\n",
       "      <td>BDECCACBEBDEAEDAECCBAEABCCEADDBBCADCBDDEBDBAC</td>\n",
       "      <td>DABCCAECBABECADBDCCABDBCDDAABDBAEBEBBDBDDBDBE</td>\n",
       "      <td>DCEAD99999AADACCCCBBDDCABAECAABBEECBAEDDBBEEBE...</td>\n",
       "      <td>EBDBXCCDAEECBAABABAEDDEDAECBCDCADEEBBABBACBCA</td>\n",
       "      <td>1.00</td>\n",
       "      <td>140.00</td>\n",
       "      <td>200.00</td>\n",
       "      <td>140.00</td>\n",
       "      <td>120.00</td>\n",
       "      <td>160.00</td>\n",
       "      <td>760.00</td>\n",
       "      <td>None</td>\n",
       "      <td>None</td>\n",
       "      <td>None</td>\n",
       "      <td>None</td>\n",
       "      <td>NaN</td>\n",
       "      <td>None</td>\n",
       "      <td>None</td>\n",
       "      <td>None</td>\n",
       "      <td>None</td>\n",
       "      <td>None</td>\n",
       "      <td>None</td>\n",
       "      <td>None</td>\n",
       "      <td>None</td>\n",
       "      <td>None</td>\n",
       "      <td>None</td>\n",
       "      <td>None</td>\n",
       "      <td>None</td>\n",
       "      <td>None</td>\n",
       "      <td>None</td>\n",
       "      <td>None</td>\n",
       "      <td>None</td>\n",
       "      <td>None</td>\n",
       "      <td>None</td>\n",
       "      <td>None</td>\n",
       "      <td>None</td>\n",
       "    </tr>\n",
       "    <tr>\n",
       "      <th>4</th>\n",
       "      <td>200001634757</td>\n",
       "      <td>2020</td>\n",
       "      <td>4</td>\n",
       "      <td>F</td>\n",
       "      <td>1</td>\n",
       "      <td>3</td>\n",
       "      <td>2</td>\n",
       "      <td>1</td>\n",
       "      <td>1</td>\n",
       "      <td>1</td>\n",
       "      <td>NaN</td>\n",
       "      <td>0</td>\n",
       "      <td>NaN</td>\n",
       "      <td>None</td>\n",
       "      <td>NaN</td>\n",
       "      <td>None</td>\n",
       "      <td>NaN</td>\n",
       "      <td>NaN</td>\n",
       "      <td>NaN</td>\n",
       "      <td>3121605</td>\n",
       "      <td>Diamantina</td>\n",
       "      <td>31</td>\n",
       "      <td>MG</td>\n",
       "      <td>0</td>\n",
       "      <td>0</td>\n",
       "      <td>0</td>\n",
       "      <td>0</td>\n",
       "      <td>NaN</td>\n",
       "      <td>NaN</td>\n",
       "      <td>NaN</td>\n",
       "      <td>NaN</td>\n",
       "      <td>NaN</td>\n",
       "      <td>NaN</td>\n",
       "      <td>NaN</td>\n",
       "      <td>NaN</td>\n",
       "      <td>None</td>\n",
       "      <td>None</td>\n",
       "      <td>None</td>\n",
       "      <td>None</td>\n",
       "      <td>1</td>\n",
       "      <td>None</td>\n",
       "      <td>None</td>\n",
       "      <td>None</td>\n",
       "      <td>None</td>\n",
       "      <td>NaN</td>\n",
       "      <td>NaN</td>\n",
       "      <td>NaN</td>\n",
       "      <td>NaN</td>\n",
       "      <td>NaN</td>\n",
       "      <td>NaN</td>\n",
       "      <td>NaN</td>\n",
       "      <td>B</td>\n",
       "      <td>G</td>\n",
       "      <td>B</td>\n",
       "      <td>B</td>\n",
       "      <td>3.00</td>\n",
       "      <td>B</td>\n",
       "      <td>A</td>\n",
       "      <td>B</td>\n",
       "      <td>D</td>\n",
       "      <td>A</td>\n",
       "      <td>A</td>\n",
       "      <td>B</td>\n",
       "      <td>A</td>\n",
       "      <td>B</td>\n",
       "      <td>A</td>\n",
       "      <td>A</td>\n",
       "      <td>A</td>\n",
       "      <td>A</td>\n",
       "      <td>B</td>\n",
       "      <td>A</td>\n",
       "      <td>B</td>\n",
       "      <td>B</td>\n",
       "      <td>A</td>\n",
       "      <td>A</td>\n",
       "      <td>B</td>\n",
       "    </tr>\n",
       "  </tbody>\n",
       "</table>\n",
       "</div>"
      ],
      "text/plain": [
       "   NU_INSCRICAO  NU_ANO  TP_FAIXA_ETARIA TP_SEXO  TP_ESTADO_CIVIL  \\\n",
       "0  200006271946    2020               11       F                1   \n",
       "1  200001195856    2020               11       M                2   \n",
       "2  200001943954    2020                4       F                2   \n",
       "3  200001908998    2020                2       M                1   \n",
       "4  200001634757    2020                4       F                1   \n",
       "\n",
       "   TP_COR_RACA  TP_NACIONALIDADE  TP_ST_CONCLUSAO  TP_ANO_CONCLUIU  TP_ESCOLA  \\\n",
       "0            2                 1                1               11          1   \n",
       "1            3                 1                1               11          1   \n",
       "2            3                 2                2                0          2   \n",
       "3            3                 1                2                0          2   \n",
       "4            3                 2                1                1          1   \n",
       "\n",
       "   TP_ENSINO  IN_TREINEIRO  CO_MUNICIPIO_ESC     NO_MUNICIPIO_ESC  CO_UF_ESC  \\\n",
       "0        NaN             0               NaN                 None        NaN   \n",
       "1        NaN             0               NaN                 None        NaN   \n",
       "2       1.00             0        2927408.00             Salvador      29.00   \n",
       "3       1.00             0        3547304.00  Santana de Parnaíba      35.00   \n",
       "4        NaN             0               NaN                 None        NaN   \n",
       "\n",
       "  SG_UF_ESC  TP_DEPENDENCIA_ADM_ESC  TP_LOCALIZACAO_ESC  TP_SIT_FUNC_ESC  \\\n",
       "0      None                     NaN                 NaN              NaN   \n",
       "1      None                     NaN                 NaN              NaN   \n",
       "2        BA                    2.00                1.00             1.00   \n",
       "3        SP                    3.00                1.00             1.00   \n",
       "4      None                     NaN                 NaN              NaN   \n",
       "\n",
       "   CO_MUNICIPIO_PROVA   NO_MUNICIPIO_PROVA  CO_UF_PROVA SG_UF_PROVA  \\\n",
       "0             1501402                Belém           15          PA   \n",
       "1             2408102                Natal           24          RN   \n",
       "2             2927408             Salvador           29          BA   \n",
       "3             3547304  Santana de Parnaíba           35          SP   \n",
       "4             3121605           Diamantina           31          MG   \n",
       "\n",
       "   TP_PRESENCA_CN  TP_PRESENCA_CH  TP_PRESENCA_LC  TP_PRESENCA_MT  \\\n",
       "0               0               0               0               0   \n",
       "1               1               1               1               1   \n",
       "2               0               0               0               0   \n",
       "3               1               1               1               1   \n",
       "4               0               0               0               0   \n",
       "\n",
       "   CO_PROVA_CN  CO_PROVA_CH  CO_PROVA_LC  CO_PROVA_MT  NU_NOTA_CN  NU_NOTA_CH  \\\n",
       "0          NaN          NaN          NaN          NaN         NaN         NaN   \n",
       "1       702.00       689.00       693.00       698.00      604.10      661.70   \n",
       "2          NaN          NaN          NaN          NaN         NaN         NaN   \n",
       "3       700.00       688.00       692.00       696.00      620.80      675.00   \n",
       "4          NaN          NaN          NaN          NaN         NaN         NaN   \n",
       "\n",
       "   NU_NOTA_LC  NU_NOTA_MT                                TX_RESPOSTAS_CN  \\\n",
       "0         NaN         NaN                                           None   \n",
       "1      595.30      711.30  BCBDBDCCCDBDDBADEEACEEAECBECCDBCACDEBEECEBAAE   \n",
       "2         NaN         NaN                                           None   \n",
       "3      624.20      759.40  EBEDCCCDCBDBAECAECCECEACCBAABBBCEABCAAAEBEBAE   \n",
       "4         NaN         NaN                                           None   \n",
       "\n",
       "                                 TX_RESPOSTAS_CH  \\\n",
       "0                                           None   \n",
       "1  BCAECABCDCEBDBBBDAABABACBCDDDBDDBABDAADACACBC   \n",
       "2                                           None   \n",
       "3  DABCCACCBCCDCADBDCBAAEBDDBAABDBAEBEBBABDABDBE   \n",
       "4                                           None   \n",
       "\n",
       "                                     TX_RESPOSTAS_LC  \\\n",
       "0                                               None   \n",
       "1  99999CADDEDADBAABEAADAAAADCADAABDCCBEECAEECAAC...   \n",
       "2                                               None   \n",
       "3  DCEAB99999AADAECCEBCDDDCBABDDABBCEEBAEDDDADEBE...   \n",
       "4                                               None   \n",
       "\n",
       "                                 TX_RESPOSTAS_MT  TP_LINGUA  \\\n",
       "0                                           None          1   \n",
       "1  EBEBDEDAECBADCADDABACAEDBEEEAEADCCBCEACDACEBB          1   \n",
       "2                                           None          0   \n",
       "3  CBDBDCCDDEECBAABBBADEDEDBECDEBBADAEBAABBECBBA          0   \n",
       "4                                           None          1   \n",
       "\n",
       "                                  TX_GABARITO_CN  \\\n",
       "0                                           None   \n",
       "1  ABBACBCCCDDDDBAEEBECEDACABDCBEDAECDABECCBBADE   \n",
       "2                                           None   \n",
       "3  BDECCACBEBDEAEDAECCBAEABCCEADDBBCADCBDDEBDBAC   \n",
       "4                                           None   \n",
       "\n",
       "                                  TX_GABARITO_CH  \\\n",
       "0                                           None   \n",
       "1  BCEECDBCCDEBDBBBBEAAAEACBCDDDBDDBABDABDDBAABC   \n",
       "2                                           None   \n",
       "3  DABCCAECBABECADBDCCABDBCDDAABDBAEBEBBDBDDBDBE   \n",
       "4                                           None   \n",
       "\n",
       "                                      TX_GABARITO_LC  \\\n",
       "0                                               None   \n",
       "1  99999CBDDEDBDBACECABAAAEAECCDCABCBBBBEEDCECAAE...   \n",
       "2                                               None   \n",
       "3  DCEAD99999AADACCCCBBDDCABAECAABBEECBAEDDBBEEBE...   \n",
       "4                                               None   \n",
       "\n",
       "                                  TX_GABARITO_MT  TP_STATUS_REDACAO  \\\n",
       "0                                           None                NaN   \n",
       "1  BBEADECAECBBXCEBADBACAEDACEDADAADCBCCBBDABBEE               1.00   \n",
       "2                                           None                NaN   \n",
       "3  EBDBXCCDAEECBAABABAEDDEDAECBCDCADEEBBABBACBCA               1.00   \n",
       "4                                           None                NaN   \n",
       "\n",
       "   NU_NOTA_COMP1  NU_NOTA_COMP2  NU_NOTA_COMP3  NU_NOTA_COMP4  NU_NOTA_COMP5  \\\n",
       "0            NaN            NaN            NaN            NaN            NaN   \n",
       "1         120.00         120.00         120.00         120.00         100.00   \n",
       "2            NaN            NaN            NaN            NaN            NaN   \n",
       "3         140.00         200.00         140.00         120.00         160.00   \n",
       "4            NaN            NaN            NaN            NaN            NaN   \n",
       "\n",
       "   NU_NOTA_REDACAO  Q001  Q002  Q003  Q004  Q005  Q006  Q007  Q008  Q009  \\\n",
       "0              NaN  None  None  None  None   NaN  None  None  None  None   \n",
       "1           580.00  None  None  None  None   NaN  None  None  None  None   \n",
       "2              NaN     B     C     A     D  3.00     B     A     B     A   \n",
       "3           760.00  None  None  None  None   NaN  None  None  None  None   \n",
       "4              NaN     B     G     B     B  3.00     B     A     B     D   \n",
       "\n",
       "   Q010  Q011  Q012  Q013  Q014  Q015  Q016  Q017  Q018  Q019  Q020  Q021  \\\n",
       "0  None  None  None  None  None  None  None  None  None  None  None  None   \n",
       "1  None  None  None  None  None  None  None  None  None  None  None  None   \n",
       "2     A     A     B     A     B     A     B     A     A     B     A     A   \n",
       "3  None  None  None  None  None  None  None  None  None  None  None  None   \n",
       "4     A     A     B     A     B     A     A     A     A     B     A     B   \n",
       "\n",
       "   Q022  Q023  Q024  Q025  \n",
       "0  None  None  None  None  \n",
       "1  None  None  None  None  \n",
       "2     A     A     A     A  \n",
       "3  None  None  None  None  \n",
       "4     B     A     A     B  "
      ]
     },
     "execution_count": 6,
     "metadata": {},
     "output_type": "execute_result"
    }
   ],
   "source": [
    "# Visualizando alguns dos dados\n",
    "df_enem.head()"
   ]
  },
  {
   "cell_type": "code",
   "execution_count": 9,
   "id": "8f131777",
   "metadata": {},
   "outputs": [
    {
     "data": {
      "text/plain": [
       "5783109"
      ]
     },
     "execution_count": 9,
     "metadata": {},
     "output_type": "execute_result"
    }
   ],
   "source": [
    "# Checando se cada linha é um candidato\n",
    "len(df_enem['NU_INSCRICAO'].unique())"
   ]
  },
  {
   "cell_type": "code",
   "execution_count": 10,
   "id": "68ff5c53",
   "metadata": {},
   "outputs": [
    {
     "data": {
      "text/plain": [
       "NU_INSCRICAO                int64\n",
       "NU_ANO                      int64\n",
       "TP_FAIXA_ETARIA             int64\n",
       "TP_SEXO                    object\n",
       "TP_ESTADO_CIVIL             int64\n",
       "TP_COR_RACA                 int64\n",
       "TP_NACIONALIDADE            int64\n",
       "TP_ST_CONCLUSAO             int64\n",
       "TP_ANO_CONCLUIU             int64\n",
       "TP_ESCOLA                   int64\n",
       "TP_ENSINO                 float64\n",
       "IN_TREINEIRO                int64\n",
       "CO_MUNICIPIO_ESC          float64\n",
       "NO_MUNICIPIO_ESC           object\n",
       "CO_UF_ESC                 float64\n",
       "SG_UF_ESC                  object\n",
       "TP_DEPENDENCIA_ADM_ESC    float64\n",
       "TP_LOCALIZACAO_ESC        float64\n",
       "TP_SIT_FUNC_ESC           float64\n",
       "CO_MUNICIPIO_PROVA          int64\n",
       "NO_MUNICIPIO_PROVA         object\n",
       "CO_UF_PROVA                 int64\n",
       "SG_UF_PROVA                object\n",
       "TP_PRESENCA_CN              int64\n",
       "TP_PRESENCA_CH              int64\n",
       "TP_PRESENCA_LC              int64\n",
       "TP_PRESENCA_MT              int64\n",
       "CO_PROVA_CN               float64\n",
       "CO_PROVA_CH               float64\n",
       "CO_PROVA_LC               float64\n",
       "CO_PROVA_MT               float64\n",
       "NU_NOTA_CN                float64\n",
       "NU_NOTA_CH                float64\n",
       "NU_NOTA_LC                float64\n",
       "NU_NOTA_MT                float64\n",
       "TX_RESPOSTAS_CN            object\n",
       "TX_RESPOSTAS_CH            object\n",
       "TX_RESPOSTAS_LC            object\n",
       "TX_RESPOSTAS_MT            object\n",
       "TP_LINGUA                   int64\n",
       "TX_GABARITO_CN             object\n",
       "TX_GABARITO_CH             object\n",
       "TX_GABARITO_LC             object\n",
       "TX_GABARITO_MT             object\n",
       "TP_STATUS_REDACAO         float64\n",
       "NU_NOTA_COMP1             float64\n",
       "NU_NOTA_COMP2             float64\n",
       "NU_NOTA_COMP3             float64\n",
       "NU_NOTA_COMP4             float64\n",
       "NU_NOTA_COMP5             float64\n",
       "NU_NOTA_REDACAO           float64\n",
       "Q001                       object\n",
       "Q002                       object\n",
       "Q003                       object\n",
       "Q004                       object\n",
       "Q005                      float64\n",
       "Q006                       object\n",
       "Q007                       object\n",
       "Q008                       object\n",
       "Q009                       object\n",
       "Q010                       object\n",
       "Q011                       object\n",
       "Q012                       object\n",
       "Q013                       object\n",
       "Q014                       object\n",
       "Q015                       object\n",
       "Q016                       object\n",
       "Q017                       object\n",
       "Q018                       object\n",
       "Q019                       object\n",
       "Q020                       object\n",
       "Q021                       object\n",
       "Q022                       object\n",
       "Q023                       object\n",
       "Q024                       object\n",
       "Q025                       object\n",
       "dtype: object"
      ]
     },
     "execution_count": 10,
     "metadata": {},
     "output_type": "execute_result"
    }
   ],
   "source": [
    "# Analisando os tipos dos dados de cada coluna\n",
    "df_enem.dtypes"
   ]
  },
  {
   "cell_type": "markdown",
   "id": "6cf7346e",
   "metadata": {},
   "source": [
    "## <a>Limpando alguns dados</a>"
   ]
  },
  {
   "cell_type": "code",
   "execution_count": 12,
   "id": "acc9c2af",
   "metadata": {},
   "outputs": [
    {
     "data": {
      "text/plain": [
       "['TX_RESPOSTAS_CN',\n",
       " 'TX_RESPOSTAS_CH',\n",
       " 'TX_RESPOSTAS_LC',\n",
       " 'TX_RESPOSTAS_MT',\n",
       " 'TX_GABARITO_CN',\n",
       " 'TX_GABARITO_CH',\n",
       " 'TX_GABARITO_LC',\n",
       " 'TX_GABARITO_MT']"
      ]
     },
     "execution_count": 12,
     "metadata": {},
     "output_type": "execute_result"
    }
   ],
   "source": [
    "# Primeiro, remover as colunas com as respostas\n",
    "colunas_questoes = [coluna for coluna in df_enem.columns if coluna.startswith('TX_')]\n",
    "colunas_questoes"
   ]
  },
  {
   "cell_type": "code",
   "execution_count": 13,
   "id": "409e24e8",
   "metadata": {},
   "outputs": [
    {
     "data": {
      "text/plain": [
       "['CO_MUNICIPIO_ESC',\n",
       " 'CO_UF_ESC',\n",
       " 'CO_MUNICIPIO_PROVA',\n",
       " 'CO_UF_PROVA',\n",
       " 'CO_PROVA_CN',\n",
       " 'CO_PROVA_CH',\n",
       " 'CO_PROVA_LC',\n",
       " 'CO_PROVA_MT']"
      ]
     },
     "execution_count": 13,
     "metadata": {},
     "output_type": "execute_result"
    }
   ],
   "source": [
    "# Da mesma forma, colunas do tipo CO_ tambem nao servem para a analise\n",
    "colunas_codigos = [coluna for coluna in df_enem.columns if coluna.startswith('CO_')]\n",
    "colunas_codigos"
   ]
  },
  {
   "cell_type": "code",
   "execution_count": 14,
   "id": "85dd8a3d",
   "metadata": {},
   "outputs": [
    {
     "data": {
      "text/plain": [
       "['CO_MUNICIPIO_ESC',\n",
       " 'NO_MUNICIPIO_ESC',\n",
       " 'CO_MUNICIPIO_PROVA',\n",
       " 'NO_MUNICIPIO_PROVA']"
      ]
     },
     "execution_count": 14,
     "metadata": {},
     "output_type": "execute_result"
    }
   ],
   "source": [
    "# Tambem nao analisaremos por municipio\n",
    "colunas_municipios = [coluna for coluna in df_enem.columns if 'MUNICIPIO' in coluna]\n",
    "colunas_municipios"
   ]
  },
  {
   "cell_type": "code",
   "execution_count": 16,
   "id": "43430ec2",
   "metadata": {},
   "outputs": [
    {
     "data": {
      "text/html": [
       "<div>\n",
       "<style scoped>\n",
       "    .dataframe tbody tr th:only-of-type {\n",
       "        vertical-align: middle;\n",
       "    }\n",
       "\n",
       "    .dataframe tbody tr th {\n",
       "        vertical-align: top;\n",
       "    }\n",
       "\n",
       "    .dataframe thead th {\n",
       "        text-align: right;\n",
       "    }\n",
       "</style>\n",
       "<table border=\"1\" class=\"dataframe\">\n",
       "  <thead>\n",
       "    <tr style=\"text-align: right;\">\n",
       "      <th></th>\n",
       "      <th>TP_FAIXA_ETARIA</th>\n",
       "      <th>TP_SEXO</th>\n",
       "      <th>TP_ESTADO_CIVIL</th>\n",
       "      <th>TP_COR_RACA</th>\n",
       "      <th>TP_NACIONALIDADE</th>\n",
       "      <th>TP_ST_CONCLUSAO</th>\n",
       "      <th>TP_ANO_CONCLUIU</th>\n",
       "      <th>TP_ESCOLA</th>\n",
       "      <th>TP_ENSINO</th>\n",
       "      <th>IN_TREINEIRO</th>\n",
       "      <th>SG_UF_ESC</th>\n",
       "      <th>TP_DEPENDENCIA_ADM_ESC</th>\n",
       "      <th>TP_LOCALIZACAO_ESC</th>\n",
       "      <th>TP_SIT_FUNC_ESC</th>\n",
       "      <th>SG_UF_PROVA</th>\n",
       "      <th>TP_PRESENCA_CN</th>\n",
       "      <th>TP_PRESENCA_CH</th>\n",
       "      <th>TP_PRESENCA_LC</th>\n",
       "      <th>TP_PRESENCA_MT</th>\n",
       "      <th>NU_NOTA_CN</th>\n",
       "      <th>NU_NOTA_CH</th>\n",
       "      <th>NU_NOTA_LC</th>\n",
       "      <th>NU_NOTA_MT</th>\n",
       "      <th>TP_LINGUA</th>\n",
       "      <th>TP_STATUS_REDACAO</th>\n",
       "      <th>NU_NOTA_COMP1</th>\n",
       "      <th>NU_NOTA_COMP2</th>\n",
       "      <th>NU_NOTA_COMP3</th>\n",
       "      <th>NU_NOTA_COMP4</th>\n",
       "      <th>NU_NOTA_COMP5</th>\n",
       "      <th>NU_NOTA_REDACAO</th>\n",
       "      <th>Q001</th>\n",
       "      <th>Q002</th>\n",
       "      <th>Q003</th>\n",
       "      <th>Q004</th>\n",
       "      <th>Q005</th>\n",
       "      <th>Q006</th>\n",
       "      <th>Q007</th>\n",
       "      <th>Q008</th>\n",
       "      <th>Q009</th>\n",
       "      <th>Q010</th>\n",
       "      <th>Q011</th>\n",
       "      <th>Q012</th>\n",
       "      <th>Q013</th>\n",
       "      <th>Q014</th>\n",
       "      <th>Q015</th>\n",
       "      <th>Q016</th>\n",
       "      <th>Q017</th>\n",
       "      <th>Q018</th>\n",
       "      <th>Q019</th>\n",
       "      <th>Q020</th>\n",
       "      <th>Q021</th>\n",
       "      <th>Q022</th>\n",
       "      <th>Q023</th>\n",
       "      <th>Q024</th>\n",
       "      <th>Q025</th>\n",
       "    </tr>\n",
       "  </thead>\n",
       "  <tbody>\n",
       "    <tr>\n",
       "      <th>0</th>\n",
       "      <td>11</td>\n",
       "      <td>F</td>\n",
       "      <td>1</td>\n",
       "      <td>2</td>\n",
       "      <td>1</td>\n",
       "      <td>1</td>\n",
       "      <td>11</td>\n",
       "      <td>1</td>\n",
       "      <td>NaN</td>\n",
       "      <td>0</td>\n",
       "      <td>None</td>\n",
       "      <td>NaN</td>\n",
       "      <td>NaN</td>\n",
       "      <td>NaN</td>\n",
       "      <td>PA</td>\n",
       "      <td>0</td>\n",
       "      <td>0</td>\n",
       "      <td>0</td>\n",
       "      <td>0</td>\n",
       "      <td>NaN</td>\n",
       "      <td>NaN</td>\n",
       "      <td>NaN</td>\n",
       "      <td>NaN</td>\n",
       "      <td>1</td>\n",
       "      <td>NaN</td>\n",
       "      <td>NaN</td>\n",
       "      <td>NaN</td>\n",
       "      <td>NaN</td>\n",
       "      <td>NaN</td>\n",
       "      <td>NaN</td>\n",
       "      <td>NaN</td>\n",
       "      <td>None</td>\n",
       "      <td>None</td>\n",
       "      <td>None</td>\n",
       "      <td>None</td>\n",
       "      <td>NaN</td>\n",
       "      <td>None</td>\n",
       "      <td>None</td>\n",
       "      <td>None</td>\n",
       "      <td>None</td>\n",
       "      <td>None</td>\n",
       "      <td>None</td>\n",
       "      <td>None</td>\n",
       "      <td>None</td>\n",
       "      <td>None</td>\n",
       "      <td>None</td>\n",
       "      <td>None</td>\n",
       "      <td>None</td>\n",
       "      <td>None</td>\n",
       "      <td>None</td>\n",
       "      <td>None</td>\n",
       "      <td>None</td>\n",
       "      <td>None</td>\n",
       "      <td>None</td>\n",
       "      <td>None</td>\n",
       "      <td>None</td>\n",
       "    </tr>\n",
       "    <tr>\n",
       "      <th>1</th>\n",
       "      <td>11</td>\n",
       "      <td>M</td>\n",
       "      <td>2</td>\n",
       "      <td>3</td>\n",
       "      <td>1</td>\n",
       "      <td>1</td>\n",
       "      <td>11</td>\n",
       "      <td>1</td>\n",
       "      <td>NaN</td>\n",
       "      <td>0</td>\n",
       "      <td>None</td>\n",
       "      <td>NaN</td>\n",
       "      <td>NaN</td>\n",
       "      <td>NaN</td>\n",
       "      <td>RN</td>\n",
       "      <td>1</td>\n",
       "      <td>1</td>\n",
       "      <td>1</td>\n",
       "      <td>1</td>\n",
       "      <td>604.10</td>\n",
       "      <td>661.70</td>\n",
       "      <td>595.30</td>\n",
       "      <td>711.30</td>\n",
       "      <td>1</td>\n",
       "      <td>1.00</td>\n",
       "      <td>120.00</td>\n",
       "      <td>120.00</td>\n",
       "      <td>120.00</td>\n",
       "      <td>120.00</td>\n",
       "      <td>100.00</td>\n",
       "      <td>580.00</td>\n",
       "      <td>None</td>\n",
       "      <td>None</td>\n",
       "      <td>None</td>\n",
       "      <td>None</td>\n",
       "      <td>NaN</td>\n",
       "      <td>None</td>\n",
       "      <td>None</td>\n",
       "      <td>None</td>\n",
       "      <td>None</td>\n",
       "      <td>None</td>\n",
       "      <td>None</td>\n",
       "      <td>None</td>\n",
       "      <td>None</td>\n",
       "      <td>None</td>\n",
       "      <td>None</td>\n",
       "      <td>None</td>\n",
       "      <td>None</td>\n",
       "      <td>None</td>\n",
       "      <td>None</td>\n",
       "      <td>None</td>\n",
       "      <td>None</td>\n",
       "      <td>None</td>\n",
       "      <td>None</td>\n",
       "      <td>None</td>\n",
       "      <td>None</td>\n",
       "    </tr>\n",
       "    <tr>\n",
       "      <th>2</th>\n",
       "      <td>4</td>\n",
       "      <td>F</td>\n",
       "      <td>2</td>\n",
       "      <td>3</td>\n",
       "      <td>2</td>\n",
       "      <td>2</td>\n",
       "      <td>0</td>\n",
       "      <td>2</td>\n",
       "      <td>1.00</td>\n",
       "      <td>0</td>\n",
       "      <td>BA</td>\n",
       "      <td>2.00</td>\n",
       "      <td>1.00</td>\n",
       "      <td>1.00</td>\n",
       "      <td>BA</td>\n",
       "      <td>0</td>\n",
       "      <td>0</td>\n",
       "      <td>0</td>\n",
       "      <td>0</td>\n",
       "      <td>NaN</td>\n",
       "      <td>NaN</td>\n",
       "      <td>NaN</td>\n",
       "      <td>NaN</td>\n",
       "      <td>0</td>\n",
       "      <td>NaN</td>\n",
       "      <td>NaN</td>\n",
       "      <td>NaN</td>\n",
       "      <td>NaN</td>\n",
       "      <td>NaN</td>\n",
       "      <td>NaN</td>\n",
       "      <td>NaN</td>\n",
       "      <td>B</td>\n",
       "      <td>C</td>\n",
       "      <td>A</td>\n",
       "      <td>D</td>\n",
       "      <td>3.00</td>\n",
       "      <td>B</td>\n",
       "      <td>A</td>\n",
       "      <td>B</td>\n",
       "      <td>A</td>\n",
       "      <td>A</td>\n",
       "      <td>A</td>\n",
       "      <td>B</td>\n",
       "      <td>A</td>\n",
       "      <td>B</td>\n",
       "      <td>A</td>\n",
       "      <td>B</td>\n",
       "      <td>A</td>\n",
       "      <td>A</td>\n",
       "      <td>B</td>\n",
       "      <td>A</td>\n",
       "      <td>A</td>\n",
       "      <td>A</td>\n",
       "      <td>A</td>\n",
       "      <td>A</td>\n",
       "      <td>A</td>\n",
       "    </tr>\n",
       "    <tr>\n",
       "      <th>3</th>\n",
       "      <td>2</td>\n",
       "      <td>M</td>\n",
       "      <td>1</td>\n",
       "      <td>3</td>\n",
       "      <td>1</td>\n",
       "      <td>2</td>\n",
       "      <td>0</td>\n",
       "      <td>2</td>\n",
       "      <td>1.00</td>\n",
       "      <td>0</td>\n",
       "      <td>SP</td>\n",
       "      <td>3.00</td>\n",
       "      <td>1.00</td>\n",
       "      <td>1.00</td>\n",
       "      <td>SP</td>\n",
       "      <td>1</td>\n",
       "      <td>1</td>\n",
       "      <td>1</td>\n",
       "      <td>1</td>\n",
       "      <td>620.80</td>\n",
       "      <td>675.00</td>\n",
       "      <td>624.20</td>\n",
       "      <td>759.40</td>\n",
       "      <td>0</td>\n",
       "      <td>1.00</td>\n",
       "      <td>140.00</td>\n",
       "      <td>200.00</td>\n",
       "      <td>140.00</td>\n",
       "      <td>120.00</td>\n",
       "      <td>160.00</td>\n",
       "      <td>760.00</td>\n",
       "      <td>None</td>\n",
       "      <td>None</td>\n",
       "      <td>None</td>\n",
       "      <td>None</td>\n",
       "      <td>NaN</td>\n",
       "      <td>None</td>\n",
       "      <td>None</td>\n",
       "      <td>None</td>\n",
       "      <td>None</td>\n",
       "      <td>None</td>\n",
       "      <td>None</td>\n",
       "      <td>None</td>\n",
       "      <td>None</td>\n",
       "      <td>None</td>\n",
       "      <td>None</td>\n",
       "      <td>None</td>\n",
       "      <td>None</td>\n",
       "      <td>None</td>\n",
       "      <td>None</td>\n",
       "      <td>None</td>\n",
       "      <td>None</td>\n",
       "      <td>None</td>\n",
       "      <td>None</td>\n",
       "      <td>None</td>\n",
       "      <td>None</td>\n",
       "    </tr>\n",
       "    <tr>\n",
       "      <th>4</th>\n",
       "      <td>4</td>\n",
       "      <td>F</td>\n",
       "      <td>1</td>\n",
       "      <td>3</td>\n",
       "      <td>2</td>\n",
       "      <td>1</td>\n",
       "      <td>1</td>\n",
       "      <td>1</td>\n",
       "      <td>NaN</td>\n",
       "      <td>0</td>\n",
       "      <td>None</td>\n",
       "      <td>NaN</td>\n",
       "      <td>NaN</td>\n",
       "      <td>NaN</td>\n",
       "      <td>MG</td>\n",
       "      <td>0</td>\n",
       "      <td>0</td>\n",
       "      <td>0</td>\n",
       "      <td>0</td>\n",
       "      <td>NaN</td>\n",
       "      <td>NaN</td>\n",
       "      <td>NaN</td>\n",
       "      <td>NaN</td>\n",
       "      <td>1</td>\n",
       "      <td>NaN</td>\n",
       "      <td>NaN</td>\n",
       "      <td>NaN</td>\n",
       "      <td>NaN</td>\n",
       "      <td>NaN</td>\n",
       "      <td>NaN</td>\n",
       "      <td>NaN</td>\n",
       "      <td>B</td>\n",
       "      <td>G</td>\n",
       "      <td>B</td>\n",
       "      <td>B</td>\n",
       "      <td>3.00</td>\n",
       "      <td>B</td>\n",
       "      <td>A</td>\n",
       "      <td>B</td>\n",
       "      <td>D</td>\n",
       "      <td>A</td>\n",
       "      <td>A</td>\n",
       "      <td>B</td>\n",
       "      <td>A</td>\n",
       "      <td>B</td>\n",
       "      <td>A</td>\n",
       "      <td>A</td>\n",
       "      <td>A</td>\n",
       "      <td>A</td>\n",
       "      <td>B</td>\n",
       "      <td>A</td>\n",
       "      <td>B</td>\n",
       "      <td>B</td>\n",
       "      <td>A</td>\n",
       "      <td>A</td>\n",
       "      <td>B</td>\n",
       "    </tr>\n",
       "  </tbody>\n",
       "</table>\n",
       "</div>"
      ],
      "text/plain": [
       "   TP_FAIXA_ETARIA TP_SEXO  TP_ESTADO_CIVIL  TP_COR_RACA  TP_NACIONALIDADE  \\\n",
       "0               11       F                1            2                 1   \n",
       "1               11       M                2            3                 1   \n",
       "2                4       F                2            3                 2   \n",
       "3                2       M                1            3                 1   \n",
       "4                4       F                1            3                 2   \n",
       "\n",
       "   TP_ST_CONCLUSAO  TP_ANO_CONCLUIU  TP_ESCOLA  TP_ENSINO  IN_TREINEIRO  \\\n",
       "0                1               11          1        NaN             0   \n",
       "1                1               11          1        NaN             0   \n",
       "2                2                0          2       1.00             0   \n",
       "3                2                0          2       1.00             0   \n",
       "4                1                1          1        NaN             0   \n",
       "\n",
       "  SG_UF_ESC  TP_DEPENDENCIA_ADM_ESC  TP_LOCALIZACAO_ESC  TP_SIT_FUNC_ESC  \\\n",
       "0      None                     NaN                 NaN              NaN   \n",
       "1      None                     NaN                 NaN              NaN   \n",
       "2        BA                    2.00                1.00             1.00   \n",
       "3        SP                    3.00                1.00             1.00   \n",
       "4      None                     NaN                 NaN              NaN   \n",
       "\n",
       "  SG_UF_PROVA  TP_PRESENCA_CN  TP_PRESENCA_CH  TP_PRESENCA_LC  TP_PRESENCA_MT  \\\n",
       "0          PA               0               0               0               0   \n",
       "1          RN               1               1               1               1   \n",
       "2          BA               0               0               0               0   \n",
       "3          SP               1               1               1               1   \n",
       "4          MG               0               0               0               0   \n",
       "\n",
       "   NU_NOTA_CN  NU_NOTA_CH  NU_NOTA_LC  NU_NOTA_MT  TP_LINGUA  \\\n",
       "0         NaN         NaN         NaN         NaN          1   \n",
       "1      604.10      661.70      595.30      711.30          1   \n",
       "2         NaN         NaN         NaN         NaN          0   \n",
       "3      620.80      675.00      624.20      759.40          0   \n",
       "4         NaN         NaN         NaN         NaN          1   \n",
       "\n",
       "   TP_STATUS_REDACAO  NU_NOTA_COMP1  NU_NOTA_COMP2  NU_NOTA_COMP3  \\\n",
       "0                NaN            NaN            NaN            NaN   \n",
       "1               1.00         120.00         120.00         120.00   \n",
       "2                NaN            NaN            NaN            NaN   \n",
       "3               1.00         140.00         200.00         140.00   \n",
       "4                NaN            NaN            NaN            NaN   \n",
       "\n",
       "   NU_NOTA_COMP4  NU_NOTA_COMP5  NU_NOTA_REDACAO  Q001  Q002  Q003  Q004  \\\n",
       "0            NaN            NaN              NaN  None  None  None  None   \n",
       "1         120.00         100.00           580.00  None  None  None  None   \n",
       "2            NaN            NaN              NaN     B     C     A     D   \n",
       "3         120.00         160.00           760.00  None  None  None  None   \n",
       "4            NaN            NaN              NaN     B     G     B     B   \n",
       "\n",
       "   Q005  Q006  Q007  Q008  Q009  Q010  Q011  Q012  Q013  Q014  Q015  Q016  \\\n",
       "0   NaN  None  None  None  None  None  None  None  None  None  None  None   \n",
       "1   NaN  None  None  None  None  None  None  None  None  None  None  None   \n",
       "2  3.00     B     A     B     A     A     A     B     A     B     A     B   \n",
       "3   NaN  None  None  None  None  None  None  None  None  None  None  None   \n",
       "4  3.00     B     A     B     D     A     A     B     A     B     A     A   \n",
       "\n",
       "   Q017  Q018  Q019  Q020  Q021  Q022  Q023  Q024  Q025  \n",
       "0  None  None  None  None  None  None  None  None  None  \n",
       "1  None  None  None  None  None  None  None  None  None  \n",
       "2     A     A     B     A     A     A     A     A     A  \n",
       "3  None  None  None  None  None  None  None  None  None  \n",
       "4     A     A     B     A     B     B     A     A     B  "
      ]
     },
     "execution_count": 16,
     "metadata": {},
     "output_type": "execute_result"
    }
   ],
   "source": [
    "# Por fim, removendo essas colunas\n",
    "colunas_remover = colunas_questoes + colunas_codigos + colunas_municipios + ['NU_INSCRICAO', 'NU_ANO']\n",
    "df_enem = df_enem.drop(colunas_remover, axis=1)\n",
    "df_enem.head()"
   ]
  },
  {
   "cell_type": "code",
   "execution_count": 17,
   "id": "1621aac2",
   "metadata": {},
   "outputs": [
    {
     "data": {
      "text/plain": [
       "(5783109, 56)"
      ]
     },
     "execution_count": 17,
     "metadata": {},
     "output_type": "execute_result"
    }
   ],
   "source": [
    "df_enem.shape"
   ]
  },
  {
   "cell_type": "markdown",
   "id": "5be6ace0",
   "metadata": {},
   "source": [
    "## <a>Dicionário de dados</a>\n",
    "Percebemos que muitas das colunas possuem somente números, sem descrições. Os dados do ENEM vem acompanhados das descrições com o dicionário, explicando o que cada coluna representa. Seguem algumas que vamos utilizar na análise\n",
    "\n",
    "Estado Civil (TP_ESTADO_CIVIL)\n",
    "\n",
    "| Código | Descrição                               |\n",
    "|--------|-----------------------------------------|\n",
    "|    0   | Não informado                           |\n",
    "|    1   | Solteiro(a)                             |\n",
    "|    2   | Casado(a)/Mora   com companheiro(a)     |\n",
    "|    3   | Divorciado(a)/Desquitado(a)/Separado(a) |\n",
    "|    4   | Viúvo(a)                                |\n",
    "\n",
    "Cor/Raça (TP_COR_RACA)\n",
    "\n",
    "| Código | Descrição     |\n",
    "|--------|---------------|\n",
    "| 0      | Não declarado |\n",
    "| 1      | Branca        |\n",
    "| 2      | Preta         |\n",
    "| 3      | Parda         |\n",
    "| 4      | Amarela       |\n",
    "| 5      | Indígena      |\n",
    "\n",
    "Tipo Nacionalidade\n",
    "\n",
    "| Código | Descrição                                       |\n",
    "|--------|-------------------------------------------------|\n",
    "| 0      | Não informado                                   |\n",
    "| 1      | Brasileiro(a)                                   |\n",
    "| 2      | Brasileiro(a)   Naturalizado(a)                 |\n",
    "| 3      | Estrangeiro(a)                                  |\n",
    "| 4      | Brasileiro(a)   Nato(a), nascido(a) no exterior |\n",
    "| 5      | Indígena                                        |\n",
    "\n",
    "Situação de Conclusão Nível Médio\n",
    "\n",
    "| Código | Descrição                                              |\n",
    "|--------|--------------------------------------------------------|\n",
    "| 1      | Já concluí o   Ensino Médio                            |\n",
    "| 2      | Estou   cursando e concluirei o Ensino Médio em 2019   |\n",
    "| 3      | Estou   cursando e concluirei o Ensino Médio após 2019 |\n",
    "| 4      | Não   concluí e não estou cursando o Ensino Médio      |\n",
    "\n",
    "Finalmente, as colunas de notas\n",
    "\n",
    "| Coluna     | Descrição                             |\n",
    "|------------|---------------------------------------|\n",
    "| NU_NOTA_CN | Nota da prova de Ciências da Natureza |\n",
    "| NU_NOTA_CH | Nota da prova de Ciências Humanas     |\n",
    "| NU_NOTA_LC | Nota da prova de Linguagens e Códigos |\n",
    "| NU_NOTA_MT | Nota da prova de Matemática           |"
   ]
  },
  {
   "cell_type": "markdown",
   "id": "5eed6b20",
   "metadata": {},
   "source": [
    "## <a>Estatística descritiva</a>\n",
    "Conhecer bem as medidas estatísticas, de tendência central, dispersão, separatrizes, distribuições, é essencial para conhecermos melhor os dados em que estamos trabalhando. Qual a distribuição por sexo? Raça? Localização geográfica?"
   ]
  },
  {
   "cell_type": "code",
   "execution_count": 18,
   "id": "d07d8e57",
   "metadata": {},
   "outputs": [
    {
     "data": {
      "text/html": [
       "<div>\n",
       "<style scoped>\n",
       "    .dataframe tbody tr th:only-of-type {\n",
       "        vertical-align: middle;\n",
       "    }\n",
       "\n",
       "    .dataframe tbody tr th {\n",
       "        vertical-align: top;\n",
       "    }\n",
       "\n",
       "    .dataframe thead th {\n",
       "        text-align: right;\n",
       "    }\n",
       "</style>\n",
       "<table border=\"1\" class=\"dataframe\">\n",
       "  <thead>\n",
       "    <tr style=\"text-align: right;\">\n",
       "      <th></th>\n",
       "      <th>TP_FAIXA_ETARIA</th>\n",
       "      <th>TP_ESTADO_CIVIL</th>\n",
       "      <th>TP_COR_RACA</th>\n",
       "      <th>TP_NACIONALIDADE</th>\n",
       "      <th>TP_ST_CONCLUSAO</th>\n",
       "      <th>TP_ANO_CONCLUIU</th>\n",
       "      <th>TP_ESCOLA</th>\n",
       "      <th>TP_ENSINO</th>\n",
       "      <th>IN_TREINEIRO</th>\n",
       "      <th>TP_DEPENDENCIA_ADM_ESC</th>\n",
       "      <th>TP_LOCALIZACAO_ESC</th>\n",
       "      <th>TP_SIT_FUNC_ESC</th>\n",
       "      <th>TP_PRESENCA_CN</th>\n",
       "      <th>TP_PRESENCA_CH</th>\n",
       "      <th>TP_PRESENCA_LC</th>\n",
       "      <th>TP_PRESENCA_MT</th>\n",
       "      <th>NU_NOTA_CN</th>\n",
       "      <th>NU_NOTA_CH</th>\n",
       "      <th>NU_NOTA_LC</th>\n",
       "      <th>NU_NOTA_MT</th>\n",
       "      <th>TP_LINGUA</th>\n",
       "      <th>TP_STATUS_REDACAO</th>\n",
       "      <th>NU_NOTA_COMP1</th>\n",
       "      <th>NU_NOTA_COMP2</th>\n",
       "      <th>NU_NOTA_COMP3</th>\n",
       "      <th>NU_NOTA_COMP4</th>\n",
       "      <th>NU_NOTA_COMP5</th>\n",
       "      <th>NU_NOTA_REDACAO</th>\n",
       "      <th>Q005</th>\n",
       "    </tr>\n",
       "  </thead>\n",
       "  <tbody>\n",
       "    <tr>\n",
       "      <th>count</th>\n",
       "      <td>5783109.00</td>\n",
       "      <td>5783109.00</td>\n",
       "      <td>5783109.00</td>\n",
       "      <td>5783109.00</td>\n",
       "      <td>5783109.00</td>\n",
       "      <td>5783109.00</td>\n",
       "      <td>5783109.00</td>\n",
       "      <td>1303446.00</td>\n",
       "      <td>5783109.00</td>\n",
       "      <td>904569.00</td>\n",
       "      <td>904569.00</td>\n",
       "      <td>904569.00</td>\n",
       "      <td>5783109.00</td>\n",
       "      <td>5783109.00</td>\n",
       "      <td>5783109.00</td>\n",
       "      <td>5783109.00</td>\n",
       "      <td>2597440.00</td>\n",
       "      <td>2754140.00</td>\n",
       "      <td>2754140.00</td>\n",
       "      <td>2597440.00</td>\n",
       "      <td>5783109.00</td>\n",
       "      <td>2754140.00</td>\n",
       "      <td>2754140.00</td>\n",
       "      <td>2754140.00</td>\n",
       "      <td>2754140.00</td>\n",
       "      <td>2754140.00</td>\n",
       "      <td>2754140.00</td>\n",
       "      <td>2754140.00</td>\n",
       "      <td>5687143.00</td>\n",
       "    </tr>\n",
       "    <tr>\n",
       "      <th>mean</th>\n",
       "      <td>6.40</td>\n",
       "      <td>1.10</td>\n",
       "      <td>2.15</td>\n",
       "      <td>1.03</td>\n",
       "      <td>1.45</td>\n",
       "      <td>3.32</td>\n",
       "      <td>1.28</td>\n",
       "      <td>1.01</td>\n",
       "      <td>0.10</td>\n",
       "      <td>2.44</td>\n",
       "      <td>1.03</td>\n",
       "      <td>1.01</td>\n",
       "      <td>0.45</td>\n",
       "      <td>0.48</td>\n",
       "      <td>0.48</td>\n",
       "      <td>0.45</td>\n",
       "      <td>490.41</td>\n",
       "      <td>511.15</td>\n",
       "      <td>523.80</td>\n",
       "      <td>520.58</td>\n",
       "      <td>0.54</td>\n",
       "      <td>1.11</td>\n",
       "      <td>119.73</td>\n",
       "      <td>121.89</td>\n",
       "      <td>110.34</td>\n",
       "      <td>123.49</td>\n",
       "      <td>97.96</td>\n",
       "      <td>573.41</td>\n",
       "      <td>3.71</td>\n",
       "    </tr>\n",
       "    <tr>\n",
       "      <th>std</th>\n",
       "      <td>4.17</td>\n",
       "      <td>0.48</td>\n",
       "      <td>1.01</td>\n",
       "      <td>0.21</td>\n",
       "      <td>0.69</td>\n",
       "      <td>4.54</td>\n",
       "      <td>0.52</td>\n",
       "      <td>0.08</td>\n",
       "      <td>0.30</td>\n",
       "      <td>0.91</td>\n",
       "      <td>0.18</td>\n",
       "      <td>0.18</td>\n",
       "      <td>0.50</td>\n",
       "      <td>0.50</td>\n",
       "      <td>0.50</td>\n",
       "      <td>0.50</td>\n",
       "      <td>80.00</td>\n",
       "      <td>96.22</td>\n",
       "      <td>74.55</td>\n",
       "      <td>117.31</td>\n",
       "      <td>0.50</td>\n",
       "      <td>0.73</td>\n",
       "      <td>33.30</td>\n",
       "      <td>50.66</td>\n",
       "      <td>44.47</td>\n",
       "      <td>38.31</td>\n",
       "      <td>58.87</td>\n",
       "      <td>199.82</td>\n",
       "      <td>1.47</td>\n",
       "    </tr>\n",
       "    <tr>\n",
       "      <th>min</th>\n",
       "      <td>1.00</td>\n",
       "      <td>0.00</td>\n",
       "      <td>0.00</td>\n",
       "      <td>0.00</td>\n",
       "      <td>1.00</td>\n",
       "      <td>0.00</td>\n",
       "      <td>1.00</td>\n",
       "      <td>1.00</td>\n",
       "      <td>0.00</td>\n",
       "      <td>1.00</td>\n",
       "      <td>1.00</td>\n",
       "      <td>1.00</td>\n",
       "      <td>0.00</td>\n",
       "      <td>0.00</td>\n",
       "      <td>0.00</td>\n",
       "      <td>0.00</td>\n",
       "      <td>0.00</td>\n",
       "      <td>0.00</td>\n",
       "      <td>0.00</td>\n",
       "      <td>0.00</td>\n",
       "      <td>0.00</td>\n",
       "      <td>1.00</td>\n",
       "      <td>0.00</td>\n",
       "      <td>0.00</td>\n",
       "      <td>0.00</td>\n",
       "      <td>0.00</td>\n",
       "      <td>0.00</td>\n",
       "      <td>0.00</td>\n",
       "      <td>1.00</td>\n",
       "    </tr>\n",
       "    <tr>\n",
       "      <th>25%</th>\n",
       "      <td>3.00</td>\n",
       "      <td>1.00</td>\n",
       "      <td>1.00</td>\n",
       "      <td>1.00</td>\n",
       "      <td>1.00</td>\n",
       "      <td>0.00</td>\n",
       "      <td>1.00</td>\n",
       "      <td>1.00</td>\n",
       "      <td>0.00</td>\n",
       "      <td>2.00</td>\n",
       "      <td>1.00</td>\n",
       "      <td>1.00</td>\n",
       "      <td>0.00</td>\n",
       "      <td>0.00</td>\n",
       "      <td>0.00</td>\n",
       "      <td>0.00</td>\n",
       "      <td>427.00</td>\n",
       "      <td>435.30</td>\n",
       "      <td>478.00</td>\n",
       "      <td>425.80</td>\n",
       "      <td>0.00</td>\n",
       "      <td>1.00</td>\n",
       "      <td>100.00</td>\n",
       "      <td>120.00</td>\n",
       "      <td>80.00</td>\n",
       "      <td>100.00</td>\n",
       "      <td>40.00</td>\n",
       "      <td>460.00</td>\n",
       "      <td>3.00</td>\n",
       "    </tr>\n",
       "    <tr>\n",
       "      <th>50%</th>\n",
       "      <td>5.00</td>\n",
       "      <td>1.00</td>\n",
       "      <td>2.00</td>\n",
       "      <td>1.00</td>\n",
       "      <td>1.00</td>\n",
       "      <td>1.00</td>\n",
       "      <td>1.00</td>\n",
       "      <td>1.00</td>\n",
       "      <td>0.00</td>\n",
       "      <td>2.00</td>\n",
       "      <td>1.00</td>\n",
       "      <td>1.00</td>\n",
       "      <td>0.00</td>\n",
       "      <td>0.00</td>\n",
       "      <td>0.00</td>\n",
       "      <td>0.00</td>\n",
       "      <td>483.70</td>\n",
       "      <td>512.50</td>\n",
       "      <td>529.90</td>\n",
       "      <td>505.10</td>\n",
       "      <td>1.00</td>\n",
       "      <td>1.00</td>\n",
       "      <td>120.00</td>\n",
       "      <td>120.00</td>\n",
       "      <td>120.00</td>\n",
       "      <td>120.00</td>\n",
       "      <td>100.00</td>\n",
       "      <td>580.00</td>\n",
       "      <td>4.00</td>\n",
       "    </tr>\n",
       "    <tr>\n",
       "      <th>75%</th>\n",
       "      <td>11.00</td>\n",
       "      <td>1.00</td>\n",
       "      <td>3.00</td>\n",
       "      <td>1.00</td>\n",
       "      <td>2.00</td>\n",
       "      <td>5.00</td>\n",
       "      <td>1.00</td>\n",
       "      <td>1.00</td>\n",
       "      <td>0.00</td>\n",
       "      <td>3.00</td>\n",
       "      <td>1.00</td>\n",
       "      <td>1.00</td>\n",
       "      <td>1.00</td>\n",
       "      <td>1.00</td>\n",
       "      <td>1.00</td>\n",
       "      <td>1.00</td>\n",
       "      <td>548.70</td>\n",
       "      <td>580.60</td>\n",
       "      <td>576.40</td>\n",
       "      <td>602.30</td>\n",
       "      <td>1.00</td>\n",
       "      <td>1.00</td>\n",
       "      <td>140.00</td>\n",
       "      <td>160.00</td>\n",
       "      <td>140.00</td>\n",
       "      <td>140.00</td>\n",
       "      <td>140.00</td>\n",
       "      <td>700.00</td>\n",
       "      <td>4.00</td>\n",
       "    </tr>\n",
       "    <tr>\n",
       "      <th>max</th>\n",
       "      <td>20.00</td>\n",
       "      <td>4.00</td>\n",
       "      <td>5.00</td>\n",
       "      <td>4.00</td>\n",
       "      <td>4.00</td>\n",
       "      <td>14.00</td>\n",
       "      <td>3.00</td>\n",
       "      <td>2.00</td>\n",
       "      <td>1.00</td>\n",
       "      <td>4.00</td>\n",
       "      <td>2.00</td>\n",
       "      <td>4.00</td>\n",
       "      <td>2.00</td>\n",
       "      <td>2.00</td>\n",
       "      <td>2.00</td>\n",
       "      <td>2.00</td>\n",
       "      <td>854.80</td>\n",
       "      <td>862.60</td>\n",
       "      <td>801.10</td>\n",
       "      <td>975.00</td>\n",
       "      <td>1.00</td>\n",
       "      <td>9.00</td>\n",
       "      <td>200.00</td>\n",
       "      <td>200.00</td>\n",
       "      <td>200.00</td>\n",
       "      <td>200.00</td>\n",
       "      <td>200.00</td>\n",
       "      <td>1000.00</td>\n",
       "      <td>20.00</td>\n",
       "    </tr>\n",
       "  </tbody>\n",
       "</table>\n",
       "</div>"
      ],
      "text/plain": [
       "       TP_FAIXA_ETARIA  TP_ESTADO_CIVIL  TP_COR_RACA  TP_NACIONALIDADE  \\\n",
       "count       5783109.00       5783109.00   5783109.00        5783109.00   \n",
       "mean              6.40             1.10         2.15              1.03   \n",
       "std               4.17             0.48         1.01              0.21   \n",
       "min               1.00             0.00         0.00              0.00   \n",
       "25%               3.00             1.00         1.00              1.00   \n",
       "50%               5.00             1.00         2.00              1.00   \n",
       "75%              11.00             1.00         3.00              1.00   \n",
       "max              20.00             4.00         5.00              4.00   \n",
       "\n",
       "       TP_ST_CONCLUSAO  TP_ANO_CONCLUIU  TP_ESCOLA  TP_ENSINO  IN_TREINEIRO  \\\n",
       "count       5783109.00       5783109.00 5783109.00 1303446.00    5783109.00   \n",
       "mean              1.45             3.32       1.28       1.01          0.10   \n",
       "std               0.69             4.54       0.52       0.08          0.30   \n",
       "min               1.00             0.00       1.00       1.00          0.00   \n",
       "25%               1.00             0.00       1.00       1.00          0.00   \n",
       "50%               1.00             1.00       1.00       1.00          0.00   \n",
       "75%               2.00             5.00       1.00       1.00          0.00   \n",
       "max               4.00            14.00       3.00       2.00          1.00   \n",
       "\n",
       "       TP_DEPENDENCIA_ADM_ESC  TP_LOCALIZACAO_ESC  TP_SIT_FUNC_ESC  \\\n",
       "count               904569.00           904569.00        904569.00   \n",
       "mean                     2.44                1.03             1.01   \n",
       "std                      0.91                0.18             0.18   \n",
       "min                      1.00                1.00             1.00   \n",
       "25%                      2.00                1.00             1.00   \n",
       "50%                      2.00                1.00             1.00   \n",
       "75%                      3.00                1.00             1.00   \n",
       "max                      4.00                2.00             4.00   \n",
       "\n",
       "       TP_PRESENCA_CN  TP_PRESENCA_CH  TP_PRESENCA_LC  TP_PRESENCA_MT  \\\n",
       "count      5783109.00      5783109.00      5783109.00      5783109.00   \n",
       "mean             0.45            0.48            0.48            0.45   \n",
       "std              0.50            0.50            0.50            0.50   \n",
       "min              0.00            0.00            0.00            0.00   \n",
       "25%              0.00            0.00            0.00            0.00   \n",
       "50%              0.00            0.00            0.00            0.00   \n",
       "75%              1.00            1.00            1.00            1.00   \n",
       "max              2.00            2.00            2.00            2.00   \n",
       "\n",
       "       NU_NOTA_CN  NU_NOTA_CH  NU_NOTA_LC  NU_NOTA_MT  TP_LINGUA  \\\n",
       "count  2597440.00  2754140.00  2754140.00  2597440.00 5783109.00   \n",
       "mean       490.41      511.15      523.80      520.58       0.54   \n",
       "std         80.00       96.22       74.55      117.31       0.50   \n",
       "min          0.00        0.00        0.00        0.00       0.00   \n",
       "25%        427.00      435.30      478.00      425.80       0.00   \n",
       "50%        483.70      512.50      529.90      505.10       1.00   \n",
       "75%        548.70      580.60      576.40      602.30       1.00   \n",
       "max        854.80      862.60      801.10      975.00       1.00   \n",
       "\n",
       "       TP_STATUS_REDACAO  NU_NOTA_COMP1  NU_NOTA_COMP2  NU_NOTA_COMP3  \\\n",
       "count         2754140.00     2754140.00     2754140.00     2754140.00   \n",
       "mean                1.11         119.73         121.89         110.34   \n",
       "std                 0.73          33.30          50.66          44.47   \n",
       "min                 1.00           0.00           0.00           0.00   \n",
       "25%                 1.00         100.00         120.00          80.00   \n",
       "50%                 1.00         120.00         120.00         120.00   \n",
       "75%                 1.00         140.00         160.00         140.00   \n",
       "max                 9.00         200.00         200.00         200.00   \n",
       "\n",
       "       NU_NOTA_COMP4  NU_NOTA_COMP5  NU_NOTA_REDACAO       Q005  \n",
       "count     2754140.00     2754140.00       2754140.00 5687143.00  \n",
       "mean          123.49          97.96           573.41       3.71  \n",
       "std            38.31          58.87           199.82       1.47  \n",
       "min             0.00           0.00             0.00       1.00  \n",
       "25%           100.00          40.00           460.00       3.00  \n",
       "50%           120.00         100.00           580.00       4.00  \n",
       "75%           140.00         140.00           700.00       4.00  \n",
       "max           200.00         200.00          1000.00      20.00  "
      ]
     },
     "execution_count": 18,
     "metadata": {},
     "output_type": "execute_result"
    }
   ],
   "source": [
    "df_enem.describe()"
   ]
  },
  {
   "cell_type": "code",
   "execution_count": 20,
   "id": "ac3db0f9",
   "metadata": {},
   "outputs": [
    {
     "data": {
      "text/plain": [
       "['NU_NOTA_CN',\n",
       " 'NU_NOTA_CH',\n",
       " 'NU_NOTA_LC',\n",
       " 'NU_NOTA_MT',\n",
       " 'NU_NOTA_COMP1',\n",
       " 'NU_NOTA_COMP2',\n",
       " 'NU_NOTA_COMP3',\n",
       " 'NU_NOTA_COMP4',\n",
       " 'NU_NOTA_COMP5',\n",
       " 'NU_NOTA_REDACAO']"
      ]
     },
     "execution_count": 20,
     "metadata": {},
     "output_type": "execute_result"
    }
   ],
   "source": [
    "coluna_notas = [coluna for coluna in df_enem if 'NOTA' in coluna]\n",
    "coluna_notas"
   ]
  },
  {
   "cell_type": "code",
   "execution_count": 21,
   "id": "7f086920",
   "metadata": {},
   "outputs": [
    {
     "data": {
      "text/plain": [
       "['NU_NOTA_CN', 'NU_NOTA_CH', 'NU_NOTA_LC', 'NU_NOTA_MT', 'NU_NOTA_REDACAO']"
      ]
     },
     "execution_count": 21,
     "metadata": {},
     "output_type": "execute_result"
    }
   ],
   "source": [
    "# Deixando apenas as notas principais de redacao\n",
    "coluna_notas = [coluna for coluna in coluna_notas if 'COMP' not in coluna]\n",
    "coluna_notas"
   ]
  },
  {
   "cell_type": "markdown",
   "id": "13ff1154",
   "metadata": {},
   "source": [
    "## Analisando as notas\n"
   ]
  },
  {
   "cell_type": "code",
   "execution_count": 148,
   "id": "c9705144",
   "metadata": {},
   "outputs": [
    {
     "data": {
      "image/png": "[encoded data removed]",
      "text/plain": [
       "<Figure size 800x600 with 4 Axes>"
      ]
     },
     "metadata": {},
     "output_type": "display_data"
    }
   ],
   "source": [
    "sns.set_style('darkgrid')\n",
    "figura, graficos = plt.subplots(1, 4, sharey=True, figsize=(8,6))\n",
    "plt.tight_layout()\n",
    "cores = sns.color_palette('colorblind') # definindo a paleta de cores a ser usada por todo o notebook\n",
    "\n",
    "for i in range(4):\n",
    "    coluna_1 = coluna_notas[i]\n",
    "    sns.boxplot(data=df_enem, y=coluna_1, ax=graficos[i], color=cores[i])"
   ]
  },
  {
   "cell_type": "markdown",
   "id": "5fca1072",
   "metadata": {},
   "source": [
    "## Analisando a distribuicao das notas\n"
   ]
  },
  {
   "cell_type": "code",
   "execution_count": 195,
   "id": "a75d2cb6",
   "metadata": {},
   "outputs": [
    {
     "data": {
      "text/plain": [
       "Text(0.5, 33.249999999999986, ' ')"
      ]
     },
     "execution_count": 195,
     "metadata": {},
     "output_type": "execute_result"
    },
    {
     "data": {
      "image/png": "[encoded data removed]",
      "text/plain": [
       "<Figure size 800x600 with 4 Axes>"
      ]
     },
     "metadata": {},
     "output_type": "display_data"
    }
   ],
   "source": [
    "sns.set_style('darkgrid')\n",
    "figura, graficos = plt.subplots(4, 1, sharex=True, figsize=(8,6))\n",
    "plt.tight_layout()\n",
    "\n",
    "for i in range(4):\n",
    "    coluna_1 = coluna_notas[i]\n",
    "    sns.histplot(data=df_enem[coluna_1], ax=graficos[i], color=cores[i]).set_title(coluna_1)\n",
    "plt.xlabel(' ')"
   ]
  },
  {
   "cell_type": "markdown",
   "id": "2844d483",
   "metadata": {},
   "source": [
    "## Analisando as notas de redação\n"
   ]
  },
  {
   "cell_type": "code",
   "execution_count": 196,
   "id": "dfb71028",
   "metadata": {},
   "outputs": [
    {
     "data": {
      "text/plain": [
       "Text(0, 0.5, 'Densidade')"
      ]
     },
     "execution_count": 196,
     "metadata": {},
     "output_type": "execute_result"
    },
    {
     "data": {
      "image/png": "[encoded data removed]",
      "text/plain": [
       "<Figure size 800x300 with 1 Axes>"
      ]
     },
     "metadata": {},
     "output_type": "display_data"
    }
   ],
   "source": [
    "sns.set(rc={'figure.figsize':(8, 3)})\n",
    "sns.kdeplot(data=df_enem['NU_NOTA_REDACAO']).set_title('Notas de Redação')\n",
    "plt.xlabel('Notas')\n",
    "plt.ylabel('Densidade')"
   ]
  },
  {
   "cell_type": "markdown",
   "id": "405158d4",
   "metadata": {},
   "source": [
    "## <a>Analisando as informacoes demográficas</a>"
   ]
  },
  {
   "cell_type": "code",
   "execution_count": 34,
   "id": "92a6d852",
   "metadata": {},
   "outputs": [
    {
     "data": {
      "text/html": [
       "<div>\n",
       "<style scoped>\n",
       "    .dataframe tbody tr th:only-of-type {\n",
       "        vertical-align: middle;\n",
       "    }\n",
       "\n",
       "    .dataframe tbody tr th {\n",
       "        vertical-align: top;\n",
       "    }\n",
       "\n",
       "    .dataframe thead th {\n",
       "        text-align: right;\n",
       "    }\n",
       "</style>\n",
       "<table border=\"1\" class=\"dataframe\">\n",
       "  <thead>\n",
       "    <tr style=\"text-align: right;\">\n",
       "      <th></th>\n",
       "      <th>TP_FAIXA_ETARIA</th>\n",
       "      <th>TP_SEXO</th>\n",
       "      <th>TP_ESTADO_CIVIL</th>\n",
       "      <th>TP_COR_RACA</th>\n",
       "      <th>TP_NACIONALIDADE</th>\n",
       "      <th>TP_ST_CONCLUSAO</th>\n",
       "      <th>TP_ANO_CONCLUIU</th>\n",
       "      <th>TP_ESCOLA</th>\n",
       "      <th>TP_ENSINO</th>\n",
       "      <th>IN_TREINEIRO</th>\n",
       "      <th>SG_UF_ESC</th>\n",
       "      <th>TP_DEPENDENCIA_ADM_ESC</th>\n",
       "      <th>TP_LOCALIZACAO_ESC</th>\n",
       "      <th>TP_SIT_FUNC_ESC</th>\n",
       "      <th>SG_UF_PROVA</th>\n",
       "      <th>TP_PRESENCA_CN</th>\n",
       "      <th>TP_PRESENCA_CH</th>\n",
       "      <th>TP_PRESENCA_LC</th>\n",
       "      <th>TP_PRESENCA_MT</th>\n",
       "      <th>NU_NOTA_CN</th>\n",
       "      <th>NU_NOTA_CH</th>\n",
       "      <th>NU_NOTA_LC</th>\n",
       "      <th>NU_NOTA_MT</th>\n",
       "      <th>TP_LINGUA</th>\n",
       "      <th>TP_STATUS_REDACAO</th>\n",
       "      <th>NU_NOTA_COMP1</th>\n",
       "      <th>NU_NOTA_COMP2</th>\n",
       "      <th>NU_NOTA_COMP3</th>\n",
       "      <th>NU_NOTA_COMP4</th>\n",
       "      <th>NU_NOTA_COMP5</th>\n",
       "      <th>NU_NOTA_REDACAO</th>\n",
       "      <th>Q001</th>\n",
       "      <th>Q002</th>\n",
       "      <th>Q003</th>\n",
       "      <th>Q004</th>\n",
       "      <th>Q005</th>\n",
       "      <th>Q006</th>\n",
       "      <th>Q007</th>\n",
       "      <th>Q008</th>\n",
       "      <th>Q009</th>\n",
       "      <th>Q010</th>\n",
       "      <th>Q011</th>\n",
       "      <th>Q012</th>\n",
       "      <th>Q013</th>\n",
       "      <th>Q014</th>\n",
       "      <th>Q015</th>\n",
       "      <th>Q016</th>\n",
       "      <th>Q017</th>\n",
       "      <th>Q018</th>\n",
       "      <th>Q019</th>\n",
       "      <th>Q020</th>\n",
       "      <th>Q021</th>\n",
       "      <th>Q022</th>\n",
       "      <th>Q023</th>\n",
       "      <th>Q024</th>\n",
       "      <th>Q025</th>\n",
       "    </tr>\n",
       "  </thead>\n",
       "  <tbody>\n",
       "    <tr>\n",
       "      <th>0</th>\n",
       "      <td>11</td>\n",
       "      <td>F</td>\n",
       "      <td>1</td>\n",
       "      <td>2</td>\n",
       "      <td>1</td>\n",
       "      <td>1</td>\n",
       "      <td>11</td>\n",
       "      <td>1</td>\n",
       "      <td>NaN</td>\n",
       "      <td>0</td>\n",
       "      <td>None</td>\n",
       "      <td>NaN</td>\n",
       "      <td>NaN</td>\n",
       "      <td>NaN</td>\n",
       "      <td>PA</td>\n",
       "      <td>0</td>\n",
       "      <td>0</td>\n",
       "      <td>0</td>\n",
       "      <td>0</td>\n",
       "      <td>NaN</td>\n",
       "      <td>NaN</td>\n",
       "      <td>NaN</td>\n",
       "      <td>NaN</td>\n",
       "      <td>1</td>\n",
       "      <td>NaN</td>\n",
       "      <td>NaN</td>\n",
       "      <td>NaN</td>\n",
       "      <td>NaN</td>\n",
       "      <td>NaN</td>\n",
       "      <td>NaN</td>\n",
       "      <td>NaN</td>\n",
       "      <td>None</td>\n",
       "      <td>None</td>\n",
       "      <td>None</td>\n",
       "      <td>None</td>\n",
       "      <td>NaN</td>\n",
       "      <td>None</td>\n",
       "      <td>None</td>\n",
       "      <td>None</td>\n",
       "      <td>None</td>\n",
       "      <td>None</td>\n",
       "      <td>None</td>\n",
       "      <td>None</td>\n",
       "      <td>None</td>\n",
       "      <td>None</td>\n",
       "      <td>None</td>\n",
       "      <td>None</td>\n",
       "      <td>None</td>\n",
       "      <td>None</td>\n",
       "      <td>None</td>\n",
       "      <td>None</td>\n",
       "      <td>None</td>\n",
       "      <td>None</td>\n",
       "      <td>None</td>\n",
       "      <td>None</td>\n",
       "      <td>None</td>\n",
       "    </tr>\n",
       "    <tr>\n",
       "      <th>1</th>\n",
       "      <td>11</td>\n",
       "      <td>M</td>\n",
       "      <td>2</td>\n",
       "      <td>3</td>\n",
       "      <td>1</td>\n",
       "      <td>1</td>\n",
       "      <td>11</td>\n",
       "      <td>1</td>\n",
       "      <td>NaN</td>\n",
       "      <td>0</td>\n",
       "      <td>None</td>\n",
       "      <td>NaN</td>\n",
       "      <td>NaN</td>\n",
       "      <td>NaN</td>\n",
       "      <td>RN</td>\n",
       "      <td>1</td>\n",
       "      <td>1</td>\n",
       "      <td>1</td>\n",
       "      <td>1</td>\n",
       "      <td>604.10</td>\n",
       "      <td>661.70</td>\n",
       "      <td>595.30</td>\n",
       "      <td>711.30</td>\n",
       "      <td>1</td>\n",
       "      <td>1.00</td>\n",
       "      <td>120.00</td>\n",
       "      <td>120.00</td>\n",
       "      <td>120.00</td>\n",
       "      <td>120.00</td>\n",
       "      <td>100.00</td>\n",
       "      <td>580.00</td>\n",
       "      <td>None</td>\n",
       "      <td>None</td>\n",
       "      <td>None</td>\n",
       "      <td>None</td>\n",
       "      <td>NaN</td>\n",
       "      <td>None</td>\n",
       "      <td>None</td>\n",
       "      <td>None</td>\n",
       "      <td>None</td>\n",
       "      <td>None</td>\n",
       "      <td>None</td>\n",
       "      <td>None</td>\n",
       "      <td>None</td>\n",
       "      <td>None</td>\n",
       "      <td>None</td>\n",
       "      <td>None</td>\n",
       "      <td>None</td>\n",
       "      <td>None</td>\n",
       "      <td>None</td>\n",
       "      <td>None</td>\n",
       "      <td>None</td>\n",
       "      <td>None</td>\n",
       "      <td>None</td>\n",
       "      <td>None</td>\n",
       "      <td>None</td>\n",
       "    </tr>\n",
       "    <tr>\n",
       "      <th>2</th>\n",
       "      <td>4</td>\n",
       "      <td>F</td>\n",
       "      <td>2</td>\n",
       "      <td>3</td>\n",
       "      <td>2</td>\n",
       "      <td>2</td>\n",
       "      <td>0</td>\n",
       "      <td>2</td>\n",
       "      <td>1.00</td>\n",
       "      <td>0</td>\n",
       "      <td>BA</td>\n",
       "      <td>2.00</td>\n",
       "      <td>1.00</td>\n",
       "      <td>1.00</td>\n",
       "      <td>BA</td>\n",
       "      <td>0</td>\n",
       "      <td>0</td>\n",
       "      <td>0</td>\n",
       "      <td>0</td>\n",
       "      <td>NaN</td>\n",
       "      <td>NaN</td>\n",
       "      <td>NaN</td>\n",
       "      <td>NaN</td>\n",
       "      <td>0</td>\n",
       "      <td>NaN</td>\n",
       "      <td>NaN</td>\n",
       "      <td>NaN</td>\n",
       "      <td>NaN</td>\n",
       "      <td>NaN</td>\n",
       "      <td>NaN</td>\n",
       "      <td>NaN</td>\n",
       "      <td>B</td>\n",
       "      <td>C</td>\n",
       "      <td>A</td>\n",
       "      <td>D</td>\n",
       "      <td>3.00</td>\n",
       "      <td>B</td>\n",
       "      <td>A</td>\n",
       "      <td>B</td>\n",
       "      <td>A</td>\n",
       "      <td>A</td>\n",
       "      <td>A</td>\n",
       "      <td>B</td>\n",
       "      <td>A</td>\n",
       "      <td>B</td>\n",
       "      <td>A</td>\n",
       "      <td>B</td>\n",
       "      <td>A</td>\n",
       "      <td>A</td>\n",
       "      <td>B</td>\n",
       "      <td>A</td>\n",
       "      <td>A</td>\n",
       "      <td>A</td>\n",
       "      <td>A</td>\n",
       "      <td>A</td>\n",
       "      <td>A</td>\n",
       "    </tr>\n",
       "    <tr>\n",
       "      <th>3</th>\n",
       "      <td>2</td>\n",
       "      <td>M</td>\n",
       "      <td>1</td>\n",
       "      <td>3</td>\n",
       "      <td>1</td>\n",
       "      <td>2</td>\n",
       "      <td>0</td>\n",
       "      <td>2</td>\n",
       "      <td>1.00</td>\n",
       "      <td>0</td>\n",
       "      <td>SP</td>\n",
       "      <td>3.00</td>\n",
       "      <td>1.00</td>\n",
       "      <td>1.00</td>\n",
       "      <td>SP</td>\n",
       "      <td>1</td>\n",
       "      <td>1</td>\n",
       "      <td>1</td>\n",
       "      <td>1</td>\n",
       "      <td>620.80</td>\n",
       "      <td>675.00</td>\n",
       "      <td>624.20</td>\n",
       "      <td>759.40</td>\n",
       "      <td>0</td>\n",
       "      <td>1.00</td>\n",
       "      <td>140.00</td>\n",
       "      <td>200.00</td>\n",
       "      <td>140.00</td>\n",
       "      <td>120.00</td>\n",
       "      <td>160.00</td>\n",
       "      <td>760.00</td>\n",
       "      <td>None</td>\n",
       "      <td>None</td>\n",
       "      <td>None</td>\n",
       "      <td>None</td>\n",
       "      <td>NaN</td>\n",
       "      <td>None</td>\n",
       "      <td>None</td>\n",
       "      <td>None</td>\n",
       "      <td>None</td>\n",
       "      <td>None</td>\n",
       "      <td>None</td>\n",
       "      <td>None</td>\n",
       "      <td>None</td>\n",
       "      <td>None</td>\n",
       "      <td>None</td>\n",
       "      <td>None</td>\n",
       "      <td>None</td>\n",
       "      <td>None</td>\n",
       "      <td>None</td>\n",
       "      <td>None</td>\n",
       "      <td>None</td>\n",
       "      <td>None</td>\n",
       "      <td>None</td>\n",
       "      <td>None</td>\n",
       "      <td>None</td>\n",
       "    </tr>\n",
       "    <tr>\n",
       "      <th>4</th>\n",
       "      <td>4</td>\n",
       "      <td>F</td>\n",
       "      <td>1</td>\n",
       "      <td>3</td>\n",
       "      <td>2</td>\n",
       "      <td>1</td>\n",
       "      <td>1</td>\n",
       "      <td>1</td>\n",
       "      <td>NaN</td>\n",
       "      <td>0</td>\n",
       "      <td>None</td>\n",
       "      <td>NaN</td>\n",
       "      <td>NaN</td>\n",
       "      <td>NaN</td>\n",
       "      <td>MG</td>\n",
       "      <td>0</td>\n",
       "      <td>0</td>\n",
       "      <td>0</td>\n",
       "      <td>0</td>\n",
       "      <td>NaN</td>\n",
       "      <td>NaN</td>\n",
       "      <td>NaN</td>\n",
       "      <td>NaN</td>\n",
       "      <td>1</td>\n",
       "      <td>NaN</td>\n",
       "      <td>NaN</td>\n",
       "      <td>NaN</td>\n",
       "      <td>NaN</td>\n",
       "      <td>NaN</td>\n",
       "      <td>NaN</td>\n",
       "      <td>NaN</td>\n",
       "      <td>B</td>\n",
       "      <td>G</td>\n",
       "      <td>B</td>\n",
       "      <td>B</td>\n",
       "      <td>3.00</td>\n",
       "      <td>B</td>\n",
       "      <td>A</td>\n",
       "      <td>B</td>\n",
       "      <td>D</td>\n",
       "      <td>A</td>\n",
       "      <td>A</td>\n",
       "      <td>B</td>\n",
       "      <td>A</td>\n",
       "      <td>B</td>\n",
       "      <td>A</td>\n",
       "      <td>A</td>\n",
       "      <td>A</td>\n",
       "      <td>A</td>\n",
       "      <td>B</td>\n",
       "      <td>A</td>\n",
       "      <td>B</td>\n",
       "      <td>B</td>\n",
       "      <td>A</td>\n",
       "      <td>A</td>\n",
       "      <td>B</td>\n",
       "    </tr>\n",
       "  </tbody>\n",
       "</table>\n",
       "</div>"
      ],
      "text/plain": [
       "   TP_FAIXA_ETARIA TP_SEXO  TP_ESTADO_CIVIL  TP_COR_RACA  TP_NACIONALIDADE  \\\n",
       "0               11       F                1            2                 1   \n",
       "1               11       M                2            3                 1   \n",
       "2                4       F                2            3                 2   \n",
       "3                2       M                1            3                 1   \n",
       "4                4       F                1            3                 2   \n",
       "\n",
       "   TP_ST_CONCLUSAO  TP_ANO_CONCLUIU  TP_ESCOLA  TP_ENSINO  IN_TREINEIRO  \\\n",
       "0                1               11          1        NaN             0   \n",
       "1                1               11          1        NaN             0   \n",
       "2                2                0          2       1.00             0   \n",
       "3                2                0          2       1.00             0   \n",
       "4                1                1          1        NaN             0   \n",
       "\n",
       "  SG_UF_ESC  TP_DEPENDENCIA_ADM_ESC  TP_LOCALIZACAO_ESC  TP_SIT_FUNC_ESC  \\\n",
       "0      None                     NaN                 NaN              NaN   \n",
       "1      None                     NaN                 NaN              NaN   \n",
       "2        BA                    2.00                1.00             1.00   \n",
       "3        SP                    3.00                1.00             1.00   \n",
       "4      None                     NaN                 NaN              NaN   \n",
       "\n",
       "  SG_UF_PROVA  TP_PRESENCA_CN  TP_PRESENCA_CH  TP_PRESENCA_LC  TP_PRESENCA_MT  \\\n",
       "0          PA               0               0               0               0   \n",
       "1          RN               1               1               1               1   \n",
       "2          BA               0               0               0               0   \n",
       "3          SP               1               1               1               1   \n",
       "4          MG               0               0               0               0   \n",
       "\n",
       "   NU_NOTA_CN  NU_NOTA_CH  NU_NOTA_LC  NU_NOTA_MT  TP_LINGUA  \\\n",
       "0         NaN         NaN         NaN         NaN          1   \n",
       "1      604.10      661.70      595.30      711.30          1   \n",
       "2         NaN         NaN         NaN         NaN          0   \n",
       "3      620.80      675.00      624.20      759.40          0   \n",
       "4         NaN         NaN         NaN         NaN          1   \n",
       "\n",
       "   TP_STATUS_REDACAO  NU_NOTA_COMP1  NU_NOTA_COMP2  NU_NOTA_COMP3  \\\n",
       "0                NaN            NaN            NaN            NaN   \n",
       "1               1.00         120.00         120.00         120.00   \n",
       "2                NaN            NaN            NaN            NaN   \n",
       "3               1.00         140.00         200.00         140.00   \n",
       "4                NaN            NaN            NaN            NaN   \n",
       "\n",
       "   NU_NOTA_COMP4  NU_NOTA_COMP5  NU_NOTA_REDACAO  Q001  Q002  Q003  Q004  \\\n",
       "0            NaN            NaN              NaN  None  None  None  None   \n",
       "1         120.00         100.00           580.00  None  None  None  None   \n",
       "2            NaN            NaN              NaN     B     C     A     D   \n",
       "3         120.00         160.00           760.00  None  None  None  None   \n",
       "4            NaN            NaN              NaN     B     G     B     B   \n",
       "\n",
       "   Q005  Q006  Q007  Q008  Q009  Q010  Q011  Q012  Q013  Q014  Q015  Q016  \\\n",
       "0   NaN  None  None  None  None  None  None  None  None  None  None  None   \n",
       "1   NaN  None  None  None  None  None  None  None  None  None  None  None   \n",
       "2  3.00     B     A     B     A     A     A     B     A     B     A     B   \n",
       "3   NaN  None  None  None  None  None  None  None  None  None  None  None   \n",
       "4  3.00     B     A     B     D     A     A     B     A     B     A     A   \n",
       "\n",
       "   Q017  Q018  Q019  Q020  Q021  Q022  Q023  Q024  Q025  \n",
       "0  None  None  None  None  None  None  None  None  None  \n",
       "1  None  None  None  None  None  None  None  None  None  \n",
       "2     A     A     B     A     A     A     A     A     A  \n",
       "3  None  None  None  None  None  None  None  None  None  \n",
       "4     A     A     B     A     B     B     A     A     B  "
      ]
     },
     "execution_count": 34,
     "metadata": {},
     "output_type": "execute_result"
    }
   ],
   "source": [
    "df_enem.head()"
   ]
  },
  {
   "cell_type": "code",
   "execution_count": 35,
   "id": "3beaa7db",
   "metadata": {},
   "outputs": [
    {
     "data": {
      "text/html": [
       "<div>\n",
       "<style scoped>\n",
       "    .dataframe tbody tr th:only-of-type {\n",
       "        vertical-align: middle;\n",
       "    }\n",
       "\n",
       "    .dataframe tbody tr th {\n",
       "        vertical-align: top;\n",
       "    }\n",
       "\n",
       "    .dataframe thead th {\n",
       "        text-align: right;\n",
       "    }\n",
       "</style>\n",
       "<table border=\"1\" class=\"dataframe\">\n",
       "  <thead>\n",
       "    <tr style=\"text-align: right;\">\n",
       "      <th></th>\n",
       "      <th>TP_FAIXA_ETARIA</th>\n",
       "      <th>TP_SEXO</th>\n",
       "      <th>TP_ESTADO_CIVIL</th>\n",
       "      <th>TP_COR_RACA</th>\n",
       "      <th>TP_NACIONALIDADE</th>\n",
       "      <th>TP_ST_CONCLUSAO</th>\n",
       "      <th>TP_ANO_CONCLUIU</th>\n",
       "      <th>TP_ESCOLA</th>\n",
       "      <th>TP_ENSINO</th>\n",
       "      <th>IN_TREINEIRO</th>\n",
       "      <th>SG_UF_ESC</th>\n",
       "      <th>TP_DEPENDENCIA_ADM_ESC</th>\n",
       "      <th>TP_LOCALIZACAO_ESC</th>\n",
       "      <th>TP_SIT_FUNC_ESC</th>\n",
       "      <th>SG_UF_PROVA</th>\n",
       "      <th>TP_PRESENCA_CN</th>\n",
       "      <th>TP_PRESENCA_CH</th>\n",
       "      <th>TP_PRESENCA_LC</th>\n",
       "      <th>TP_PRESENCA_MT</th>\n",
       "      <th>NU_NOTA_CN</th>\n",
       "      <th>NU_NOTA_CH</th>\n",
       "      <th>NU_NOTA_LC</th>\n",
       "      <th>NU_NOTA_MT</th>\n",
       "      <th>TP_LINGUA</th>\n",
       "      <th>TP_STATUS_REDACAO</th>\n",
       "      <th>NU_NOTA_COMP1</th>\n",
       "      <th>NU_NOTA_COMP2</th>\n",
       "      <th>NU_NOTA_COMP3</th>\n",
       "      <th>NU_NOTA_COMP4</th>\n",
       "      <th>NU_NOTA_COMP5</th>\n",
       "      <th>NU_NOTA_REDACAO</th>\n",
       "      <th>Q001</th>\n",
       "      <th>Q002</th>\n",
       "      <th>Q003</th>\n",
       "      <th>Q004</th>\n",
       "      <th>Q005</th>\n",
       "      <th>Q006</th>\n",
       "      <th>Q007</th>\n",
       "      <th>Q008</th>\n",
       "      <th>Q009</th>\n",
       "      <th>Q010</th>\n",
       "      <th>Q011</th>\n",
       "      <th>Q012</th>\n",
       "      <th>Q013</th>\n",
       "      <th>Q014</th>\n",
       "      <th>Q015</th>\n",
       "      <th>Q016</th>\n",
       "      <th>Q017</th>\n",
       "      <th>Q018</th>\n",
       "      <th>Q019</th>\n",
       "      <th>Q020</th>\n",
       "      <th>Q021</th>\n",
       "      <th>Q022</th>\n",
       "      <th>Q023</th>\n",
       "      <th>Q024</th>\n",
       "      <th>Q025</th>\n",
       "    </tr>\n",
       "  </thead>\n",
       "  <tbody>\n",
       "    <tr>\n",
       "      <th>0</th>\n",
       "      <td>11</td>\n",
       "      <td>F</td>\n",
       "      <td>1</td>\n",
       "      <td>2</td>\n",
       "      <td>1</td>\n",
       "      <td>1</td>\n",
       "      <td>11</td>\n",
       "      <td>1</td>\n",
       "      <td>NaN</td>\n",
       "      <td>0</td>\n",
       "      <td>None</td>\n",
       "      <td>NaN</td>\n",
       "      <td>NaN</td>\n",
       "      <td>NaN</td>\n",
       "      <td>PA</td>\n",
       "      <td>0</td>\n",
       "      <td>0</td>\n",
       "      <td>0</td>\n",
       "      <td>0</td>\n",
       "      <td>NaN</td>\n",
       "      <td>NaN</td>\n",
       "      <td>NaN</td>\n",
       "      <td>NaN</td>\n",
       "      <td>1</td>\n",
       "      <td>NaN</td>\n",
       "      <td>NaN</td>\n",
       "      <td>NaN</td>\n",
       "      <td>NaN</td>\n",
       "      <td>NaN</td>\n",
       "      <td>NaN</td>\n",
       "      <td>NaN</td>\n",
       "      <td>None</td>\n",
       "      <td>None</td>\n",
       "      <td>None</td>\n",
       "      <td>None</td>\n",
       "      <td>NaN</td>\n",
       "      <td>None</td>\n",
       "      <td>None</td>\n",
       "      <td>None</td>\n",
       "      <td>None</td>\n",
       "      <td>None</td>\n",
       "      <td>None</td>\n",
       "      <td>None</td>\n",
       "      <td>None</td>\n",
       "      <td>None</td>\n",
       "      <td>None</td>\n",
       "      <td>None</td>\n",
       "      <td>None</td>\n",
       "      <td>None</td>\n",
       "      <td>None</td>\n",
       "      <td>None</td>\n",
       "      <td>None</td>\n",
       "      <td>None</td>\n",
       "      <td>None</td>\n",
       "      <td>None</td>\n",
       "      <td>None</td>\n",
       "    </tr>\n",
       "    <tr>\n",
       "      <th>1</th>\n",
       "      <td>11</td>\n",
       "      <td>M</td>\n",
       "      <td>2</td>\n",
       "      <td>3</td>\n",
       "      <td>1</td>\n",
       "      <td>1</td>\n",
       "      <td>11</td>\n",
       "      <td>1</td>\n",
       "      <td>NaN</td>\n",
       "      <td>0</td>\n",
       "      <td>None</td>\n",
       "      <td>NaN</td>\n",
       "      <td>NaN</td>\n",
       "      <td>NaN</td>\n",
       "      <td>RN</td>\n",
       "      <td>1</td>\n",
       "      <td>1</td>\n",
       "      <td>1</td>\n",
       "      <td>1</td>\n",
       "      <td>604.10</td>\n",
       "      <td>661.70</td>\n",
       "      <td>595.30</td>\n",
       "      <td>711.30</td>\n",
       "      <td>1</td>\n",
       "      <td>1.00</td>\n",
       "      <td>120.00</td>\n",
       "      <td>120.00</td>\n",
       "      <td>120.00</td>\n",
       "      <td>120.00</td>\n",
       "      <td>100.00</td>\n",
       "      <td>580.00</td>\n",
       "      <td>None</td>\n",
       "      <td>None</td>\n",
       "      <td>None</td>\n",
       "      <td>None</td>\n",
       "      <td>NaN</td>\n",
       "      <td>None</td>\n",
       "      <td>None</td>\n",
       "      <td>None</td>\n",
       "      <td>None</td>\n",
       "      <td>None</td>\n",
       "      <td>None</td>\n",
       "      <td>None</td>\n",
       "      <td>None</td>\n",
       "      <td>None</td>\n",
       "      <td>None</td>\n",
       "      <td>None</td>\n",
       "      <td>None</td>\n",
       "      <td>None</td>\n",
       "      <td>None</td>\n",
       "      <td>None</td>\n",
       "      <td>None</td>\n",
       "      <td>None</td>\n",
       "      <td>None</td>\n",
       "      <td>None</td>\n",
       "      <td>None</td>\n",
       "    </tr>\n",
       "    <tr>\n",
       "      <th>2</th>\n",
       "      <td>4</td>\n",
       "      <td>F</td>\n",
       "      <td>2</td>\n",
       "      <td>3</td>\n",
       "      <td>2</td>\n",
       "      <td>2</td>\n",
       "      <td>0</td>\n",
       "      <td>2</td>\n",
       "      <td>1.00</td>\n",
       "      <td>0</td>\n",
       "      <td>BA</td>\n",
       "      <td>2.00</td>\n",
       "      <td>1.00</td>\n",
       "      <td>1.00</td>\n",
       "      <td>BA</td>\n",
       "      <td>0</td>\n",
       "      <td>0</td>\n",
       "      <td>0</td>\n",
       "      <td>0</td>\n",
       "      <td>NaN</td>\n",
       "      <td>NaN</td>\n",
       "      <td>NaN</td>\n",
       "      <td>NaN</td>\n",
       "      <td>0</td>\n",
       "      <td>NaN</td>\n",
       "      <td>NaN</td>\n",
       "      <td>NaN</td>\n",
       "      <td>NaN</td>\n",
       "      <td>NaN</td>\n",
       "      <td>NaN</td>\n",
       "      <td>NaN</td>\n",
       "      <td>B</td>\n",
       "      <td>C</td>\n",
       "      <td>A</td>\n",
       "      <td>D</td>\n",
       "      <td>3.00</td>\n",
       "      <td>B</td>\n",
       "      <td>A</td>\n",
       "      <td>B</td>\n",
       "      <td>A</td>\n",
       "      <td>A</td>\n",
       "      <td>A</td>\n",
       "      <td>B</td>\n",
       "      <td>A</td>\n",
       "      <td>B</td>\n",
       "      <td>A</td>\n",
       "      <td>B</td>\n",
       "      <td>A</td>\n",
       "      <td>A</td>\n",
       "      <td>B</td>\n",
       "      <td>A</td>\n",
       "      <td>A</td>\n",
       "      <td>A</td>\n",
       "      <td>A</td>\n",
       "      <td>A</td>\n",
       "      <td>A</td>\n",
       "    </tr>\n",
       "    <tr>\n",
       "      <th>3</th>\n",
       "      <td>2</td>\n",
       "      <td>M</td>\n",
       "      <td>1</td>\n",
       "      <td>3</td>\n",
       "      <td>1</td>\n",
       "      <td>2</td>\n",
       "      <td>0</td>\n",
       "      <td>2</td>\n",
       "      <td>1.00</td>\n",
       "      <td>0</td>\n",
       "      <td>SP</td>\n",
       "      <td>3.00</td>\n",
       "      <td>1.00</td>\n",
       "      <td>1.00</td>\n",
       "      <td>SP</td>\n",
       "      <td>1</td>\n",
       "      <td>1</td>\n",
       "      <td>1</td>\n",
       "      <td>1</td>\n",
       "      <td>620.80</td>\n",
       "      <td>675.00</td>\n",
       "      <td>624.20</td>\n",
       "      <td>759.40</td>\n",
       "      <td>0</td>\n",
       "      <td>1.00</td>\n",
       "      <td>140.00</td>\n",
       "      <td>200.00</td>\n",
       "      <td>140.00</td>\n",
       "      <td>120.00</td>\n",
       "      <td>160.00</td>\n",
       "      <td>760.00</td>\n",
       "      <td>None</td>\n",
       "      <td>None</td>\n",
       "      <td>None</td>\n",
       "      <td>None</td>\n",
       "      <td>NaN</td>\n",
       "      <td>None</td>\n",
       "      <td>None</td>\n",
       "      <td>None</td>\n",
       "      <td>None</td>\n",
       "      <td>None</td>\n",
       "      <td>None</td>\n",
       "      <td>None</td>\n",
       "      <td>None</td>\n",
       "      <td>None</td>\n",
       "      <td>None</td>\n",
       "      <td>None</td>\n",
       "      <td>None</td>\n",
       "      <td>None</td>\n",
       "      <td>None</td>\n",
       "      <td>None</td>\n",
       "      <td>None</td>\n",
       "      <td>None</td>\n",
       "      <td>None</td>\n",
       "      <td>None</td>\n",
       "      <td>None</td>\n",
       "    </tr>\n",
       "    <tr>\n",
       "      <th>4</th>\n",
       "      <td>4</td>\n",
       "      <td>F</td>\n",
       "      <td>1</td>\n",
       "      <td>3</td>\n",
       "      <td>2</td>\n",
       "      <td>1</td>\n",
       "      <td>1</td>\n",
       "      <td>1</td>\n",
       "      <td>NaN</td>\n",
       "      <td>0</td>\n",
       "      <td>None</td>\n",
       "      <td>NaN</td>\n",
       "      <td>NaN</td>\n",
       "      <td>NaN</td>\n",
       "      <td>MG</td>\n",
       "      <td>0</td>\n",
       "      <td>0</td>\n",
       "      <td>0</td>\n",
       "      <td>0</td>\n",
       "      <td>NaN</td>\n",
       "      <td>NaN</td>\n",
       "      <td>NaN</td>\n",
       "      <td>NaN</td>\n",
       "      <td>1</td>\n",
       "      <td>NaN</td>\n",
       "      <td>NaN</td>\n",
       "      <td>NaN</td>\n",
       "      <td>NaN</td>\n",
       "      <td>NaN</td>\n",
       "      <td>NaN</td>\n",
       "      <td>NaN</td>\n",
       "      <td>B</td>\n",
       "      <td>G</td>\n",
       "      <td>B</td>\n",
       "      <td>B</td>\n",
       "      <td>3.00</td>\n",
       "      <td>B</td>\n",
       "      <td>A</td>\n",
       "      <td>B</td>\n",
       "      <td>D</td>\n",
       "      <td>A</td>\n",
       "      <td>A</td>\n",
       "      <td>B</td>\n",
       "      <td>A</td>\n",
       "      <td>B</td>\n",
       "      <td>A</td>\n",
       "      <td>A</td>\n",
       "      <td>A</td>\n",
       "      <td>A</td>\n",
       "      <td>B</td>\n",
       "      <td>A</td>\n",
       "      <td>B</td>\n",
       "      <td>B</td>\n",
       "      <td>A</td>\n",
       "      <td>A</td>\n",
       "      <td>B</td>\n",
       "    </tr>\n",
       "  </tbody>\n",
       "</table>\n",
       "</div>"
      ],
      "text/plain": [
       "   TP_FAIXA_ETARIA TP_SEXO  TP_ESTADO_CIVIL  TP_COR_RACA  TP_NACIONALIDADE  \\\n",
       "0               11       F                1            2                 1   \n",
       "1               11       M                2            3                 1   \n",
       "2                4       F                2            3                 2   \n",
       "3                2       M                1            3                 1   \n",
       "4                4       F                1            3                 2   \n",
       "\n",
       "   TP_ST_CONCLUSAO  TP_ANO_CONCLUIU  TP_ESCOLA  TP_ENSINO  IN_TREINEIRO  \\\n",
       "0                1               11          1        NaN             0   \n",
       "1                1               11          1        NaN             0   \n",
       "2                2                0          2       1.00             0   \n",
       "3                2                0          2       1.00             0   \n",
       "4                1                1          1        NaN             0   \n",
       "\n",
       "  SG_UF_ESC  TP_DEPENDENCIA_ADM_ESC  TP_LOCALIZACAO_ESC  TP_SIT_FUNC_ESC  \\\n",
       "0      None                     NaN                 NaN              NaN   \n",
       "1      None                     NaN                 NaN              NaN   \n",
       "2        BA                    2.00                1.00             1.00   \n",
       "3        SP                    3.00                1.00             1.00   \n",
       "4      None                     NaN                 NaN              NaN   \n",
       "\n",
       "  SG_UF_PROVA  TP_PRESENCA_CN  TP_PRESENCA_CH  TP_PRESENCA_LC  TP_PRESENCA_MT  \\\n",
       "0          PA               0               0               0               0   \n",
       "1          RN               1               1               1               1   \n",
       "2          BA               0               0               0               0   \n",
       "3          SP               1               1               1               1   \n",
       "4          MG               0               0               0               0   \n",
       "\n",
       "   NU_NOTA_CN  NU_NOTA_CH  NU_NOTA_LC  NU_NOTA_MT  TP_LINGUA  \\\n",
       "0         NaN         NaN         NaN         NaN          1   \n",
       "1      604.10      661.70      595.30      711.30          1   \n",
       "2         NaN         NaN         NaN         NaN          0   \n",
       "3      620.80      675.00      624.20      759.40          0   \n",
       "4         NaN         NaN         NaN         NaN          1   \n",
       "\n",
       "   TP_STATUS_REDACAO  NU_NOTA_COMP1  NU_NOTA_COMP2  NU_NOTA_COMP3  \\\n",
       "0                NaN            NaN            NaN            NaN   \n",
       "1               1.00         120.00         120.00         120.00   \n",
       "2                NaN            NaN            NaN            NaN   \n",
       "3               1.00         140.00         200.00         140.00   \n",
       "4                NaN            NaN            NaN            NaN   \n",
       "\n",
       "   NU_NOTA_COMP4  NU_NOTA_COMP5  NU_NOTA_REDACAO  Q001  Q002  Q003  Q004  \\\n",
       "0            NaN            NaN              NaN  None  None  None  None   \n",
       "1         120.00         100.00           580.00  None  None  None  None   \n",
       "2            NaN            NaN              NaN     B     C     A     D   \n",
       "3         120.00         160.00           760.00  None  None  None  None   \n",
       "4            NaN            NaN              NaN     B     G     B     B   \n",
       "\n",
       "   Q005  Q006  Q007  Q008  Q009  Q010  Q011  Q012  Q013  Q014  Q015  Q016  \\\n",
       "0   NaN  None  None  None  None  None  None  None  None  None  None  None   \n",
       "1   NaN  None  None  None  None  None  None  None  None  None  None  None   \n",
       "2  3.00     B     A     B     A     A     A     B     A     B     A     B   \n",
       "3   NaN  None  None  None  None  None  None  None  None  None  None  None   \n",
       "4  3.00     B     A     B     D     A     A     B     A     B     A     A   \n",
       "\n",
       "   Q017  Q018  Q019  Q020  Q021  Q022  Q023  Q024  Q025  \n",
       "0  None  None  None  None  None  None  None  None  None  \n",
       "1  None  None  None  None  None  None  None  None  None  \n",
       "2     A     A     B     A     A     A     A     A     A  \n",
       "3  None  None  None  None  None  None  None  None  None  \n",
       "4     A     A     B     A     B     B     A     A     B  "
      ]
     },
     "execution_count": 35,
     "metadata": {},
     "output_type": "execute_result"
    }
   ],
   "source": [
    "# Reiniciando os indices\n",
    "df_enem = df_enem.reset_index(drop=True)\n",
    "df_enem.head()"
   ]
  },
  {
   "cell_type": "markdown",
   "id": "671a8cbe",
   "metadata": {},
   "source": [
    "## Analisando a faixa etária dos candidatos\n"
   ]
  },
  {
   "attachments": {},
   "cell_type": "markdown",
   "id": "fe3fefa0",
   "metadata": {},
   "source": [
    "- 1\tMenor de 17 anos\n",
    "- 2\t17 anos\n",
    "- 3\t18 anos\n",
    "- 4\t19 anos\n",
    "- 5\t20 anos\n",
    "- 6\t21 anos\n",
    "- 7\t22 anos\n",
    "- 8\t23 anos\n",
    "- 9\t24 anos\n",
    "- 10\t25 anos\n",
    "- 11\tEntre 26 e 30 anos\n",
    "- 12\tEntre 31 e 35 anos\n",
    "- 13\tEntre 36 e 40 anos\n",
    "- 14\tEntre 41 e 45 anos\n",
    "- 15\tEntre 46 e 50 anos\n",
    "- 16\tEntre 51 e 55 anos\n",
    "- 17\tEntre 56 e 60 anos\n",
    "- 18\tEntre 61 e 65 anos\n",
    "- 19\tEntre 66 e 70 anos\n",
    "- 20\tMaior de 70 anos"
   ]
  },
  {
   "cell_type": "code",
   "execution_count": 36,
   "id": "1d2eec79",
   "metadata": {},
   "outputs": [
    {
     "data": {
      "text/plain": [
       "1     336805\n",
       "2     775404\n",
       "3     887715\n",
       "4     609450\n",
       "5     459606\n",
       "6     353734\n",
       "7     274709\n",
       "8     239812\n",
       "9     204689\n",
       "10    177344\n",
       "11    575442\n",
       "12    341808\n",
       "13    235027\n",
       "14    143795\n",
       "15     86079\n",
       "16     47539\n",
       "17     22383\n",
       "18      8144\n",
       "19      2693\n",
       "20       931\n",
       "Name: TP_FAIXA_ETARIA, dtype: int64"
      ]
     },
     "execution_count": 36,
     "metadata": {},
     "output_type": "execute_result"
    }
   ],
   "source": [
    "df_enem['TP_FAIXA_ETARIA'].value_counts().sort_index()"
   ]
  },
  {
   "cell_type": "code",
   "execution_count": 185,
   "id": "b659c61a",
   "metadata": {},
   "outputs": [
    {
     "data": {
      "text/plain": [
       "[Text(0.5, 0, 'Faixa Etária'), Text(0, 0.5, 'Quantidade')]"
      ]
     },
     "execution_count": 185,
     "metadata": {},
     "output_type": "execute_result"
    },
    {
     "data": {
      "image/png": "[encoded data removed]",
      "text/plain": [
       "<Figure size 800x400 with 1 Axes>"
      ]
     },
     "metadata": {},
     "output_type": "display_data"
    }
   ],
   "source": [
    "ax = sns.histplot(data=df_enem, x='TP_FAIXA_ETARIA', bins=20, discrete=True, color=cores[i])\n",
    "ax.set(xlabel='Faixa Etária', ylabel='Quantidade')"
   ]
  },
  {
   "cell_type": "markdown",
   "id": "e0b65b8d",
   "metadata": {},
   "source": [
    "## Analisando o sexo dos candidatos\n"
   ]
  },
  {
   "cell_type": "code",
   "execution_count": 48,
   "id": "46413bcd",
   "metadata": {},
   "outputs": [
    {
     "data": {
      "text/plain": [
       "F    3468805\n",
       "M    2314304\n",
       "Name: TP_SEXO, dtype: int64"
      ]
     },
     "execution_count": 48,
     "metadata": {},
     "output_type": "execute_result"
    }
   ],
   "source": [
    "df_enem['TP_SEXO'].value_counts()"
   ]
  },
  {
   "cell_type": "code",
   "execution_count": 49,
   "id": "49b5d55d",
   "metadata": {},
   "outputs": [
    {
     "data": {
      "text/plain": [
       "F   59.98\n",
       "M   40.02\n",
       "Name: TP_SEXO, dtype: float64"
      ]
     },
     "execution_count": 49,
     "metadata": {},
     "output_type": "execute_result"
    }
   ],
   "source": [
    "# em porcentagem\n",
    "df_enem['TP_SEXO'].value_counts(normalize=True) * 100"
   ]
  },
  {
   "cell_type": "code",
   "execution_count": 198,
   "id": "58b1573a",
   "metadata": {},
   "outputs": [
    {
     "data": {
      "text/plain": [
       "[Text(0.5, 0, 'Sexo'), Text(0, 0.5, 'Quantidade')]"
      ]
     },
     "execution_count": 198,
     "metadata": {},
     "output_type": "execute_result"
    },
    {
     "data": {
      "image/png": "[encoded data removed]",
      "text/plain": [
       "<Figure size 800x300 with 1 Axes>"
      ]
     },
     "metadata": {},
     "output_type": "display_data"
    }
   ],
   "source": [
    "ax = sns.countplot(data=df_enem, x='TP_SEXO', palette='colorblind')\n",
    "ax.set(xlabel='Sexo', ylabel='Quantidade')"
   ]
  },
  {
   "cell_type": "markdown",
   "id": "0d147b5f",
   "metadata": {},
   "source": [
    "## Analisando o estado civil dos candidatos\n"
   ]
  },
  {
   "cell_type": "code",
   "execution_count": 55,
   "id": "7f3a267d",
   "metadata": {},
   "outputs": [
    {
     "data": {
      "text/plain": [
       "0     263848\n",
       "1    4851310\n",
       "2     527734\n",
       "3     131423\n",
       "4       8794\n",
       "Name: TP_ESTADO_CIVIL, dtype: int64"
      ]
     },
     "execution_count": 55,
     "metadata": {},
     "output_type": "execute_result"
    }
   ],
   "source": [
    "'''\n",
    "0 Não informado\n",
    "1 Solteiro(a)\n",
    "2 Casado(a)/Mora com companheiro(a)\n",
    "3 Divorciado(a)/Desquitado(a)/Separado(a)\n",
    "4 Viúvo(a)\n",
    "'''\n",
    "df_enem['TP_ESTADO_CIVIL'].value_counts().sort_index()"
   ]
  },
  {
   "cell_type": "code",
   "execution_count": 205,
   "id": "72c4b58b",
   "metadata": {},
   "outputs": [
    {
     "data": {
      "text/plain": [
       "[Text(0.5, 0, 'Estado Civil'), Text(0, 0.5, 'Quantidade')]"
      ]
     },
     "execution_count": 205,
     "metadata": {},
     "output_type": "execute_result"
    },
    {
     "data": {
      "image/png": "[encoded data removed]",
      "text/plain": [
       "<Figure size 700x500 with 1 Axes>"
      ]
     },
     "metadata": {},
     "output_type": "display_data"
    }
   ],
   "source": [
    "ax = sns.countplot(data=df_enem, x='TP_ESTADO_CIVIL', palette='colorblind')\n",
    "ax.set(xlabel='Estado Civil', ylabel='Quantidade')"
   ]
  },
  {
   "cell_type": "markdown",
   "id": "17c545ba",
   "metadata": {},
   "source": [
    "## Analisando a raça dos candidatos\n",
    "- 0 Não declarado \n",
    "- 1 Branca \n",
    "- 2 Preta \n",
    "- 3 Parda\n",
    "- 4 Amarela\n",
    "- 5 Indígena "
   ]
  },
  {
   "cell_type": "code",
   "execution_count": 58,
   "id": "87d26653",
   "metadata": {},
   "outputs": [
    {
     "data": {
      "text/plain": [
       "0     116883\n",
       "1    2007633\n",
       "2     771740\n",
       "3    2720485\n",
       "4     128522\n",
       "5      37846\n",
       "Name: TP_COR_RACA, dtype: int64"
      ]
     },
     "execution_count": 58,
     "metadata": {},
     "output_type": "execute_result"
    }
   ],
   "source": [
    "df_enem['TP_COR_RACA'].value_counts().sort_index()"
   ]
  },
  {
   "cell_type": "code",
   "execution_count": 208,
   "id": "8e31e9ce",
   "metadata": {},
   "outputs": [
    {
     "data": {
      "text/plain": [
       "[Text(0.5, 0, 'Raça'), Text(0, 0.5, 'Quantidade')]"
      ]
     },
     "execution_count": 208,
     "metadata": {},
     "output_type": "execute_result"
    },
    {
     "data": {
      "image/png": "[encoded data removed]",
      "text/plain": [
       "<Figure size 700x500 with 1 Axes>"
      ]
     },
     "metadata": {},
     "output_type": "display_data"
    }
   ],
   "source": [
    "ax = sns.countplot(data=df_enem, x='TP_COR_RACA', palette='colorblind')\n",
    "ax.set(xlabel='Raça', ylabel='Quantidade')"
   ]
  },
  {
   "cell_type": "markdown",
   "id": "c4f55d1c",
   "metadata": {},
   "source": [
    "## Analisando a UF das escolas onde os alunos realizaram a prova\n"
   ]
  },
  {
   "cell_type": "code",
   "execution_count": 62,
   "id": "b33422aa",
   "metadata": {},
   "outputs": [
    {
     "data": {
      "text/plain": [
       "SP    167183\n",
       "CE    104981\n",
       "MG     71614\n",
       "RJ     62583\n",
       "PE     47583\n",
       "BA     47235\n",
       "PR     43060\n",
       "GO     39769\n",
       "RS     36478\n",
       "PA     33109\n",
       "AM     30120\n",
       "SC     27373\n",
       "MA     26104\n",
       "DF     19840\n",
       "PB     19760\n",
       "ES     18419\n",
       "PI     15738\n",
       "MT     14674\n",
       "RN     14327\n",
       "AL     13976\n",
       "MS     11851\n",
       "SE     10878\n",
       "RO      9927\n",
       "TO      8457\n",
       "AP      3565\n",
       "AC      3512\n",
       "RR      2453\n",
       "Name: SG_UF_ESC, dtype: int64"
      ]
     },
     "execution_count": 62,
     "metadata": {},
     "output_type": "execute_result"
    }
   ],
   "source": [
    "ufs = df_enem['SG_UF_ESC'].value_counts()\n",
    "ufs"
   ]
  },
  {
   "cell_type": "code",
   "execution_count": 76,
   "id": "ed168923",
   "metadata": {},
   "outputs": [
    {
     "data": {
      "text/html": [
       "<div>\n",
       "<style scoped>\n",
       "    .dataframe tbody tr th:only-of-type {\n",
       "        vertical-align: middle;\n",
       "    }\n",
       "\n",
       "    .dataframe tbody tr th {\n",
       "        vertical-align: top;\n",
       "    }\n",
       "\n",
       "    .dataframe thead th {\n",
       "        text-align: right;\n",
       "    }\n",
       "</style>\n",
       "<table border=\"1\" class=\"dataframe\">\n",
       "  <thead>\n",
       "    <tr style=\"text-align: right;\">\n",
       "      <th></th>\n",
       "      <th>uf</th>\n",
       "      <th>candidatos</th>\n",
       "    </tr>\n",
       "  </thead>\n",
       "  <tbody>\n",
       "    <tr>\n",
       "      <th>0</th>\n",
       "      <td>SP</td>\n",
       "      <td>167183</td>\n",
       "    </tr>\n",
       "    <tr>\n",
       "      <th>1</th>\n",
       "      <td>CE</td>\n",
       "      <td>104981</td>\n",
       "    </tr>\n",
       "    <tr>\n",
       "      <th>2</th>\n",
       "      <td>MG</td>\n",
       "      <td>71614</td>\n",
       "    </tr>\n",
       "    <tr>\n",
       "      <th>3</th>\n",
       "      <td>RJ</td>\n",
       "      <td>62583</td>\n",
       "    </tr>\n",
       "    <tr>\n",
       "      <th>4</th>\n",
       "      <td>PE</td>\n",
       "      <td>47583</td>\n",
       "    </tr>\n",
       "  </tbody>\n",
       "</table>\n",
       "</div>"
      ],
      "text/plain": [
       "   uf  candidatos\n",
       "0  SP      167183\n",
       "1  CE      104981\n",
       "2  MG       71614\n",
       "3  RJ       62583\n",
       "4  PE       47583"
      ]
     },
     "execution_count": 76,
     "metadata": {},
     "output_type": "execute_result"
    }
   ],
   "source": [
    "df_ufs = pd.DataFrame({'uf': ufs.index, 'candidatos': ufs.values})\n",
    "df_ufs.head()"
   ]
  },
  {
   "cell_type": "code",
   "execution_count": 77,
   "id": "5354a8f9",
   "metadata": {},
   "outputs": [
    {
     "data": {
      "application/vnd.plotly.v1+json": {
       "config": {
        "plotlyServerURL": "https://plot.ly"
       },
       "data": [
        {
         "branchvalues": "total",
         "domain": {
          "x": [
           0,
           1
          ],
          "y": [
           0,
           1
          ]
         },
         "hovertemplate": "labels=%{label}<br>candidatos=%{value}<br>parent=%{parent}<br>id=%{id}<extra></extra>",
         "ids": [
          "AC",
          "AL",
          "AM",
          "AP",
          "BA",
          "CE",
          "DF",
          "ES",
          "GO",
          "MA",
          "MG",
          "MS",
          "MT",
          "PA",
          "PB",
          "PE",
          "PI",
          "PR",
          "RJ",
          "RN",
          "RO",
          "RR",
          "RS",
          "SC",
          "SE",
          "SP",
          "TO"
         ],
         "labels": [
          "AC",
          "AL",
          "AM",
          "AP",
          "BA",
          "CE",
          "DF",
          "ES",
          "GO",
          "MA",
          "MG",
          "MS",
          "MT",
          "PA",
          "PB",
          "PE",
          "PI",
          "PR",
          "RJ",
          "RN",
          "RO",
          "RR",
          "RS",
          "SC",
          "SE",
          "SP",
          "TO"
         ],
         "name": "",
         "parents": [
          "",
          "",
          "",
          "",
          "",
          "",
          "",
          "",
          "",
          "",
          "",
          "",
          "",
          "",
          "",
          "",
          "",
          "",
          "",
          "",
          "",
          "",
          "",
          "",
          "",
          "",
          ""
         ],
         "root": {
          "color": "#f2f2ed"
         },
         "type": "treemap",
         "values": [
          3512,
          13976,
          30120,
          3565,
          47235,
          104981,
          19840,
          18419,
          39769,
          26104,
          71614,
          11851,
          14674,
          33109,
          19760,
          47583,
          15738,
          43060,
          62583,
          14327,
          9927,
          2453,
          36478,
          27373,
          10878,
          167183,
          8457
         ]
        }
       ],
       "layout": {
        "legend": {
         "tracegroupgap": 0
        },
        "margin": {
         "b": 25,
         "l": 25,
         "r": 25,
         "t": 50
        },
        "template": {
         "data": {
          "bar": [
           {
            "error_x": {
             "color": "#2a3f5f"
            },
            "error_y": {
             "color": "#2a3f5f"
            },
            "marker": {
             "line": {
              "color": "#E5ECF6",
              "width": 0.5
             },
             "pattern": {
              "fillmode": "overlay",
              "size": 10,
              "solidity": 0.2
             }
            },
            "type": "bar"
           }
          ],
          "barpolar": [
           {
            "marker": {
             "line": {
              "color": "#E5ECF6",
              "width": 0.5
             },
             "pattern": {
              "fillmode": "overlay",
              "size": 10,
              "solidity": 0.2
             }
            },
            "type": "barpolar"
           }
          ],
          "carpet": [
           {
            "aaxis": {
             "endlinecolor": "#2a3f5f",
             "gridcolor": "white",
             "linecolor": "white",
             "minorgridcolor": "white",
             "startlinecolor": "#2a3f5f"
            },
            "baxis": {
             "endlinecolor": "#2a3f5f",
             "gridcolor": "white",
             "linecolor": "white",
             "minorgridcolor": "white",
             "startlinecolor": "#2a3f5f"
            },
            "type": "carpet"
           }
          ],
          "choropleth": [
           {
            "colorbar": {
             "outlinewidth": 0,
             "ticks": ""
            },
            "type": "choropleth"
           }
          ],
          "contour": [
           {
            "colorbar": {
             "outlinewidth": 0,
             "ticks": ""
            },
            "colorscale": [
             [
              0,
              "#0d0887"
             ],
             [
              0.1111111111111111,
              "#46039f"
             ],
             [
              0.2222222222222222,
              "#7201a8"
             ],
             [
              0.3333333333333333,
              "#9c179e"
             ],
             [
              0.4444444444444444,
              "#bd3786"
             ],
             [
              0.5555555555555556,
              "#d8576b"
             ],
             [
              0.6666666666666666,
              "#ed7953"
             ],
             [
              0.7777777777777778,
              "#fb9f3a"
             ],
             [
              0.8888888888888888,
              "#fdca26"
             ],
             [
              1,
              "#f0f921"
             ]
            ],
            "type": "contour"
           }
          ],
          "contourcarpet": [
           {
            "colorbar": {
             "outlinewidth": 0,
             "ticks": ""
            },
            "type": "contourcarpet"
           }
          ],
          "heatmap": [
           {
            "colorbar": {
             "outlinewidth": 0,
             "ticks": ""
            },
            "colorscale": [
             [
              0,
              "#0d0887"
             ],
             [
              0.1111111111111111,
              "#46039f"
             ],
             [
              0.2222222222222222,
              "#7201a8"
             ],
             [
              0.3333333333333333,
              "#9c179e"
             ],
             [
              0.4444444444444444,
              "#bd3786"
             ],
             [
              0.5555555555555556,
              "#d8576b"
             ],
             [
              0.6666666666666666,
              "#ed7953"
             ],
             [
              0.7777777777777778,
              "#fb9f3a"
             ],
             [
              0.8888888888888888,
              "#fdca26"
             ],
             [
              1,
              "#f0f921"
             ]
            ],
            "type": "heatmap"
           }
          ],
          "heatmapgl": [
           {
            "colorbar": {
             "outlinewidth": 0,
             "ticks": ""
            },
            "colorscale": [
             [
              0,
              "#0d0887"
             ],
             [
              0.1111111111111111,
              "#46039f"
             ],
             [
              0.2222222222222222,
              "#7201a8"
             ],
             [
              0.3333333333333333,
              "#9c179e"
             ],
             [
              0.4444444444444444,
              "#bd3786"
             ],
             [
              0.5555555555555556,
              "#d8576b"
             ],
             [
              0.6666666666666666,
              "#ed7953"
             ],
             [
              0.7777777777777778,
              "#fb9f3a"
             ],
             [
              0.8888888888888888,
              "#fdca26"
             ],
             [
              1,
              "#f0f921"
             ]
            ],
            "type": "heatmapgl"
           }
          ],
          "histogram": [
           {
            "marker": {
             "pattern": {
              "fillmode": "overlay",
              "size": 10,
              "solidity": 0.2
             }
            },
            "type": "histogram"
           }
          ],
          "histogram2d": [
           {
            "colorbar": {
             "outlinewidth": 0,
             "ticks": ""
            },
            "colorscale": [
             [
              0,
              "#0d0887"
             ],
             [
              0.1111111111111111,
              "#46039f"
             ],
             [
              0.2222222222222222,
              "#7201a8"
             ],
             [
              0.3333333333333333,
              "#9c179e"
             ],
             [
              0.4444444444444444,
              "#bd3786"
             ],
             [
              0.5555555555555556,
              "#d8576b"
             ],
             [
              0.6666666666666666,
              "#ed7953"
             ],
             [
              0.7777777777777778,
              "#fb9f3a"
             ],
             [
              0.8888888888888888,
              "#fdca26"
             ],
             [
              1,
              "#f0f921"
             ]
            ],
            "type": "histogram2d"
           }
          ],
          "histogram2dcontour": [
           {
            "colorbar": {
             "outlinewidth": 0,
             "ticks": ""
            },
            "colorscale": [
             [
              0,
              "#0d0887"
             ],
             [
              0.1111111111111111,
              "#46039f"
             ],
             [
              0.2222222222222222,
              "#7201a8"
             ],
             [
              0.3333333333333333,
              "#9c179e"
             ],
             [
              0.4444444444444444,
              "#bd3786"
             ],
             [
              0.5555555555555556,
              "#d8576b"
             ],
             [
              0.6666666666666666,
              "#ed7953"
             ],
             [
              0.7777777777777778,
              "#fb9f3a"
             ],
             [
              0.8888888888888888,
              "#fdca26"
             ],
             [
              1,
              "#f0f921"
             ]
            ],
            "type": "histogram2dcontour"
           }
          ],
          "mesh3d": [
           {
            "colorbar": {
             "outlinewidth": 0,
             "ticks": ""
            },
            "type": "mesh3d"
           }
          ],
          "parcoords": [
           {
            "line": {
             "colorbar": {
              "outlinewidth": 0,
              "ticks": ""
             }
            },
            "type": "parcoords"
           }
          ],
          "pie": [
           {
            "automargin": true,
            "type": "pie"
           }
          ],
          "scatter": [
           {
            "fillpattern": {
             "fillmode": "overlay",
             "size": 10,
             "solidity": 0.2
            },
            "type": "scatter"
           }
          ],
          "scatter3d": [
           {
            "line": {
             "colorbar": {
              "outlinewidth": 0,
              "ticks": ""
             }
            },
            "marker": {
             "colorbar": {
              "outlinewidth": 0,
              "ticks": ""
             }
            },
            "type": "scatter3d"
           }
          ],
          "scattercarpet": [
           {
            "marker": {
             "colorbar": {
              "outlinewidth": 0,
              "ticks": ""
             }
            },
            "type": "scattercarpet"
           }
          ],
          "scattergeo": [
           {
            "marker": {
             "colorbar": {
              "outlinewidth": 0,
              "ticks": ""
             }
            },
            "type": "scattergeo"
           }
          ],
          "scattergl": [
           {
            "marker": {
             "colorbar": {
              "outlinewidth": 0,
              "ticks": ""
             }
            },
            "type": "scattergl"
           }
          ],
          "scattermapbox": [
           {
            "marker": {
             "colorbar": {
              "outlinewidth": 0,
              "ticks": ""
             }
            },
            "type": "scattermapbox"
           }
          ],
          "scatterpolar": [
           {
            "marker": {
             "colorbar": {
              "outlinewidth": 0,
              "ticks": ""
             }
            },
            "type": "scatterpolar"
           }
          ],
          "scatterpolargl": [
           {
            "marker": {
             "colorbar": {
              "outlinewidth": 0,
              "ticks": ""
             }
            },
            "type": "scatterpolargl"
           }
          ],
          "scatterternary": [
           {
            "marker": {
             "colorbar": {
              "outlinewidth": 0,
              "ticks": ""
             }
            },
            "type": "scatterternary"
           }
          ],
          "surface": [
           {
            "colorbar": {
             "outlinewidth": 0,
             "ticks": ""
            },
            "colorscale": [
             [
              0,
              "#0d0887"
             ],
             [
              0.1111111111111111,
              "#46039f"
             ],
             [
              0.2222222222222222,
              "#7201a8"
             ],
             [
              0.3333333333333333,
              "#9c179e"
             ],
             [
              0.4444444444444444,
              "#bd3786"
             ],
             [
              0.5555555555555556,
              "#d8576b"
             ],
             [
              0.6666666666666666,
              "#ed7953"
             ],
             [
              0.7777777777777778,
              "#fb9f3a"
             ],
             [
              0.8888888888888888,
              "#fdca26"
             ],
             [
              1,
              "#f0f921"
             ]
            ],
            "type": "surface"
           }
          ],
          "table": [
           {
            "cells": {
             "fill": {
              "color": "#EBF0F8"
             },
             "line": {
              "color": "white"
             }
            },
            "header": {
             "fill": {
              "color": "#C8D4E3"
             },
             "line": {
              "color": "white"
             }
            },
            "type": "table"
           }
          ]
         },
         "layout": {
          "annotationdefaults": {
           "arrowcolor": "#2a3f5f",
           "arrowhead": 0,
           "arrowwidth": 1
          },
          "autotypenumbers": "strict",
          "coloraxis": {
           "colorbar": {
            "outlinewidth": 0,
            "ticks": ""
           }
          },
          "colorscale": {
           "diverging": [
            [
             0,
             "#8e0152"
            ],
            [
             0.1,
             "#c51b7d"
            ],
            [
             0.2,
             "#de77ae"
            ],
            [
             0.3,
             "#f1b6da"
            ],
            [
             0.4,
             "#fde0ef"
            ],
            [
             0.5,
             "#f7f7f7"
            ],
            [
             0.6,
             "#e6f5d0"
            ],
            [
             0.7,
             "#b8e186"
            ],
            [
             0.8,
             "#7fbc41"
            ],
            [
             0.9,
             "#4d9221"
            ],
            [
             1,
             "#276419"
            ]
           ],
           "sequential": [
            [
             0,
             "#0d0887"
            ],
            [
             0.1111111111111111,
             "#46039f"
            ],
            [
             0.2222222222222222,
             "#7201a8"
            ],
            [
             0.3333333333333333,
             "#9c179e"
            ],
            [
             0.4444444444444444,
             "#bd3786"
            ],
            [
             0.5555555555555556,
             "#d8576b"
            ],
            [
             0.6666666666666666,
             "#ed7953"
            ],
            [
             0.7777777777777778,
             "#fb9f3a"
            ],
            [
             0.8888888888888888,
             "#fdca26"
            ],
            [
             1,
             "#f0f921"
            ]
           ],
           "sequentialminus": [
            [
             0,
             "#0d0887"
            ],
            [
             0.1111111111111111,
             "#46039f"
            ],
            [
             0.2222222222222222,
             "#7201a8"
            ],
            [
             0.3333333333333333,
             "#9c179e"
            ],
            [
             0.4444444444444444,
             "#bd3786"
            ],
            [
             0.5555555555555556,
             "#d8576b"
            ],
            [
             0.6666666666666666,
             "#ed7953"
            ],
            [
             0.7777777777777778,
             "#fb9f3a"
            ],
            [
             0.8888888888888888,
             "#fdca26"
            ],
            [
             1,
             "#f0f921"
            ]
           ]
          },
          "colorway": [
           "#636efa",
           "#EF553B",
           "#00cc96",
           "#ab63fa",
           "#FFA15A",
           "#19d3f3",
           "#FF6692",
           "#B6E880",
           "#FF97FF",
           "#FECB52"
          ],
          "font": {
           "color": "#2a3f5f"
          },
          "geo": {
           "bgcolor": "white",
           "lakecolor": "white",
           "landcolor": "#E5ECF6",
           "showlakes": true,
           "showland": true,
           "subunitcolor": "white"
          },
          "hoverlabel": {
           "align": "left"
          },
          "hovermode": "closest",
          "mapbox": {
           "style": "light"
          },
          "paper_bgcolor": "white",
          "plot_bgcolor": "#E5ECF6",
          "polar": {
           "angularaxis": {
            "gridcolor": "white",
            "linecolor": "white",
            "ticks": ""
           },
           "bgcolor": "#E5ECF6",
           "radialaxis": {
            "gridcolor": "white",
            "linecolor": "white",
            "ticks": ""
           }
          },
          "scene": {
           "xaxis": {
            "backgroundcolor": "#E5ECF6",
            "gridcolor": "white",
            "gridwidth": 2,
            "linecolor": "white",
            "showbackground": true,
            "ticks": "",
            "zerolinecolor": "white"
           },
           "yaxis": {
            "backgroundcolor": "#E5ECF6",
            "gridcolor": "white",
            "gridwidth": 2,
            "linecolor": "white",
            "showbackground": true,
            "ticks": "",
            "zerolinecolor": "white"
           },
           "zaxis": {
            "backgroundcolor": "#E5ECF6",
            "gridcolor": "white",
            "gridwidth": 2,
            "linecolor": "white",
            "showbackground": true,
            "ticks": "",
            "zerolinecolor": "white"
           }
          },
          "shapedefaults": {
           "line": {
            "color": "#2a3f5f"
           }
          },
          "ternary": {
           "aaxis": {
            "gridcolor": "white",
            "linecolor": "white",
            "ticks": ""
           },
           "baxis": {
            "gridcolor": "white",
            "linecolor": "white",
            "ticks": ""
           },
           "bgcolor": "#E5ECF6",
           "caxis": {
            "gridcolor": "white",
            "linecolor": "white",
            "ticks": ""
           }
          },
          "title": {
           "x": 0.05
          },
          "xaxis": {
           "automargin": true,
           "gridcolor": "white",
           "linecolor": "white",
           "ticks": "",
           "title": {
            "standoff": 15
           },
           "zerolinecolor": "white",
           "zerolinewidth": 2
          },
          "yaxis": {
           "automargin": true,
           "gridcolor": "white",
           "linecolor": "white",
           "ticks": "",
           "title": {
            "standoff": 15
           },
           "zerolinecolor": "white",
           "zerolinewidth": 2
          }
         }
        },
        "title": {
         "text": "Quantidade de candidatos por UF"
        }
       }
      },
      "text/html": [
       "<div>                            <div id=\"47fd4753-e89b-446d-9d9d-6969de4e836b\" class=\"plotly-graph-div\" style=\"height:525px; width:100%;\"></div>            <script type=\"text/javascript\">                require([\"plotly\"], function(Plotly) {                    window.PLOTLYENV=window.PLOTLYENV || {};                                    if (document.getElementById(\"47fd4753-e89b-446d-9d9d-6969de4e836b\")) {                    Plotly.newPlot(                        \"47fd4753-e89b-446d-9d9d-6969de4e836b\",                        [{\"branchvalues\":\"total\",\"domain\":{\"x\":[0.0,1.0],\"y\":[0.0,1.0]},\"hovertemplate\":\"labels=%{label}<br>candidatos=%{value}<br>parent=%{parent}<br>id=%{id}<extra></extra>\",\"ids\":[\"AC\",\"AL\",\"AM\",\"AP\",\"BA\",\"CE\",\"DF\",\"ES\",\"GO\",\"MA\",\"MG\",\"MS\",\"MT\",\"PA\",\"PB\",\"PE\",\"PI\",\"PR\",\"RJ\",\"RN\",\"RO\",\"RR\",\"RS\",\"SC\",\"SE\",\"SP\",\"TO\"],\"labels\":[\"AC\",\"AL\",\"AM\",\"AP\",\"BA\",\"CE\",\"DF\",\"ES\",\"GO\",\"MA\",\"MG\",\"MS\",\"MT\",\"PA\",\"PB\",\"PE\",\"PI\",\"PR\",\"RJ\",\"RN\",\"RO\",\"RR\",\"RS\",\"SC\",\"SE\",\"SP\",\"TO\"],\"name\":\"\",\"parents\":[\"\",\"\",\"\",\"\",\"\",\"\",\"\",\"\",\"\",\"\",\"\",\"\",\"\",\"\",\"\",\"\",\"\",\"\",\"\",\"\",\"\",\"\",\"\",\"\",\"\",\"\",\"\"],\"values\":[3512,13976,30120,3565,47235,104981,19840,18419,39769,26104,71614,11851,14674,33109,19760,47583,15738,43060,62583,14327,9927,2453,36478,27373,10878,167183,8457],\"type\":\"treemap\",\"root\":{\"color\":\"#f2f2ed\"}}],                        {\"template\":{\"data\":{\"histogram2dcontour\":[{\"type\":\"histogram2dcontour\",\"colorbar\":{\"outlinewidth\":0,\"ticks\":\"\"},\"colorscale\":[[0.0,\"#0d0887\"],[0.1111111111111111,\"#46039f\"],[0.2222222222222222,\"#7201a8\"],[0.3333333333333333,\"#9c179e\"],[0.4444444444444444,\"#bd3786\"],[0.5555555555555556,\"#d8576b\"],[0.6666666666666666,\"#ed7953\"],[0.7777777777777778,\"#fb9f3a\"],[0.8888888888888888,\"#fdca26\"],[1.0,\"#f0f921\"]]}],\"choropleth\":[{\"type\":\"choropleth\",\"colorbar\":{\"outlinewidth\":0,\"ticks\":\"\"}}],\"histogram2d\":[{\"type\":\"histogram2d\",\"colorbar\":{\"outlinewidth\":0,\"ticks\":\"\"},\"colorscale\":[[0.0,\"#0d0887\"],[0.1111111111111111,\"#46039f\"],[0.2222222222222222,\"#7201a8\"],[0.3333333333333333,\"#9c179e\"],[0.4444444444444444,\"#bd3786\"],[0.5555555555555556,\"#d8576b\"],[0.6666666666666666,\"#ed7953\"],[0.7777777777777778,\"#fb9f3a\"],[0.8888888888888888,\"#fdca26\"],[1.0,\"#f0f921\"]]}],\"heatmap\":[{\"type\":\"heatmap\",\"colorbar\":{\"outlinewidth\":0,\"ticks\":\"\"},\"colorscale\":[[0.0,\"#0d0887\"],[0.1111111111111111,\"#46039f\"],[0.2222222222222222,\"#7201a8\"],[0.3333333333333333,\"#9c179e\"],[0.4444444444444444,\"#bd3786\"],[0.5555555555555556,\"#d8576b\"],[0.6666666666666666,\"#ed7953\"],[0.7777777777777778,\"#fb9f3a\"],[0.8888888888888888,\"#fdca26\"],[1.0,\"#f0f921\"]]}],\"heatmapgl\":[{\"type\":\"heatmapgl\",\"colorbar\":{\"outlinewidth\":0,\"ticks\":\"\"},\"colorscale\":[[0.0,\"#0d0887\"],[0.1111111111111111,\"#46039f\"],[0.2222222222222222,\"#7201a8\"],[0.3333333333333333,\"#9c179e\"],[0.4444444444444444,\"#bd3786\"],[0.5555555555555556,\"#d8576b\"],[0.6666666666666666,\"#ed7953\"],[0.7777777777777778,\"#fb9f3a\"],[0.8888888888888888,\"#fdca26\"],[1.0,\"#f0f921\"]]}],\"contourcarpet\":[{\"type\":\"contourcarpet\",\"colorbar\":{\"outlinewidth\":0,\"ticks\":\"\"}}],\"contour\":[{\"type\":\"contour\",\"colorbar\":{\"outlinewidth\":0,\"ticks\":\"\"},\"colorscale\":[[0.0,\"#0d0887\"],[0.1111111111111111,\"#46039f\"],[0.2222222222222222,\"#7201a8\"],[0.3333333333333333,\"#9c179e\"],[0.4444444444444444,\"#bd3786\"],[0.5555555555555556,\"#d8576b\"],[0.6666666666666666,\"#ed7953\"],[0.7777777777777778,\"#fb9f3a\"],[0.8888888888888888,\"#fdca26\"],[1.0,\"#f0f921\"]]}],\"surface\":[{\"type\":\"surface\",\"colorbar\":{\"outlinewidth\":0,\"ticks\":\"\"},\"colorscale\":[[0.0,\"#0d0887\"],[0.1111111111111111,\"#46039f\"],[0.2222222222222222,\"#7201a8\"],[0.3333333333333333,\"#9c179e\"],[0.4444444444444444,\"#bd3786\"],[0.5555555555555556,\"#d8576b\"],[0.6666666666666666,\"#ed7953\"],[0.7777777777777778,\"#fb9f3a\"],[0.8888888888888888,\"#fdca26\"],[1.0,\"#f0f921\"]]}],\"mesh3d\":[{\"type\":\"mesh3d\",\"colorbar\":{\"outlinewidth\":0,\"ticks\":\"\"}}],\"scatter\":[{\"fillpattern\":{\"fillmode\":\"overlay\",\"size\":10,\"solidity\":0.2},\"type\":\"scatter\"}],\"parcoords\":[{\"type\":\"parcoords\",\"line\":{\"colorbar\":{\"outlinewidth\":0,\"ticks\":\"\"}}}],\"scatterpolargl\":[{\"type\":\"scatterpolargl\",\"marker\":{\"colorbar\":{\"outlinewidth\":0,\"ticks\":\"\"}}}],\"bar\":[{\"error_x\":{\"color\":\"#2a3f5f\"},\"error_y\":{\"color\":\"#2a3f5f\"},\"marker\":{\"line\":{\"color\":\"#E5ECF6\",\"width\":0.5},\"pattern\":{\"fillmode\":\"overlay\",\"size\":10,\"solidity\":0.2}},\"type\":\"bar\"}],\"scattergeo\":[{\"type\":\"scattergeo\",\"marker\":{\"colorbar\":{\"outlinewidth\":0,\"ticks\":\"\"}}}],\"scatterpolar\":[{\"type\":\"scatterpolar\",\"marker\":{\"colorbar\":{\"outlinewidth\":0,\"ticks\":\"\"}}}],\"histogram\":[{\"marker\":{\"pattern\":{\"fillmode\":\"overlay\",\"size\":10,\"solidity\":0.2}},\"type\":\"histogram\"}],\"scattergl\":[{\"type\":\"scattergl\",\"marker\":{\"colorbar\":{\"outlinewidth\":0,\"ticks\":\"\"}}}],\"scatter3d\":[{\"type\":\"scatter3d\",\"line\":{\"colorbar\":{\"outlinewidth\":0,\"ticks\":\"\"}},\"marker\":{\"colorbar\":{\"outlinewidth\":0,\"ticks\":\"\"}}}],\"scattermapbox\":[{\"type\":\"scattermapbox\",\"marker\":{\"colorbar\":{\"outlinewidth\":0,\"ticks\":\"\"}}}],\"scatterternary\":[{\"type\":\"scatterternary\",\"marker\":{\"colorbar\":{\"outlinewidth\":0,\"ticks\":\"\"}}}],\"scattercarpet\":[{\"type\":\"scattercarpet\",\"marker\":{\"colorbar\":{\"outlinewidth\":0,\"ticks\":\"\"}}}],\"carpet\":[{\"aaxis\":{\"endlinecolor\":\"#2a3f5f\",\"gridcolor\":\"white\",\"linecolor\":\"white\",\"minorgridcolor\":\"white\",\"startlinecolor\":\"#2a3f5f\"},\"baxis\":{\"endlinecolor\":\"#2a3f5f\",\"gridcolor\":\"white\",\"linecolor\":\"white\",\"minorgridcolor\":\"white\",\"startlinecolor\":\"#2a3f5f\"},\"type\":\"carpet\"}],\"table\":[{\"cells\":{\"fill\":{\"color\":\"#EBF0F8\"},\"line\":{\"color\":\"white\"}},\"header\":{\"fill\":{\"color\":\"#C8D4E3\"},\"line\":{\"color\":\"white\"}},\"type\":\"table\"}],\"barpolar\":[{\"marker\":{\"line\":{\"color\":\"#E5ECF6\",\"width\":0.5},\"pattern\":{\"fillmode\":\"overlay\",\"size\":10,\"solidity\":0.2}},\"type\":\"barpolar\"}],\"pie\":[{\"automargin\":true,\"type\":\"pie\"}]},\"layout\":{\"autotypenumbers\":\"strict\",\"colorway\":[\"#636efa\",\"#EF553B\",\"#00cc96\",\"#ab63fa\",\"#FFA15A\",\"#19d3f3\",\"#FF6692\",\"#B6E880\",\"#FF97FF\",\"#FECB52\"],\"font\":{\"color\":\"#2a3f5f\"},\"hovermode\":\"closest\",\"hoverlabel\":{\"align\":\"left\"},\"paper_bgcolor\":\"white\",\"plot_bgcolor\":\"#E5ECF6\",\"polar\":{\"bgcolor\":\"#E5ECF6\",\"angularaxis\":{\"gridcolor\":\"white\",\"linecolor\":\"white\",\"ticks\":\"\"},\"radialaxis\":{\"gridcolor\":\"white\",\"linecolor\":\"white\",\"ticks\":\"\"}},\"ternary\":{\"bgcolor\":\"#E5ECF6\",\"aaxis\":{\"gridcolor\":\"white\",\"linecolor\":\"white\",\"ticks\":\"\"},\"baxis\":{\"gridcolor\":\"white\",\"linecolor\":\"white\",\"ticks\":\"\"},\"caxis\":{\"gridcolor\":\"white\",\"linecolor\":\"white\",\"ticks\":\"\"}},\"coloraxis\":{\"colorbar\":{\"outlinewidth\":0,\"ticks\":\"\"}},\"colorscale\":{\"sequential\":[[0.0,\"#0d0887\"],[0.1111111111111111,\"#46039f\"],[0.2222222222222222,\"#7201a8\"],[0.3333333333333333,\"#9c179e\"],[0.4444444444444444,\"#bd3786\"],[0.5555555555555556,\"#d8576b\"],[0.6666666666666666,\"#ed7953\"],[0.7777777777777778,\"#fb9f3a\"],[0.8888888888888888,\"#fdca26\"],[1.0,\"#f0f921\"]],\"sequentialminus\":[[0.0,\"#0d0887\"],[0.1111111111111111,\"#46039f\"],[0.2222222222222222,\"#7201a8\"],[0.3333333333333333,\"#9c179e\"],[0.4444444444444444,\"#bd3786\"],[0.5555555555555556,\"#d8576b\"],[0.6666666666666666,\"#ed7953\"],[0.7777777777777778,\"#fb9f3a\"],[0.8888888888888888,\"#fdca26\"],[1.0,\"#f0f921\"]],\"diverging\":[[0,\"#8e0152\"],[0.1,\"#c51b7d\"],[0.2,\"#de77ae\"],[0.3,\"#f1b6da\"],[0.4,\"#fde0ef\"],[0.5,\"#f7f7f7\"],[0.6,\"#e6f5d0\"],[0.7,\"#b8e186\"],[0.8,\"#7fbc41\"],[0.9,\"#4d9221\"],[1,\"#276419\"]]},\"xaxis\":{\"gridcolor\":\"white\",\"linecolor\":\"white\",\"ticks\":\"\",\"title\":{\"standoff\":15},\"zerolinecolor\":\"white\",\"automargin\":true,\"zerolinewidth\":2},\"yaxis\":{\"gridcolor\":\"white\",\"linecolor\":\"white\",\"ticks\":\"\",\"title\":{\"standoff\":15},\"zerolinecolor\":\"white\",\"automargin\":true,\"zerolinewidth\":2},\"scene\":{\"xaxis\":{\"backgroundcolor\":\"#E5ECF6\",\"gridcolor\":\"white\",\"linecolor\":\"white\",\"showbackground\":true,\"ticks\":\"\",\"zerolinecolor\":\"white\",\"gridwidth\":2},\"yaxis\":{\"backgroundcolor\":\"#E5ECF6\",\"gridcolor\":\"white\",\"linecolor\":\"white\",\"showbackground\":true,\"ticks\":\"\",\"zerolinecolor\":\"white\",\"gridwidth\":2},\"zaxis\":{\"backgroundcolor\":\"#E5ECF6\",\"gridcolor\":\"white\",\"linecolor\":\"white\",\"showbackground\":true,\"ticks\":\"\",\"zerolinecolor\":\"white\",\"gridwidth\":2}},\"shapedefaults\":{\"line\":{\"color\":\"#2a3f5f\"}},\"annotationdefaults\":{\"arrowcolor\":\"#2a3f5f\",\"arrowhead\":0,\"arrowwidth\":1},\"geo\":{\"bgcolor\":\"white\",\"landcolor\":\"#E5ECF6\",\"subunitcolor\":\"white\",\"showland\":true,\"showlakes\":true,\"lakecolor\":\"white\"},\"title\":{\"x\":0.05},\"mapbox\":{\"style\":\"light\"}}},\"legend\":{\"tracegroupgap\":0},\"title\":{\"text\":\"Quantidade de candidatos por UF\"},\"margin\":{\"t\":50,\"l\":25,\"r\":25,\"b\":25}},                        {\"responsive\": true}                    ).then(function(){\n",
       "                            \n",
       "var gd = document.getElementById('47fd4753-e89b-446d-9d9d-6969de4e836b');\n",
       "var x = new MutationObserver(function (mutations, observer) {{\n",
       "        var display = window.getComputedStyle(gd).display;\n",
       "        if (!display || display === 'none') {{\n",
       "            console.log([gd, 'removed!']);\n",
       "            Plotly.purge(gd);\n",
       "            observer.disconnect();\n",
       "        }}\n",
       "}});\n",
       "\n",
       "// Listen for the removal of the full notebook cells\n",
       "var notebookContainer = gd.closest('#notebook-container');\n",
       "if (notebookContainer) {{\n",
       "    x.observe(notebookContainer, {childList: true});\n",
       "}}\n",
       "\n",
       "// Listen for the clearing of the current output cell\n",
       "var outputEl = gd.closest('.output');\n",
       "if (outputEl) {{\n",
       "    x.observe(outputEl, {childList: true});\n",
       "}}\n",
       "\n",
       "                        })                };                });            </script>        </div>"
      ]
     },
     "metadata": {},
     "output_type": "display_data"
    }
   ],
   "source": [
    "import plotly.express as px\n",
    "\n",
    "fig = px.treemap(data_frame=df_ufs,\n",
    "                path=['uf'],\n",
    "                 values='candidatos',\n",
    "                 title='Quantidade de candidatos por UF'\n",
    "                )\n",
    "fig.update_traces(root_color='#f2f2ed')\n",
    "fig.update_layout(margin=dict(t=50, l=25, r=25, b=25))\n",
    "fig.show()"
   ]
  },
  {
   "cell_type": "markdown",
   "id": "547482c8",
   "metadata": {},
   "source": [
    "## Analisando o nível de escolaridade dos pais ou responsáveis\n",
    "\n",
    "- A Nunca estudou.\n",
    "- B Não completou a 4ª série/5º ano do Ensino Fundamental.\n",
    "- C Completou a 4ª série/5º ano, mas não completou a 8ª série/9º ano do Ensino Fundamental.\n",
    "- D Completou a 8ª série/9º ano do Ensino Fundamental, mas não completou o Ensino Médio.\n",
    "- E Completou o Ensino Médio, mas não completou a Faculdade.\n",
    "- F Completou a Faculdade, mas não completou a Pós-graduação.\n",
    "- G Completou a Pós-graduação.\n",
    "- H Não sei."
   ]
  },
  {
   "attachments": {},
   "cell_type": "markdown",
   "id": "1a3657f3",
   "metadata": {},
   "source": [
    "### Até que série seu pai ou o homem responsável por você estudou?\n",
    "\n",
    "\n"
   ]
  },
  {
   "cell_type": "code",
   "execution_count": 79,
   "id": "a1d568f8",
   "metadata": {},
   "outputs": [
    {
     "data": {
      "text/plain": [
       "A     336216\n",
       "B    1324198\n",
       "C     839009\n",
       "D     615284\n",
       "E    1444832\n",
       "F     382851\n",
       "G     239720\n",
       "H     505033\n",
       "Name: Q001, dtype: int64"
      ]
     },
     "execution_count": 79,
     "metadata": {},
     "output_type": "execute_result"
    }
   ],
   "source": [
    "df_enem['Q001'].value_counts().sort_index()"
   ]
  },
  {
   "cell_type": "markdown",
   "id": "b40dbc8e",
   "metadata": {},
   "source": [
    "#### Avaliando o impacto nos dados daqueles que responderam que nao sabem"
   ]
  },
  {
   "cell_type": "code",
   "execution_count": 83,
   "id": "82f8a308",
   "metadata": {},
   "outputs": [
    {
     "data": {
      "text/plain": [
       "8.732897823644686"
      ]
     },
     "execution_count": 83,
     "metadata": {},
     "output_type": "execute_result"
    }
   ],
   "source": [
    "(len(df_enem.loc[df_enem['Q001'] == 'H']) / df_enem.shape[0]) * 100"
   ]
  },
  {
   "attachments": {},
   "cell_type": "markdown",
   "id": "b5c39292",
   "metadata": {},
   "source": [
    "### Até que série sua mãe ou a mulher responsável por você estudou?\n",
    "\n",
    "\n"
   ]
  },
  {
   "cell_type": "code",
   "execution_count": 81,
   "id": "2b5c9b0b",
   "metadata": {},
   "outputs": [
    {
     "data": {
      "text/plain": [
       "A     239085\n",
       "B    1044422\n",
       "C     788103\n",
       "D     697557\n",
       "E    1796085\n",
       "F     532008\n",
       "G     434437\n",
       "H     155446\n",
       "Name: Q002, dtype: int64"
      ]
     },
     "execution_count": 81,
     "metadata": {},
     "output_type": "execute_result"
    }
   ],
   "source": [
    "df_enem['Q002'].value_counts().sort_index()"
   ]
  },
  {
   "cell_type": "markdown",
   "id": "feb98f15",
   "metadata": {},
   "source": [
    "#### Avaliando o impacto nos dados daqueles que responderam que nao sabem"
   ]
  },
  {
   "cell_type": "code",
   "execution_count": 84,
   "id": "9ad49916",
   "metadata": {},
   "outputs": [
    {
     "data": {
      "text/plain": [
       "2.68793135318736"
      ]
     },
     "execution_count": 84,
     "metadata": {},
     "output_type": "execute_result"
    }
   ],
   "source": [
    "(len(df_enem.loc[df_enem['Q002'] == 'H']) / df_enem.shape[0]) * 100"
   ]
  },
  {
   "cell_type": "markdown",
   "id": "6b1dd603",
   "metadata": {},
   "source": [
    "## Criando variáveis para pais com ensino superior"
   ]
  },
  {
   "cell_type": "code",
   "execution_count": 85,
   "id": "10232537",
   "metadata": {},
   "outputs": [
    {
     "data": {
      "text/html": [
       "<div>\n",
       "<style scoped>\n",
       "    .dataframe tbody tr th:only-of-type {\n",
       "        vertical-align: middle;\n",
       "    }\n",
       "\n",
       "    .dataframe tbody tr th {\n",
       "        vertical-align: top;\n",
       "    }\n",
       "\n",
       "    .dataframe thead th {\n",
       "        text-align: right;\n",
       "    }\n",
       "</style>\n",
       "<table border=\"1\" class=\"dataframe\">\n",
       "  <thead>\n",
       "    <tr style=\"text-align: right;\">\n",
       "      <th></th>\n",
       "      <th>TP_FAIXA_ETARIA</th>\n",
       "      <th>TP_SEXO</th>\n",
       "      <th>TP_ESTADO_CIVIL</th>\n",
       "      <th>TP_COR_RACA</th>\n",
       "      <th>TP_NACIONALIDADE</th>\n",
       "      <th>TP_ST_CONCLUSAO</th>\n",
       "      <th>TP_ANO_CONCLUIU</th>\n",
       "      <th>TP_ESCOLA</th>\n",
       "      <th>TP_ENSINO</th>\n",
       "      <th>IN_TREINEIRO</th>\n",
       "      <th>SG_UF_ESC</th>\n",
       "      <th>TP_DEPENDENCIA_ADM_ESC</th>\n",
       "      <th>TP_LOCALIZACAO_ESC</th>\n",
       "      <th>TP_SIT_FUNC_ESC</th>\n",
       "      <th>SG_UF_PROVA</th>\n",
       "      <th>TP_PRESENCA_CN</th>\n",
       "      <th>TP_PRESENCA_CH</th>\n",
       "      <th>TP_PRESENCA_LC</th>\n",
       "      <th>TP_PRESENCA_MT</th>\n",
       "      <th>NU_NOTA_CN</th>\n",
       "      <th>NU_NOTA_CH</th>\n",
       "      <th>NU_NOTA_LC</th>\n",
       "      <th>NU_NOTA_MT</th>\n",
       "      <th>TP_LINGUA</th>\n",
       "      <th>TP_STATUS_REDACAO</th>\n",
       "      <th>NU_NOTA_COMP1</th>\n",
       "      <th>NU_NOTA_COMP2</th>\n",
       "      <th>NU_NOTA_COMP3</th>\n",
       "      <th>NU_NOTA_COMP4</th>\n",
       "      <th>NU_NOTA_COMP5</th>\n",
       "      <th>NU_NOTA_REDACAO</th>\n",
       "      <th>Q001</th>\n",
       "      <th>Q002</th>\n",
       "      <th>Q003</th>\n",
       "      <th>Q004</th>\n",
       "      <th>Q005</th>\n",
       "      <th>Q006</th>\n",
       "      <th>Q007</th>\n",
       "      <th>Q008</th>\n",
       "      <th>Q009</th>\n",
       "      <th>Q010</th>\n",
       "      <th>Q011</th>\n",
       "      <th>Q012</th>\n",
       "      <th>Q013</th>\n",
       "      <th>Q014</th>\n",
       "      <th>Q015</th>\n",
       "      <th>Q016</th>\n",
       "      <th>Q017</th>\n",
       "      <th>Q018</th>\n",
       "      <th>Q019</th>\n",
       "      <th>Q020</th>\n",
       "      <th>Q021</th>\n",
       "      <th>Q022</th>\n",
       "      <th>Q023</th>\n",
       "      <th>Q024</th>\n",
       "      <th>Q025</th>\n",
       "      <th>pai_possui_superior</th>\n",
       "      <th>mae_possui_superior</th>\n",
       "    </tr>\n",
       "  </thead>\n",
       "  <tbody>\n",
       "    <tr>\n",
       "      <th>0</th>\n",
       "      <td>11</td>\n",
       "      <td>F</td>\n",
       "      <td>1</td>\n",
       "      <td>2</td>\n",
       "      <td>1</td>\n",
       "      <td>1</td>\n",
       "      <td>11</td>\n",
       "      <td>1</td>\n",
       "      <td>NaN</td>\n",
       "      <td>0</td>\n",
       "      <td>None</td>\n",
       "      <td>NaN</td>\n",
       "      <td>NaN</td>\n",
       "      <td>NaN</td>\n",
       "      <td>PA</td>\n",
       "      <td>0</td>\n",
       "      <td>0</td>\n",
       "      <td>0</td>\n",
       "      <td>0</td>\n",
       "      <td>NaN</td>\n",
       "      <td>NaN</td>\n",
       "      <td>NaN</td>\n",
       "      <td>NaN</td>\n",
       "      <td>1</td>\n",
       "      <td>NaN</td>\n",
       "      <td>NaN</td>\n",
       "      <td>NaN</td>\n",
       "      <td>NaN</td>\n",
       "      <td>NaN</td>\n",
       "      <td>NaN</td>\n",
       "      <td>NaN</td>\n",
       "      <td>None</td>\n",
       "      <td>None</td>\n",
       "      <td>None</td>\n",
       "      <td>None</td>\n",
       "      <td>NaN</td>\n",
       "      <td>None</td>\n",
       "      <td>None</td>\n",
       "      <td>None</td>\n",
       "      <td>None</td>\n",
       "      <td>None</td>\n",
       "      <td>None</td>\n",
       "      <td>None</td>\n",
       "      <td>None</td>\n",
       "      <td>None</td>\n",
       "      <td>None</td>\n",
       "      <td>None</td>\n",
       "      <td>None</td>\n",
       "      <td>None</td>\n",
       "      <td>None</td>\n",
       "      <td>None</td>\n",
       "      <td>None</td>\n",
       "      <td>None</td>\n",
       "      <td>None</td>\n",
       "      <td>None</td>\n",
       "      <td>None</td>\n",
       "      <td>False</td>\n",
       "      <td>False</td>\n",
       "    </tr>\n",
       "    <tr>\n",
       "      <th>1</th>\n",
       "      <td>11</td>\n",
       "      <td>M</td>\n",
       "      <td>2</td>\n",
       "      <td>3</td>\n",
       "      <td>1</td>\n",
       "      <td>1</td>\n",
       "      <td>11</td>\n",
       "      <td>1</td>\n",
       "      <td>NaN</td>\n",
       "      <td>0</td>\n",
       "      <td>None</td>\n",
       "      <td>NaN</td>\n",
       "      <td>NaN</td>\n",
       "      <td>NaN</td>\n",
       "      <td>RN</td>\n",
       "      <td>1</td>\n",
       "      <td>1</td>\n",
       "      <td>1</td>\n",
       "      <td>1</td>\n",
       "      <td>604.10</td>\n",
       "      <td>661.70</td>\n",
       "      <td>595.30</td>\n",
       "      <td>711.30</td>\n",
       "      <td>1</td>\n",
       "      <td>1.00</td>\n",
       "      <td>120.00</td>\n",
       "      <td>120.00</td>\n",
       "      <td>120.00</td>\n",
       "      <td>120.00</td>\n",
       "      <td>100.00</td>\n",
       "      <td>580.00</td>\n",
       "      <td>None</td>\n",
       "      <td>None</td>\n",
       "      <td>None</td>\n",
       "      <td>None</td>\n",
       "      <td>NaN</td>\n",
       "      <td>None</td>\n",
       "      <td>None</td>\n",
       "      <td>None</td>\n",
       "      <td>None</td>\n",
       "      <td>None</td>\n",
       "      <td>None</td>\n",
       "      <td>None</td>\n",
       "      <td>None</td>\n",
       "      <td>None</td>\n",
       "      <td>None</td>\n",
       "      <td>None</td>\n",
       "      <td>None</td>\n",
       "      <td>None</td>\n",
       "      <td>None</td>\n",
       "      <td>None</td>\n",
       "      <td>None</td>\n",
       "      <td>None</td>\n",
       "      <td>None</td>\n",
       "      <td>None</td>\n",
       "      <td>None</td>\n",
       "      <td>False</td>\n",
       "      <td>False</td>\n",
       "    </tr>\n",
       "    <tr>\n",
       "      <th>2</th>\n",
       "      <td>4</td>\n",
       "      <td>F</td>\n",
       "      <td>2</td>\n",
       "      <td>3</td>\n",
       "      <td>2</td>\n",
       "      <td>2</td>\n",
       "      <td>0</td>\n",
       "      <td>2</td>\n",
       "      <td>1.00</td>\n",
       "      <td>0</td>\n",
       "      <td>BA</td>\n",
       "      <td>2.00</td>\n",
       "      <td>1.00</td>\n",
       "      <td>1.00</td>\n",
       "      <td>BA</td>\n",
       "      <td>0</td>\n",
       "      <td>0</td>\n",
       "      <td>0</td>\n",
       "      <td>0</td>\n",
       "      <td>NaN</td>\n",
       "      <td>NaN</td>\n",
       "      <td>NaN</td>\n",
       "      <td>NaN</td>\n",
       "      <td>0</td>\n",
       "      <td>NaN</td>\n",
       "      <td>NaN</td>\n",
       "      <td>NaN</td>\n",
       "      <td>NaN</td>\n",
       "      <td>NaN</td>\n",
       "      <td>NaN</td>\n",
       "      <td>NaN</td>\n",
       "      <td>B</td>\n",
       "      <td>C</td>\n",
       "      <td>A</td>\n",
       "      <td>D</td>\n",
       "      <td>3.00</td>\n",
       "      <td>B</td>\n",
       "      <td>A</td>\n",
       "      <td>B</td>\n",
       "      <td>A</td>\n",
       "      <td>A</td>\n",
       "      <td>A</td>\n",
       "      <td>B</td>\n",
       "      <td>A</td>\n",
       "      <td>B</td>\n",
       "      <td>A</td>\n",
       "      <td>B</td>\n",
       "      <td>A</td>\n",
       "      <td>A</td>\n",
       "      <td>B</td>\n",
       "      <td>A</td>\n",
       "      <td>A</td>\n",
       "      <td>A</td>\n",
       "      <td>A</td>\n",
       "      <td>A</td>\n",
       "      <td>A</td>\n",
       "      <td>False</td>\n",
       "      <td>False</td>\n",
       "    </tr>\n",
       "    <tr>\n",
       "      <th>3</th>\n",
       "      <td>2</td>\n",
       "      <td>M</td>\n",
       "      <td>1</td>\n",
       "      <td>3</td>\n",
       "      <td>1</td>\n",
       "      <td>2</td>\n",
       "      <td>0</td>\n",
       "      <td>2</td>\n",
       "      <td>1.00</td>\n",
       "      <td>0</td>\n",
       "      <td>SP</td>\n",
       "      <td>3.00</td>\n",
       "      <td>1.00</td>\n",
       "      <td>1.00</td>\n",
       "      <td>SP</td>\n",
       "      <td>1</td>\n",
       "      <td>1</td>\n",
       "      <td>1</td>\n",
       "      <td>1</td>\n",
       "      <td>620.80</td>\n",
       "      <td>675.00</td>\n",
       "      <td>624.20</td>\n",
       "      <td>759.40</td>\n",
       "      <td>0</td>\n",
       "      <td>1.00</td>\n",
       "      <td>140.00</td>\n",
       "      <td>200.00</td>\n",
       "      <td>140.00</td>\n",
       "      <td>120.00</td>\n",
       "      <td>160.00</td>\n",
       "      <td>760.00</td>\n",
       "      <td>None</td>\n",
       "      <td>None</td>\n",
       "      <td>None</td>\n",
       "      <td>None</td>\n",
       "      <td>NaN</td>\n",
       "      <td>None</td>\n",
       "      <td>None</td>\n",
       "      <td>None</td>\n",
       "      <td>None</td>\n",
       "      <td>None</td>\n",
       "      <td>None</td>\n",
       "      <td>None</td>\n",
       "      <td>None</td>\n",
       "      <td>None</td>\n",
       "      <td>None</td>\n",
       "      <td>None</td>\n",
       "      <td>None</td>\n",
       "      <td>None</td>\n",
       "      <td>None</td>\n",
       "      <td>None</td>\n",
       "      <td>None</td>\n",
       "      <td>None</td>\n",
       "      <td>None</td>\n",
       "      <td>None</td>\n",
       "      <td>None</td>\n",
       "      <td>False</td>\n",
       "      <td>False</td>\n",
       "    </tr>\n",
       "    <tr>\n",
       "      <th>4</th>\n",
       "      <td>4</td>\n",
       "      <td>F</td>\n",
       "      <td>1</td>\n",
       "      <td>3</td>\n",
       "      <td>2</td>\n",
       "      <td>1</td>\n",
       "      <td>1</td>\n",
       "      <td>1</td>\n",
       "      <td>NaN</td>\n",
       "      <td>0</td>\n",
       "      <td>None</td>\n",
       "      <td>NaN</td>\n",
       "      <td>NaN</td>\n",
       "      <td>NaN</td>\n",
       "      <td>MG</td>\n",
       "      <td>0</td>\n",
       "      <td>0</td>\n",
       "      <td>0</td>\n",
       "      <td>0</td>\n",
       "      <td>NaN</td>\n",
       "      <td>NaN</td>\n",
       "      <td>NaN</td>\n",
       "      <td>NaN</td>\n",
       "      <td>1</td>\n",
       "      <td>NaN</td>\n",
       "      <td>NaN</td>\n",
       "      <td>NaN</td>\n",
       "      <td>NaN</td>\n",
       "      <td>NaN</td>\n",
       "      <td>NaN</td>\n",
       "      <td>NaN</td>\n",
       "      <td>B</td>\n",
       "      <td>G</td>\n",
       "      <td>B</td>\n",
       "      <td>B</td>\n",
       "      <td>3.00</td>\n",
       "      <td>B</td>\n",
       "      <td>A</td>\n",
       "      <td>B</td>\n",
       "      <td>D</td>\n",
       "      <td>A</td>\n",
       "      <td>A</td>\n",
       "      <td>B</td>\n",
       "      <td>A</td>\n",
       "      <td>B</td>\n",
       "      <td>A</td>\n",
       "      <td>A</td>\n",
       "      <td>A</td>\n",
       "      <td>A</td>\n",
       "      <td>B</td>\n",
       "      <td>A</td>\n",
       "      <td>B</td>\n",
       "      <td>B</td>\n",
       "      <td>A</td>\n",
       "      <td>A</td>\n",
       "      <td>B</td>\n",
       "      <td>False</td>\n",
       "      <td>True</td>\n",
       "    </tr>\n",
       "  </tbody>\n",
       "</table>\n",
       "</div>"
      ],
      "text/plain": [
       "   TP_FAIXA_ETARIA TP_SEXO  TP_ESTADO_CIVIL  TP_COR_RACA  TP_NACIONALIDADE  \\\n",
       "0               11       F                1            2                 1   \n",
       "1               11       M                2            3                 1   \n",
       "2                4       F                2            3                 2   \n",
       "3                2       M                1            3                 1   \n",
       "4                4       F                1            3                 2   \n",
       "\n",
       "   TP_ST_CONCLUSAO  TP_ANO_CONCLUIU  TP_ESCOLA  TP_ENSINO  IN_TREINEIRO  \\\n",
       "0                1               11          1        NaN             0   \n",
       "1                1               11          1        NaN             0   \n",
       "2                2                0          2       1.00             0   \n",
       "3                2                0          2       1.00             0   \n",
       "4                1                1          1        NaN             0   \n",
       "\n",
       "  SG_UF_ESC  TP_DEPENDENCIA_ADM_ESC  TP_LOCALIZACAO_ESC  TP_SIT_FUNC_ESC  \\\n",
       "0      None                     NaN                 NaN              NaN   \n",
       "1      None                     NaN                 NaN              NaN   \n",
       "2        BA                    2.00                1.00             1.00   \n",
       "3        SP                    3.00                1.00             1.00   \n",
       "4      None                     NaN                 NaN              NaN   \n",
       "\n",
       "  SG_UF_PROVA  TP_PRESENCA_CN  TP_PRESENCA_CH  TP_PRESENCA_LC  TP_PRESENCA_MT  \\\n",
       "0          PA               0               0               0               0   \n",
       "1          RN               1               1               1               1   \n",
       "2          BA               0               0               0               0   \n",
       "3          SP               1               1               1               1   \n",
       "4          MG               0               0               0               0   \n",
       "\n",
       "   NU_NOTA_CN  NU_NOTA_CH  NU_NOTA_LC  NU_NOTA_MT  TP_LINGUA  \\\n",
       "0         NaN         NaN         NaN         NaN          1   \n",
       "1      604.10      661.70      595.30      711.30          1   \n",
       "2         NaN         NaN         NaN         NaN          0   \n",
       "3      620.80      675.00      624.20      759.40          0   \n",
       "4         NaN         NaN         NaN         NaN          1   \n",
       "\n",
       "   TP_STATUS_REDACAO  NU_NOTA_COMP1  NU_NOTA_COMP2  NU_NOTA_COMP3  \\\n",
       "0                NaN            NaN            NaN            NaN   \n",
       "1               1.00         120.00         120.00         120.00   \n",
       "2                NaN            NaN            NaN            NaN   \n",
       "3               1.00         140.00         200.00         140.00   \n",
       "4                NaN            NaN            NaN            NaN   \n",
       "\n",
       "   NU_NOTA_COMP4  NU_NOTA_COMP5  NU_NOTA_REDACAO  Q001  Q002  Q003  Q004  \\\n",
       "0            NaN            NaN              NaN  None  None  None  None   \n",
       "1         120.00         100.00           580.00  None  None  None  None   \n",
       "2            NaN            NaN              NaN     B     C     A     D   \n",
       "3         120.00         160.00           760.00  None  None  None  None   \n",
       "4            NaN            NaN              NaN     B     G     B     B   \n",
       "\n",
       "   Q005  Q006  Q007  Q008  Q009  Q010  Q011  Q012  Q013  Q014  Q015  Q016  \\\n",
       "0   NaN  None  None  None  None  None  None  None  None  None  None  None   \n",
       "1   NaN  None  None  None  None  None  None  None  None  None  None  None   \n",
       "2  3.00     B     A     B     A     A     A     B     A     B     A     B   \n",
       "3   NaN  None  None  None  None  None  None  None  None  None  None  None   \n",
       "4  3.00     B     A     B     D     A     A     B     A     B     A     A   \n",
       "\n",
       "   Q017  Q018  Q019  Q020  Q021  Q022  Q023  Q024  Q025  pai_possui_superior  \\\n",
       "0  None  None  None  None  None  None  None  None  None                False   \n",
       "1  None  None  None  None  None  None  None  None  None                False   \n",
       "2     A     A     B     A     A     A     A     A     A                False   \n",
       "3  None  None  None  None  None  None  None  None  None                False   \n",
       "4     A     A     B     A     B     B     A     A     B                False   \n",
       "\n",
       "   mae_possui_superior  \n",
       "0                False  \n",
       "1                False  \n",
       "2                False  \n",
       "3                False  \n",
       "4                 True  "
      ]
     },
     "execution_count": 85,
     "metadata": {},
     "output_type": "execute_result"
    }
   ],
   "source": [
    "df_enem['pai_possui_superior'] = df_enem['Q001'].isin(['F', 'G'])\n",
    "df_enem['mae_possui_superior'] = df_enem['Q002'].isin(['F', 'G'])\n",
    "df_enem.head()"
   ]
  },
  {
   "cell_type": "markdown",
   "id": "d1f7df71",
   "metadata": {},
   "source": [
    "### Analisando a quantidade de pais com ensino superior"
   ]
  },
  {
   "cell_type": "code",
   "execution_count": 89,
   "id": "4790b54b",
   "metadata": {},
   "outputs": [
    {
     "data": {
      "text/plain": [
       "False   89.23\n",
       "True    10.77\n",
       "Name: pai_possui_superior, dtype: float64"
      ]
     },
     "execution_count": 89,
     "metadata": {},
     "output_type": "execute_result"
    }
   ],
   "source": [
    "df_enem['pai_possui_superior'].value_counts(normalize=True) * 100"
   ]
  },
  {
   "cell_type": "code",
   "execution_count": 213,
   "id": "6d97c553",
   "metadata": {},
   "outputs": [
    {
     "data": {
      "text/plain": [
       "[Text(0, 0.5, 'Quantidade')]"
      ]
     },
     "execution_count": 213,
     "metadata": {},
     "output_type": "execute_result"
    },
    {
     "data": {
      "image/png": "[encoded data removed]",
      "text/plain": [
       "<Figure size 700x500 with 1 Axes>"
      ]
     },
     "metadata": {},
     "output_type": "display_data"
    }
   ],
   "source": [
    "ax=sns.countplot(data=df_enem, x='pai_possui_superior', palette='colorblind')\n",
    "ax.set(xlabel='Pais com ensino superior')\n",
    "ax.set(ylabel='Quantidade')"
   ]
  },
  {
   "cell_type": "markdown",
   "id": "54f62d7e",
   "metadata": {},
   "source": [
    "### Analisando a quantidade de maes com ensino superior"
   ]
  },
  {
   "cell_type": "code",
   "execution_count": 88,
   "id": "3733aaef",
   "metadata": {},
   "outputs": [
    {
     "data": {
      "text/plain": [
       "False   83.29\n",
       "True    16.71\n",
       "Name: mae_possui_superior, dtype: float64"
      ]
     },
     "execution_count": 88,
     "metadata": {},
     "output_type": "execute_result"
    }
   ],
   "source": [
    "df_enem['mae_possui_superior'].value_counts(normalize=True) * 100"
   ]
  },
  {
   "cell_type": "code",
   "execution_count": 215,
   "id": "1602502d",
   "metadata": {},
   "outputs": [
    {
     "data": {
      "text/plain": [
       "[Text(0, 0.5, 'Quantidade')]"
      ]
     },
     "execution_count": 215,
     "metadata": {},
     "output_type": "execute_result"
    },
    {
     "data": {
      "image/png": "[encoded data removed]",
      "text/plain": [
       "<Figure size 700x500 with 1 Axes>"
      ]
     },
     "metadata": {},
     "output_type": "display_data"
    }
   ],
   "source": [
    "ax=sns.countplot(data=df_enem, x='mae_possui_superior', palette='colorblind')\n",
    "ax.set(xlabel='Maes com ensino superior')\n",
    "ax.set(ylabel='Quantidade')"
   ]
  },
  {
   "cell_type": "markdown",
   "id": "81e14e05",
   "metadata": {},
   "source": [
    "## Analisando a renda familiar\n",
    "- A    Nenhuma Renda\n",
    "- B    Até RS 1.045,00\n",
    "- C    De RS 1.045,01 até RS 1.567,50\n",
    "- D    De RS 1.567,51 até RS 2.090,00\n",
    "- E    De RS 2.090,01 até RS 2.612,50\n",
    "- F    De RS 2.612,51 até RS 3.135,00\n",
    "- G    De RS 3.135,01 até RS 4.180,00\n",
    "- H    De RS 4.180,01 até RS 5.225,00\n",
    "- I    De RS 5.225,01 até RS 6.270,00\n",
    "- J    De RS 6.270,01 até RS 7.315,00\n",
    "- K    De RS 7.315,01 até RS 8.360,00\n",
    "- L    De RS 8.360,01 até RS 9.405,00\n",
    "- M    De RS 9.405,01 até RS 10.450,00\n",
    "- N    De RS 10.450,01 até RS 12.540,00\n",
    "- O    De RS 12.540,01 até RS 15.675,00\n",
    "- P    De RS 15.675,01 até RS 20.900,00\n",
    "- Q    Acima de RS 20.900,00"
   ]
  },
  {
   "cell_type": "code",
   "execution_count": 92,
   "id": "e23884e3",
   "metadata": {},
   "outputs": [
    {
     "data": {
      "text/plain": [
       "{'A': 0,\n",
       " 'B': 1,\n",
       " 'C': 2,\n",
       " 'D': 3,\n",
       " 'E': 4,\n",
       " 'F': 5,\n",
       " 'G': 6,\n",
       " 'H': 7,\n",
       " 'I': 8,\n",
       " 'J': 9,\n",
       " 'K': 10,\n",
       " 'L': 11,\n",
       " 'M': 12,\n",
       " 'N': 13,\n",
       " 'O': 14,\n",
       " 'P': 15,\n",
       " 'Q': 16}"
      ]
     },
     "execution_count": 92,
     "metadata": {},
     "output_type": "execute_result"
    }
   ],
   "source": [
    "from string import ascii_uppercase\n",
    "\n",
    "dicionario_renda = dict()\n",
    "\n",
    "# iterando sobre o alfabeto\n",
    "for i, letra in enumerate(ascii_uppercase):\n",
    "    if i == 17:\n",
    "        break\n",
    "    dicionario_renda[letra] = i\n",
    "\n",
    "dicionario_renda\n"
   ]
  },
  {
   "cell_type": "code",
   "execution_count": 91,
   "id": "5dd1a6a6",
   "metadata": {},
   "outputs": [
    {
     "data": {
      "text/html": [
       "<div>\n",
       "<style scoped>\n",
       "    .dataframe tbody tr th:only-of-type {\n",
       "        vertical-align: middle;\n",
       "    }\n",
       "\n",
       "    .dataframe tbody tr th {\n",
       "        vertical-align: top;\n",
       "    }\n",
       "\n",
       "    .dataframe thead th {\n",
       "        text-align: right;\n",
       "    }\n",
       "</style>\n",
       "<table border=\"1\" class=\"dataframe\">\n",
       "  <thead>\n",
       "    <tr style=\"text-align: right;\">\n",
       "      <th></th>\n",
       "      <th>TP_FAIXA_ETARIA</th>\n",
       "      <th>TP_SEXO</th>\n",
       "      <th>TP_ESTADO_CIVIL</th>\n",
       "      <th>TP_COR_RACA</th>\n",
       "      <th>TP_NACIONALIDADE</th>\n",
       "      <th>TP_ST_CONCLUSAO</th>\n",
       "      <th>TP_ANO_CONCLUIU</th>\n",
       "      <th>TP_ESCOLA</th>\n",
       "      <th>TP_ENSINO</th>\n",
       "      <th>IN_TREINEIRO</th>\n",
       "      <th>SG_UF_ESC</th>\n",
       "      <th>TP_DEPENDENCIA_ADM_ESC</th>\n",
       "      <th>TP_LOCALIZACAO_ESC</th>\n",
       "      <th>TP_SIT_FUNC_ESC</th>\n",
       "      <th>SG_UF_PROVA</th>\n",
       "      <th>TP_PRESENCA_CN</th>\n",
       "      <th>TP_PRESENCA_CH</th>\n",
       "      <th>TP_PRESENCA_LC</th>\n",
       "      <th>TP_PRESENCA_MT</th>\n",
       "      <th>NU_NOTA_CN</th>\n",
       "      <th>NU_NOTA_CH</th>\n",
       "      <th>NU_NOTA_LC</th>\n",
       "      <th>NU_NOTA_MT</th>\n",
       "      <th>TP_LINGUA</th>\n",
       "      <th>TP_STATUS_REDACAO</th>\n",
       "      <th>NU_NOTA_COMP1</th>\n",
       "      <th>NU_NOTA_COMP2</th>\n",
       "      <th>NU_NOTA_COMP3</th>\n",
       "      <th>NU_NOTA_COMP4</th>\n",
       "      <th>NU_NOTA_COMP5</th>\n",
       "      <th>NU_NOTA_REDACAO</th>\n",
       "      <th>Q001</th>\n",
       "      <th>Q002</th>\n",
       "      <th>Q003</th>\n",
       "      <th>Q004</th>\n",
       "      <th>Q005</th>\n",
       "      <th>Q006</th>\n",
       "      <th>Q007</th>\n",
       "      <th>Q008</th>\n",
       "      <th>Q009</th>\n",
       "      <th>Q010</th>\n",
       "      <th>Q011</th>\n",
       "      <th>Q012</th>\n",
       "      <th>Q013</th>\n",
       "      <th>Q014</th>\n",
       "      <th>Q015</th>\n",
       "      <th>Q016</th>\n",
       "      <th>Q017</th>\n",
       "      <th>Q018</th>\n",
       "      <th>Q019</th>\n",
       "      <th>Q020</th>\n",
       "      <th>Q021</th>\n",
       "      <th>Q022</th>\n",
       "      <th>Q023</th>\n",
       "      <th>Q024</th>\n",
       "      <th>Q025</th>\n",
       "      <th>pai_possui_superior</th>\n",
       "      <th>mae_possui_superior</th>\n",
       "      <th>renda_familiar</th>\n",
       "    </tr>\n",
       "  </thead>\n",
       "  <tbody>\n",
       "    <tr>\n",
       "      <th>0</th>\n",
       "      <td>11</td>\n",
       "      <td>F</td>\n",
       "      <td>1</td>\n",
       "      <td>2</td>\n",
       "      <td>1</td>\n",
       "      <td>1</td>\n",
       "      <td>11</td>\n",
       "      <td>1</td>\n",
       "      <td>NaN</td>\n",
       "      <td>0</td>\n",
       "      <td>None</td>\n",
       "      <td>NaN</td>\n",
       "      <td>NaN</td>\n",
       "      <td>NaN</td>\n",
       "      <td>PA</td>\n",
       "      <td>0</td>\n",
       "      <td>0</td>\n",
       "      <td>0</td>\n",
       "      <td>0</td>\n",
       "      <td>NaN</td>\n",
       "      <td>NaN</td>\n",
       "      <td>NaN</td>\n",
       "      <td>NaN</td>\n",
       "      <td>1</td>\n",
       "      <td>NaN</td>\n",
       "      <td>NaN</td>\n",
       "      <td>NaN</td>\n",
       "      <td>NaN</td>\n",
       "      <td>NaN</td>\n",
       "      <td>NaN</td>\n",
       "      <td>NaN</td>\n",
       "      <td>None</td>\n",
       "      <td>None</td>\n",
       "      <td>None</td>\n",
       "      <td>None</td>\n",
       "      <td>NaN</td>\n",
       "      <td>None</td>\n",
       "      <td>None</td>\n",
       "      <td>None</td>\n",
       "      <td>None</td>\n",
       "      <td>None</td>\n",
       "      <td>None</td>\n",
       "      <td>None</td>\n",
       "      <td>None</td>\n",
       "      <td>None</td>\n",
       "      <td>None</td>\n",
       "      <td>None</td>\n",
       "      <td>None</td>\n",
       "      <td>None</td>\n",
       "      <td>None</td>\n",
       "      <td>None</td>\n",
       "      <td>None</td>\n",
       "      <td>None</td>\n",
       "      <td>None</td>\n",
       "      <td>None</td>\n",
       "      <td>None</td>\n",
       "      <td>False</td>\n",
       "      <td>False</td>\n",
       "      <td>NaN</td>\n",
       "    </tr>\n",
       "    <tr>\n",
       "      <th>1</th>\n",
       "      <td>11</td>\n",
       "      <td>M</td>\n",
       "      <td>2</td>\n",
       "      <td>3</td>\n",
       "      <td>1</td>\n",
       "      <td>1</td>\n",
       "      <td>11</td>\n",
       "      <td>1</td>\n",
       "      <td>NaN</td>\n",
       "      <td>0</td>\n",
       "      <td>None</td>\n",
       "      <td>NaN</td>\n",
       "      <td>NaN</td>\n",
       "      <td>NaN</td>\n",
       "      <td>RN</td>\n",
       "      <td>1</td>\n",
       "      <td>1</td>\n",
       "      <td>1</td>\n",
       "      <td>1</td>\n",
       "      <td>604.10</td>\n",
       "      <td>661.70</td>\n",
       "      <td>595.30</td>\n",
       "      <td>711.30</td>\n",
       "      <td>1</td>\n",
       "      <td>1.00</td>\n",
       "      <td>120.00</td>\n",
       "      <td>120.00</td>\n",
       "      <td>120.00</td>\n",
       "      <td>120.00</td>\n",
       "      <td>100.00</td>\n",
       "      <td>580.00</td>\n",
       "      <td>None</td>\n",
       "      <td>None</td>\n",
       "      <td>None</td>\n",
       "      <td>None</td>\n",
       "      <td>NaN</td>\n",
       "      <td>None</td>\n",
       "      <td>None</td>\n",
       "      <td>None</td>\n",
       "      <td>None</td>\n",
       "      <td>None</td>\n",
       "      <td>None</td>\n",
       "      <td>None</td>\n",
       "      <td>None</td>\n",
       "      <td>None</td>\n",
       "      <td>None</td>\n",
       "      <td>None</td>\n",
       "      <td>None</td>\n",
       "      <td>None</td>\n",
       "      <td>None</td>\n",
       "      <td>None</td>\n",
       "      <td>None</td>\n",
       "      <td>None</td>\n",
       "      <td>None</td>\n",
       "      <td>None</td>\n",
       "      <td>None</td>\n",
       "      <td>False</td>\n",
       "      <td>False</td>\n",
       "      <td>NaN</td>\n",
       "    </tr>\n",
       "    <tr>\n",
       "      <th>2</th>\n",
       "      <td>4</td>\n",
       "      <td>F</td>\n",
       "      <td>2</td>\n",
       "      <td>3</td>\n",
       "      <td>2</td>\n",
       "      <td>2</td>\n",
       "      <td>0</td>\n",
       "      <td>2</td>\n",
       "      <td>1.00</td>\n",
       "      <td>0</td>\n",
       "      <td>BA</td>\n",
       "      <td>2.00</td>\n",
       "      <td>1.00</td>\n",
       "      <td>1.00</td>\n",
       "      <td>BA</td>\n",
       "      <td>0</td>\n",
       "      <td>0</td>\n",
       "      <td>0</td>\n",
       "      <td>0</td>\n",
       "      <td>NaN</td>\n",
       "      <td>NaN</td>\n",
       "      <td>NaN</td>\n",
       "      <td>NaN</td>\n",
       "      <td>0</td>\n",
       "      <td>NaN</td>\n",
       "      <td>NaN</td>\n",
       "      <td>NaN</td>\n",
       "      <td>NaN</td>\n",
       "      <td>NaN</td>\n",
       "      <td>NaN</td>\n",
       "      <td>NaN</td>\n",
       "      <td>B</td>\n",
       "      <td>C</td>\n",
       "      <td>A</td>\n",
       "      <td>D</td>\n",
       "      <td>3.00</td>\n",
       "      <td>B</td>\n",
       "      <td>A</td>\n",
       "      <td>B</td>\n",
       "      <td>A</td>\n",
       "      <td>A</td>\n",
       "      <td>A</td>\n",
       "      <td>B</td>\n",
       "      <td>A</td>\n",
       "      <td>B</td>\n",
       "      <td>A</td>\n",
       "      <td>B</td>\n",
       "      <td>A</td>\n",
       "      <td>A</td>\n",
       "      <td>B</td>\n",
       "      <td>A</td>\n",
       "      <td>A</td>\n",
       "      <td>A</td>\n",
       "      <td>A</td>\n",
       "      <td>A</td>\n",
       "      <td>A</td>\n",
       "      <td>False</td>\n",
       "      <td>False</td>\n",
       "      <td>1.00</td>\n",
       "    </tr>\n",
       "    <tr>\n",
       "      <th>3</th>\n",
       "      <td>2</td>\n",
       "      <td>M</td>\n",
       "      <td>1</td>\n",
       "      <td>3</td>\n",
       "      <td>1</td>\n",
       "      <td>2</td>\n",
       "      <td>0</td>\n",
       "      <td>2</td>\n",
       "      <td>1.00</td>\n",
       "      <td>0</td>\n",
       "      <td>SP</td>\n",
       "      <td>3.00</td>\n",
       "      <td>1.00</td>\n",
       "      <td>1.00</td>\n",
       "      <td>SP</td>\n",
       "      <td>1</td>\n",
       "      <td>1</td>\n",
       "      <td>1</td>\n",
       "      <td>1</td>\n",
       "      <td>620.80</td>\n",
       "      <td>675.00</td>\n",
       "      <td>624.20</td>\n",
       "      <td>759.40</td>\n",
       "      <td>0</td>\n",
       "      <td>1.00</td>\n",
       "      <td>140.00</td>\n",
       "      <td>200.00</td>\n",
       "      <td>140.00</td>\n",
       "      <td>120.00</td>\n",
       "      <td>160.00</td>\n",
       "      <td>760.00</td>\n",
       "      <td>None</td>\n",
       "      <td>None</td>\n",
       "      <td>None</td>\n",
       "      <td>None</td>\n",
       "      <td>NaN</td>\n",
       "      <td>None</td>\n",
       "      <td>None</td>\n",
       "      <td>None</td>\n",
       "      <td>None</td>\n",
       "      <td>None</td>\n",
       "      <td>None</td>\n",
       "      <td>None</td>\n",
       "      <td>None</td>\n",
       "      <td>None</td>\n",
       "      <td>None</td>\n",
       "      <td>None</td>\n",
       "      <td>None</td>\n",
       "      <td>None</td>\n",
       "      <td>None</td>\n",
       "      <td>None</td>\n",
       "      <td>None</td>\n",
       "      <td>None</td>\n",
       "      <td>None</td>\n",
       "      <td>None</td>\n",
       "      <td>None</td>\n",
       "      <td>False</td>\n",
       "      <td>False</td>\n",
       "      <td>NaN</td>\n",
       "    </tr>\n",
       "    <tr>\n",
       "      <th>4</th>\n",
       "      <td>4</td>\n",
       "      <td>F</td>\n",
       "      <td>1</td>\n",
       "      <td>3</td>\n",
       "      <td>2</td>\n",
       "      <td>1</td>\n",
       "      <td>1</td>\n",
       "      <td>1</td>\n",
       "      <td>NaN</td>\n",
       "      <td>0</td>\n",
       "      <td>None</td>\n",
       "      <td>NaN</td>\n",
       "      <td>NaN</td>\n",
       "      <td>NaN</td>\n",
       "      <td>MG</td>\n",
       "      <td>0</td>\n",
       "      <td>0</td>\n",
       "      <td>0</td>\n",
       "      <td>0</td>\n",
       "      <td>NaN</td>\n",
       "      <td>NaN</td>\n",
       "      <td>NaN</td>\n",
       "      <td>NaN</td>\n",
       "      <td>1</td>\n",
       "      <td>NaN</td>\n",
       "      <td>NaN</td>\n",
       "      <td>NaN</td>\n",
       "      <td>NaN</td>\n",
       "      <td>NaN</td>\n",
       "      <td>NaN</td>\n",
       "      <td>NaN</td>\n",
       "      <td>B</td>\n",
       "      <td>G</td>\n",
       "      <td>B</td>\n",
       "      <td>B</td>\n",
       "      <td>3.00</td>\n",
       "      <td>B</td>\n",
       "      <td>A</td>\n",
       "      <td>B</td>\n",
       "      <td>D</td>\n",
       "      <td>A</td>\n",
       "      <td>A</td>\n",
       "      <td>B</td>\n",
       "      <td>A</td>\n",
       "      <td>B</td>\n",
       "      <td>A</td>\n",
       "      <td>A</td>\n",
       "      <td>A</td>\n",
       "      <td>A</td>\n",
       "      <td>B</td>\n",
       "      <td>A</td>\n",
       "      <td>B</td>\n",
       "      <td>B</td>\n",
       "      <td>A</td>\n",
       "      <td>A</td>\n",
       "      <td>B</td>\n",
       "      <td>False</td>\n",
       "      <td>True</td>\n",
       "      <td>1.00</td>\n",
       "    </tr>\n",
       "  </tbody>\n",
       "</table>\n",
       "</div>"
      ],
      "text/plain": [
       "   TP_FAIXA_ETARIA TP_SEXO  TP_ESTADO_CIVIL  TP_COR_RACA  TP_NACIONALIDADE  \\\n",
       "0               11       F                1            2                 1   \n",
       "1               11       M                2            3                 1   \n",
       "2                4       F                2            3                 2   \n",
       "3                2       M                1            3                 1   \n",
       "4                4       F                1            3                 2   \n",
       "\n",
       "   TP_ST_CONCLUSAO  TP_ANO_CONCLUIU  TP_ESCOLA  TP_ENSINO  IN_TREINEIRO  \\\n",
       "0                1               11          1        NaN             0   \n",
       "1                1               11          1        NaN             0   \n",
       "2                2                0          2       1.00             0   \n",
       "3                2                0          2       1.00             0   \n",
       "4                1                1          1        NaN             0   \n",
       "\n",
       "  SG_UF_ESC  TP_DEPENDENCIA_ADM_ESC  TP_LOCALIZACAO_ESC  TP_SIT_FUNC_ESC  \\\n",
       "0      None                     NaN                 NaN              NaN   \n",
       "1      None                     NaN                 NaN              NaN   \n",
       "2        BA                    2.00                1.00             1.00   \n",
       "3        SP                    3.00                1.00             1.00   \n",
       "4      None                     NaN                 NaN              NaN   \n",
       "\n",
       "  SG_UF_PROVA  TP_PRESENCA_CN  TP_PRESENCA_CH  TP_PRESENCA_LC  TP_PRESENCA_MT  \\\n",
       "0          PA               0               0               0               0   \n",
       "1          RN               1               1               1               1   \n",
       "2          BA               0               0               0               0   \n",
       "3          SP               1               1               1               1   \n",
       "4          MG               0               0               0               0   \n",
       "\n",
       "   NU_NOTA_CN  NU_NOTA_CH  NU_NOTA_LC  NU_NOTA_MT  TP_LINGUA  \\\n",
       "0         NaN         NaN         NaN         NaN          1   \n",
       "1      604.10      661.70      595.30      711.30          1   \n",
       "2         NaN         NaN         NaN         NaN          0   \n",
       "3      620.80      675.00      624.20      759.40          0   \n",
       "4         NaN         NaN         NaN         NaN          1   \n",
       "\n",
       "   TP_STATUS_REDACAO  NU_NOTA_COMP1  NU_NOTA_COMP2  NU_NOTA_COMP3  \\\n",
       "0                NaN            NaN            NaN            NaN   \n",
       "1               1.00         120.00         120.00         120.00   \n",
       "2                NaN            NaN            NaN            NaN   \n",
       "3               1.00         140.00         200.00         140.00   \n",
       "4                NaN            NaN            NaN            NaN   \n",
       "\n",
       "   NU_NOTA_COMP4  NU_NOTA_COMP5  NU_NOTA_REDACAO  Q001  Q002  Q003  Q004  \\\n",
       "0            NaN            NaN              NaN  None  None  None  None   \n",
       "1         120.00         100.00           580.00  None  None  None  None   \n",
       "2            NaN            NaN              NaN     B     C     A     D   \n",
       "3         120.00         160.00           760.00  None  None  None  None   \n",
       "4            NaN            NaN              NaN     B     G     B     B   \n",
       "\n",
       "   Q005  Q006  Q007  Q008  Q009  Q010  Q011  Q012  Q013  Q014  Q015  Q016  \\\n",
       "0   NaN  None  None  None  None  None  None  None  None  None  None  None   \n",
       "1   NaN  None  None  None  None  None  None  None  None  None  None  None   \n",
       "2  3.00     B     A     B     A     A     A     B     A     B     A     B   \n",
       "3   NaN  None  None  None  None  None  None  None  None  None  None  None   \n",
       "4  3.00     B     A     B     D     A     A     B     A     B     A     A   \n",
       "\n",
       "   Q017  Q018  Q019  Q020  Q021  Q022  Q023  Q024  Q025  pai_possui_superior  \\\n",
       "0  None  None  None  None  None  None  None  None  None                False   \n",
       "1  None  None  None  None  None  None  None  None  None                False   \n",
       "2     A     A     B     A     A     A     A     A     A                False   \n",
       "3  None  None  None  None  None  None  None  None  None                False   \n",
       "4     A     A     B     A     B     B     A     A     B                False   \n",
       "\n",
       "   mae_possui_superior  renda_familiar  \n",
       "0                False             NaN  \n",
       "1                False             NaN  \n",
       "2                False            1.00  \n",
       "3                False             NaN  \n",
       "4                 True            1.00  "
      ]
     },
     "execution_count": 91,
     "metadata": {},
     "output_type": "execute_result"
    }
   ],
   "source": [
    "# funcao de mapeamento\n",
    "df_enem['renda_familiar'] = df_enem['Q006'].map(dicionario_renda)\n",
    "\n",
    "df_enem.head()"
   ]
  },
  {
   "cell_type": "code",
   "execution_count": 217,
   "id": "16b59871",
   "metadata": {},
   "outputs": [
    {
     "data": {
      "text/plain": [
       "[Text(0, 0.5, 'Quantidade')]"
      ]
     },
     "execution_count": 217,
     "metadata": {},
     "output_type": "execute_result"
    },
    {
     "data": {
      "image/png": "[encoded data removed]",
      "text/plain": [
       "<Figure size 700x500 with 1 Axes>"
      ]
     },
     "metadata": {},
     "output_type": "display_data"
    }
   ],
   "source": [
    "ax=sns.countplot(data=df_enem, x='renda_familiar', palette='colorblind')\n",
    "ax.set(xlabel='Renda Familiar')\n",
    "ax.set(ylabel='Quantidade')"
   ]
  },
  {
   "cell_type": "markdown",
   "id": "2c2f3f81",
   "metadata": {},
   "source": [
    "# <a>Relacionando notas com características dos candidatos</a>\n",
    "\n",
    "Avaliar se as notas dos candidatos é diferente com relação a:\n",
    "- sexo\n",
    "- raça\n",
    "- estado civil\n",
    "- escolaridade dos pais\n",
    "- renda familiar\n"
   ]
  },
  {
   "cell_type": "code",
   "execution_count": 103,
   "id": "a772cd00",
   "metadata": {},
   "outputs": [
    {
     "data": {
      "text/html": [
       "<div>\n",
       "<style scoped>\n",
       "    .dataframe tbody tr th:only-of-type {\n",
       "        vertical-align: middle;\n",
       "    }\n",
       "\n",
       "    .dataframe tbody tr th {\n",
       "        vertical-align: top;\n",
       "    }\n",
       "\n",
       "    .dataframe thead th {\n",
       "        text-align: right;\n",
       "    }\n",
       "</style>\n",
       "<table border=\"1\" class=\"dataframe\">\n",
       "  <thead>\n",
       "    <tr style=\"text-align: right;\">\n",
       "      <th></th>\n",
       "      <th>NU_NOTA_CN</th>\n",
       "      <th>NU_NOTA_CH</th>\n",
       "      <th>NU_NOTA_LC</th>\n",
       "      <th>NU_NOTA_MT</th>\n",
       "      <th>NU_NOTA_REDACAO</th>\n",
       "      <th>TP_SEXO</th>\n",
       "    </tr>\n",
       "  </thead>\n",
       "  <tbody>\n",
       "    <tr>\n",
       "      <th>0</th>\n",
       "      <td>NaN</td>\n",
       "      <td>NaN</td>\n",
       "      <td>NaN</td>\n",
       "      <td>NaN</td>\n",
       "      <td>NaN</td>\n",
       "      <td>F</td>\n",
       "    </tr>\n",
       "    <tr>\n",
       "      <th>1</th>\n",
       "      <td>604.10</td>\n",
       "      <td>661.70</td>\n",
       "      <td>595.30</td>\n",
       "      <td>711.30</td>\n",
       "      <td>580.00</td>\n",
       "      <td>M</td>\n",
       "    </tr>\n",
       "    <tr>\n",
       "      <th>2</th>\n",
       "      <td>NaN</td>\n",
       "      <td>NaN</td>\n",
       "      <td>NaN</td>\n",
       "      <td>NaN</td>\n",
       "      <td>NaN</td>\n",
       "      <td>F</td>\n",
       "    </tr>\n",
       "    <tr>\n",
       "      <th>3</th>\n",
       "      <td>620.80</td>\n",
       "      <td>675.00</td>\n",
       "      <td>624.20</td>\n",
       "      <td>759.40</td>\n",
       "      <td>760.00</td>\n",
       "      <td>M</td>\n",
       "    </tr>\n",
       "    <tr>\n",
       "      <th>4</th>\n",
       "      <td>NaN</td>\n",
       "      <td>NaN</td>\n",
       "      <td>NaN</td>\n",
       "      <td>NaN</td>\n",
       "      <td>NaN</td>\n",
       "      <td>F</td>\n",
       "    </tr>\n",
       "    <tr>\n",
       "      <th>5</th>\n",
       "      <td>498.10</td>\n",
       "      <td>604.70</td>\n",
       "      <td>505.40</td>\n",
       "      <td>526.70</td>\n",
       "      <td>700.00</td>\n",
       "      <td>F</td>\n",
       "    </tr>\n",
       "    <tr>\n",
       "      <th>6</th>\n",
       "      <td>NaN</td>\n",
       "      <td>NaN</td>\n",
       "      <td>NaN</td>\n",
       "      <td>NaN</td>\n",
       "      <td>NaN</td>\n",
       "      <td>M</td>\n",
       "    </tr>\n",
       "    <tr>\n",
       "      <th>7</th>\n",
       "      <td>604.60</td>\n",
       "      <td>604.80</td>\n",
       "      <td>562.10</td>\n",
       "      <td>753.20</td>\n",
       "      <td>600.00</td>\n",
       "      <td>M</td>\n",
       "    </tr>\n",
       "    <tr>\n",
       "      <th>8</th>\n",
       "      <td>439.70</td>\n",
       "      <td>383.50</td>\n",
       "      <td>486.20</td>\n",
       "      <td>448.50</td>\n",
       "      <td>600.00</td>\n",
       "      <td>F</td>\n",
       "    </tr>\n",
       "    <tr>\n",
       "      <th>9</th>\n",
       "      <td>NaN</td>\n",
       "      <td>NaN</td>\n",
       "      <td>NaN</td>\n",
       "      <td>NaN</td>\n",
       "      <td>NaN</td>\n",
       "      <td>M</td>\n",
       "    </tr>\n",
       "  </tbody>\n",
       "</table>\n",
       "</div>"
      ],
      "text/plain": [
       "   NU_NOTA_CN  NU_NOTA_CH  NU_NOTA_LC  NU_NOTA_MT  NU_NOTA_REDACAO TP_SEXO\n",
       "0         NaN         NaN         NaN         NaN              NaN       F\n",
       "1      604.10      661.70      595.30      711.30           580.00       M\n",
       "2         NaN         NaN         NaN         NaN              NaN       F\n",
       "3      620.80      675.00      624.20      759.40           760.00       M\n",
       "4         NaN         NaN         NaN         NaN              NaN       F\n",
       "5      498.10      604.70      505.40      526.70           700.00       F\n",
       "6         NaN         NaN         NaN         NaN              NaN       M\n",
       "7      604.60      604.80      562.10      753.20           600.00       M\n",
       "8      439.70      383.50      486.20      448.50           600.00       F\n",
       "9         NaN         NaN         NaN         NaN              NaN       M"
      ]
     },
     "execution_count": 103,
     "metadata": {},
     "output_type": "execute_result"
    }
   ],
   "source": [
    "# Criando um df com as notas e sexo dos candidatos\n",
    "df_sexo = df_enem.loc[:, coluna_notas + ['TP_SEXO']]\n",
    "df_sexo.head(10)"
   ]
  },
  {
   "cell_type": "markdown",
   "id": "5167fdf1",
   "metadata": {},
   "source": [
    "## Analisando as notas por sexo\n"
   ]
  },
  {
   "cell_type": "code",
   "execution_count": 218,
   "id": "e739025e",
   "metadata": {},
   "outputs": [
    {
     "data": {
      "image/png": "[encoded data removed]",
      "text/plain": [
       "<Figure size 800x600 with 4 Axes>"
      ]
     },
     "metadata": {},
     "output_type": "display_data"
    }
   ],
   "source": [
    "sns.set_style('darkgrid')\n",
    "figura, graficos = plt.subplots(1, 4, sharey=True, figsize=(8, 6))\n",
    "plt.tight_layout()\n",
    "\n",
    "for i in range(4):\n",
    "    coluna_1 = coluna_notas[i]\n",
    "    sns.boxplot(data=df_sexo, y=coluna_1, x='TP_SEXO', ax=graficos[i], palette='colorblind')"
   ]
  },
  {
   "cell_type": "markdown",
   "id": "a9f2f9f2",
   "metadata": {},
   "source": [
    "## Analisando as notas por raça\n"
   ]
  },
  {
   "cell_type": "code",
   "execution_count": 106,
   "id": "fe97aa02",
   "metadata": {},
   "outputs": [
    {
     "data": {
      "text/html": [
       "<div>\n",
       "<style scoped>\n",
       "    .dataframe tbody tr th:only-of-type {\n",
       "        vertical-align: middle;\n",
       "    }\n",
       "\n",
       "    .dataframe tbody tr th {\n",
       "        vertical-align: top;\n",
       "    }\n",
       "\n",
       "    .dataframe thead th {\n",
       "        text-align: right;\n",
       "    }\n",
       "</style>\n",
       "<table border=\"1\" class=\"dataframe\">\n",
       "  <thead>\n",
       "    <tr style=\"text-align: right;\">\n",
       "      <th></th>\n",
       "      <th>NU_NOTA_CN</th>\n",
       "      <th>NU_NOTA_CH</th>\n",
       "      <th>NU_NOTA_LC</th>\n",
       "      <th>NU_NOTA_MT</th>\n",
       "      <th>NU_NOTA_REDACAO</th>\n",
       "      <th>TP_COR_RACA</th>\n",
       "    </tr>\n",
       "  </thead>\n",
       "  <tbody>\n",
       "    <tr>\n",
       "      <th>0</th>\n",
       "      <td>NaN</td>\n",
       "      <td>NaN</td>\n",
       "      <td>NaN</td>\n",
       "      <td>NaN</td>\n",
       "      <td>NaN</td>\n",
       "      <td>2</td>\n",
       "    </tr>\n",
       "    <tr>\n",
       "      <th>1</th>\n",
       "      <td>604.10</td>\n",
       "      <td>661.70</td>\n",
       "      <td>595.30</td>\n",
       "      <td>711.30</td>\n",
       "      <td>580.00</td>\n",
       "      <td>3</td>\n",
       "    </tr>\n",
       "    <tr>\n",
       "      <th>2</th>\n",
       "      <td>NaN</td>\n",
       "      <td>NaN</td>\n",
       "      <td>NaN</td>\n",
       "      <td>NaN</td>\n",
       "      <td>NaN</td>\n",
       "      <td>3</td>\n",
       "    </tr>\n",
       "    <tr>\n",
       "      <th>3</th>\n",
       "      <td>620.80</td>\n",
       "      <td>675.00</td>\n",
       "      <td>624.20</td>\n",
       "      <td>759.40</td>\n",
       "      <td>760.00</td>\n",
       "      <td>3</td>\n",
       "    </tr>\n",
       "    <tr>\n",
       "      <th>4</th>\n",
       "      <td>NaN</td>\n",
       "      <td>NaN</td>\n",
       "      <td>NaN</td>\n",
       "      <td>NaN</td>\n",
       "      <td>NaN</td>\n",
       "      <td>3</td>\n",
       "    </tr>\n",
       "    <tr>\n",
       "      <th>5</th>\n",
       "      <td>498.10</td>\n",
       "      <td>604.70</td>\n",
       "      <td>505.40</td>\n",
       "      <td>526.70</td>\n",
       "      <td>700.00</td>\n",
       "      <td>3</td>\n",
       "    </tr>\n",
       "    <tr>\n",
       "      <th>6</th>\n",
       "      <td>NaN</td>\n",
       "      <td>NaN</td>\n",
       "      <td>NaN</td>\n",
       "      <td>NaN</td>\n",
       "      <td>NaN</td>\n",
       "      <td>3</td>\n",
       "    </tr>\n",
       "    <tr>\n",
       "      <th>7</th>\n",
       "      <td>604.60</td>\n",
       "      <td>604.80</td>\n",
       "      <td>562.10</td>\n",
       "      <td>753.20</td>\n",
       "      <td>600.00</td>\n",
       "      <td>1</td>\n",
       "    </tr>\n",
       "    <tr>\n",
       "      <th>8</th>\n",
       "      <td>439.70</td>\n",
       "      <td>383.50</td>\n",
       "      <td>486.20</td>\n",
       "      <td>448.50</td>\n",
       "      <td>600.00</td>\n",
       "      <td>3</td>\n",
       "    </tr>\n",
       "    <tr>\n",
       "      <th>9</th>\n",
       "      <td>NaN</td>\n",
       "      <td>NaN</td>\n",
       "      <td>NaN</td>\n",
       "      <td>NaN</td>\n",
       "      <td>NaN</td>\n",
       "      <td>2</td>\n",
       "    </tr>\n",
       "  </tbody>\n",
       "</table>\n",
       "</div>"
      ],
      "text/plain": [
       "   NU_NOTA_CN  NU_NOTA_CH  NU_NOTA_LC  NU_NOTA_MT  NU_NOTA_REDACAO  \\\n",
       "0         NaN         NaN         NaN         NaN              NaN   \n",
       "1      604.10      661.70      595.30      711.30           580.00   \n",
       "2         NaN         NaN         NaN         NaN              NaN   \n",
       "3      620.80      675.00      624.20      759.40           760.00   \n",
       "4         NaN         NaN         NaN         NaN              NaN   \n",
       "5      498.10      604.70      505.40      526.70           700.00   \n",
       "6         NaN         NaN         NaN         NaN              NaN   \n",
       "7      604.60      604.80      562.10      753.20           600.00   \n",
       "8      439.70      383.50      486.20      448.50           600.00   \n",
       "9         NaN         NaN         NaN         NaN              NaN   \n",
       "\n",
       "   TP_COR_RACA  \n",
       "0            2  \n",
       "1            3  \n",
       "2            3  \n",
       "3            3  \n",
       "4            3  \n",
       "5            3  \n",
       "6            3  \n",
       "7            1  \n",
       "8            3  \n",
       "9            2  "
      ]
     },
     "execution_count": 106,
     "metadata": {},
     "output_type": "execute_result"
    }
   ],
   "source": [
    "# Criando um df com as notas e raças dos candidatos\n",
    "df_raca = df_enem.loc[:, coluna_notas +['TP_COR_RACA']]\n",
    "df_raca.head(10)"
   ]
  },
  {
   "cell_type": "code",
   "execution_count": 220,
   "id": "6ab12e4f",
   "metadata": {},
   "outputs": [
    {
     "data": {
      "image/png": "[encoded data removed]",
      "text/plain": [
       "<Figure size 1000x600 with 4 Axes>"
      ]
     },
     "metadata": {},
     "output_type": "display_data"
    }
   ],
   "source": [
    "sns.set_style('darkgrid')\n",
    "figura, graficos = plt.subplots(2, 2, sharey=True, figsize=(10, 6))\n",
    "plt.tight_layout()\n",
    "\n",
    "for i in range(2):\n",
    "    coluna_1 = coluna_notas[i*2]\n",
    "    coluna_2 = coluna_notas[1*2+1]\n",
    "    sns.boxplot(data=df_raca, y=coluna_1, x='TP_COR_RACA', ax=graficos[i][0], palette='colorblind')\n",
    "    sns.boxplot(data=df_raca, y=coluna_2, x='TP_COR_RACA', ax=graficos[i][1], palette='colorblind')"
   ]
  },
  {
   "cell_type": "markdown",
   "id": "299056d7",
   "metadata": {},
   "source": [
    "## Analisando as notas por nivel de instrucao dos pais\n"
   ]
  },
  {
   "cell_type": "code",
   "execution_count": 119,
   "id": "376b5df6",
   "metadata": {},
   "outputs": [
    {
     "data": {
      "text/html": [
       "<div>\n",
       "<style scoped>\n",
       "    .dataframe tbody tr th:only-of-type {\n",
       "        vertical-align: middle;\n",
       "    }\n",
       "\n",
       "    .dataframe tbody tr th {\n",
       "        vertical-align: top;\n",
       "    }\n",
       "\n",
       "    .dataframe thead th {\n",
       "        text-align: right;\n",
       "    }\n",
       "</style>\n",
       "<table border=\"1\" class=\"dataframe\">\n",
       "  <thead>\n",
       "    <tr style=\"text-align: right;\">\n",
       "      <th></th>\n",
       "      <th>NU_NOTA_CN</th>\n",
       "      <th>NU_NOTA_CH</th>\n",
       "      <th>NU_NOTA_LC</th>\n",
       "      <th>NU_NOTA_MT</th>\n",
       "      <th>NU_NOTA_REDACAO</th>\n",
       "      <th>pai_possui_superior</th>\n",
       "      <th>mae_possui_superior</th>\n",
       "    </tr>\n",
       "  </thead>\n",
       "  <tbody>\n",
       "    <tr>\n",
       "      <th>0</th>\n",
       "      <td>NaN</td>\n",
       "      <td>NaN</td>\n",
       "      <td>NaN</td>\n",
       "      <td>NaN</td>\n",
       "      <td>NaN</td>\n",
       "      <td>False</td>\n",
       "      <td>False</td>\n",
       "    </tr>\n",
       "    <tr>\n",
       "      <th>1</th>\n",
       "      <td>604.10</td>\n",
       "      <td>661.70</td>\n",
       "      <td>595.30</td>\n",
       "      <td>711.30</td>\n",
       "      <td>580.00</td>\n",
       "      <td>False</td>\n",
       "      <td>False</td>\n",
       "    </tr>\n",
       "    <tr>\n",
       "      <th>2</th>\n",
       "      <td>NaN</td>\n",
       "      <td>NaN</td>\n",
       "      <td>NaN</td>\n",
       "      <td>NaN</td>\n",
       "      <td>NaN</td>\n",
       "      <td>False</td>\n",
       "      <td>False</td>\n",
       "    </tr>\n",
       "    <tr>\n",
       "      <th>3</th>\n",
       "      <td>620.80</td>\n",
       "      <td>675.00</td>\n",
       "      <td>624.20</td>\n",
       "      <td>759.40</td>\n",
       "      <td>760.00</td>\n",
       "      <td>False</td>\n",
       "      <td>False</td>\n",
       "    </tr>\n",
       "    <tr>\n",
       "      <th>4</th>\n",
       "      <td>NaN</td>\n",
       "      <td>NaN</td>\n",
       "      <td>NaN</td>\n",
       "      <td>NaN</td>\n",
       "      <td>NaN</td>\n",
       "      <td>False</td>\n",
       "      <td>True</td>\n",
       "    </tr>\n",
       "  </tbody>\n",
       "</table>\n",
       "</div>"
      ],
      "text/plain": [
       "   NU_NOTA_CN  NU_NOTA_CH  NU_NOTA_LC  NU_NOTA_MT  NU_NOTA_REDACAO  \\\n",
       "0         NaN         NaN         NaN         NaN              NaN   \n",
       "1      604.10      661.70      595.30      711.30           580.00   \n",
       "2         NaN         NaN         NaN         NaN              NaN   \n",
       "3      620.80      675.00      624.20      759.40           760.00   \n",
       "4         NaN         NaN         NaN         NaN              NaN   \n",
       "\n",
       "   pai_possui_superior  mae_possui_superior  \n",
       "0                False                False  \n",
       "1                False                False  \n",
       "2                False                False  \n",
       "3                False                False  \n",
       "4                False                 True  "
      ]
     },
     "execution_count": 119,
     "metadata": {},
     "output_type": "execute_result"
    }
   ],
   "source": [
    "# criando df com as notas e nível de instrucao dos pais e maes\n",
    "df_instrucao_pais = df_enem.loc[:, coluna_notas + ['pai_possui_superior', 'mae_possui_superior']]\n",
    "df_instrucao_pais.head()"
   ]
  },
  {
   "cell_type": "markdown",
   "id": "2ae1f6f2",
   "metadata": {},
   "source": [
    "### Notas por nível de instruçao do pai"
   ]
  },
  {
   "cell_type": "code",
   "execution_count": 120,
   "id": "09886d0a",
   "metadata": {},
   "outputs": [
    {
     "data": {
      "image/png": "[encoded data removed]",
      "text/plain": [
       "<Figure size 1000x400 with 4 Axes>"
      ]
     },
     "metadata": {},
     "output_type": "display_data"
    }
   ],
   "source": [
    "sns.set_style('darkgrid')\n",
    "figura, graficos = plt.subplots(1, 4, sharey=True, figsize=(10, 4))\n",
    "plt.tight_layout()\n",
    "\n",
    "for i in range(4):\n",
    "    coluna_1 = coluna_notas[i]\n",
    "    sns.boxplot(data=df_instrucao_pais, y=coluna_1, x='pai_possui_superior', ax=graficos[i])"
   ]
  },
  {
   "cell_type": "markdown",
   "id": "ef7f95fc",
   "metadata": {},
   "source": [
    "### Notas por nível de instruçao da mae"
   ]
  },
  {
   "cell_type": "code",
   "execution_count": 121,
   "id": "f29a113a",
   "metadata": {},
   "outputs": [
    {
     "data": {
      "image/png": "[encoded data removed]",
      "text/plain": [
       "<Figure size 1000x400 with 4 Axes>"
      ]
     },
     "metadata": {},
     "output_type": "display_data"
    }
   ],
   "source": [
    "sns.set_style('darkgrid')\n",
    "figura, graficos = plt.subplots(1, 4, sharey=True, figsize=(10, 4))\n",
    "plt.tight_layout()\n",
    "\n",
    "for i in range(4):\n",
    "    coluna_1 = coluna_notas[i]\n",
    "    sns.boxplot(data=df_instrucao_pais, y=coluna_1, x='mae_possui_superior', ax=graficos[i])"
   ]
  },
  {
   "cell_type": "markdown",
   "id": "bda6ca3b",
   "metadata": {},
   "source": [
    "## Analisando a renda familiar"
   ]
  },
  {
   "cell_type": "code",
   "execution_count": 126,
   "id": "4cf93dbf",
   "metadata": {},
   "outputs": [
    {
     "data": {
      "text/plain": [
       "<Axes: xlabel='renda_familiar', ylabel='NU_NOTA_CN'>"
      ]
     },
     "execution_count": 126,
     "metadata": {},
     "output_type": "execute_result"
    },
    {
     "data": {
      "image/png": "[encoded data removed]",
      "text/plain": [
       "<Figure size 640x480 with 1 Axes>"
      ]
     },
     "metadata": {},
     "output_type": "display_data"
    }
   ],
   "source": [
    "df_renda = df_enem.loc[:, coluna_notas + ['renda_familiar']]\n",
    "\n",
    "sns.scatterplot(data=df_renda, x='renda_familiar', y='NU_NOTA_CN')"
   ]
  },
  {
   "cell_type": "code",
   "execution_count": 129,
   "id": "12aa3e2a",
   "metadata": {},
   "outputs": [
    {
     "data": {
      "text/plain": [
       "<Axes: >"
      ]
     },
     "execution_count": 129,
     "metadata": {},
     "output_type": "execute_result"
    },
    {
     "data": {
      "image/png": "[encoded data removed]",
      "text/plain": [
       "<Figure size 640x480 with 2 Axes>"
      ]
     },
     "metadata": {},
     "output_type": "display_data"
    }
   ],
   "source": [
    "correlacoes_renda = df_renda.corr()\n",
    "sns.heatmap(correlacoes_renda)"
   ]
  },
  {
   "cell_type": "markdown",
   "id": "d21401bb",
   "metadata": {},
   "source": [
    "## <a> Conclusões </a>\n",
    "\n",
    "Depois de analisar os dados com o objetivo de avaliar possíveis relações entre características e notas dos candidatos, podemos afirmar que existe alguma evidência de que há correlações entre as notas:\n",
    "- raça - Indígenas tem uma média menor que todas as outras raças\n",
    "- escolaridade dos pais - Candidatos com pais com nível superior tem, em média, notas maiores, principalmente em matemática\n",
    "- renda familiar na nota de matemática - Existe uma correlaçao acima de 0.5 entre renda familiar e notas de matemática\n",
    "- nota de redaçao e nota de linguagens e codigos - Existe uma correlaçao proxima a 0.5 entre as notas de redacao e as notas de linguagens e codigos\n",
    "\n",
    "A maioria dos candidatos possui renda inferior a R$2.612,50\n",
    "\n",
    "O candidato médio do ENEM é mulher, com 18 anos, solteira, parda, com renda familiar inferior a R$1.567,50 com pai e mãe sem ensino superior completo."
   ]
  }
 ],
 "metadata": {
  "kernelspec": {
   "display_name": "Python 3 (ipykernel)",
   "language": "python",
   "name": "python3"
  },
  "language_info": {
   "codemirror_mode": {
    "name": "ipython",
    "version": 3
   },
   "file_extension": ".py",
   "mimetype": "text/x-python",
   "name": "python",
   "nbconvert_exporter": "python",
   "pygments_lexer": "ipython3",
   "version": "3.10.9"
  }
 },
 "nbformat": 4,
 "nbformat_minor": 5
}
